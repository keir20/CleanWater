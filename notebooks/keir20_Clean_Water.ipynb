{
 "cells": [
  {
   "cell_type": "markdown",
   "id": "16f8ee6e",
   "metadata": {},
   "source": [
    "# Data Cleaning"
   ]
  },
  {
   "cell_type": "code",
   "execution_count": 2,
   "id": "54826edc",
   "metadata": {},
   "outputs": [],
   "source": [
    "import numpy as np\n",
    "import pandas as pd\n",
    "import matplotlib.pyplot as plt\n",
    "import seaborn as sns\n",
    "from sklearn.preprocessing import StandardScaler, MinMaxScaler, RobustScaler\n",
    "from sklearn.model_selection import train_test_split\n",
    "from sklearn.pipeline import Pipeline, make_pipeline\n",
    "from sklearn.impute import SimpleImputer, KNNImputer\n",
    "from sklearn.inspection import permutation_importance\n",
    "from sklearn.linear_model import LogisticRegression\n",
    "from sklearn.compose import make_column_transformer, make_column_selector\n",
    "from sklearn.model_selection import GridSearchCV, RandomizedSearchCV\n",
    "from sklearn.ensemble import GradientBoostingClassifier\n",
    "from imblearn.under_sampling import RandomUnderSampler, InstanceHardnessThreshold, CondensedNearestNeighbour\n",
    "from imblearn.over_sampling import RandomOverSampler, SMOTE, ADASYN\n",
    "from imblearn.combine import SMOTEENN, SMOTETomek\n",
    "from sklearn.metrics import classification_report, confusion_matrix\n"
   ]
  },
  {
   "cell_type": "markdown",
   "id": "eaa581d9",
   "metadata": {},
   "source": [
    "## Description\n",
    "\n",
    "Content\n",
    "The water_potability.csv file contains water quality metrics for 3276 different water bodies.\n",
    "\n",
    "1. pH value:\n",
    "PH is an important parameter in evaluating the acid–base balance of water. It is also the indicator of acidic or alkaline condition of water status. WHO has recommended maximum permissible limit of pH from 6.5 to 8.5. The current investigation ranges were 6.52–6.83 which are in the range of WHO standards.\n",
    "\n",
    "\n",
    "2. Hardness:\n",
    "Hardness is mainly caused by calcium and magnesium salts. These salts are dissolved from geologic deposits through which water travels. The length of time water is in contact with hardness producing material helps determine how much hardness there is in raw water. Hardness was originally defined as the capacity of water to precipitate soap caused by Calcium and Magnesium.\n",
    "\n",
    "\n",
    "3. Solids (Total dissolved solids - TDS):\n",
    "Water has the ability to dissolve a wide range of inorganic and some organic minerals or salts such as potassium, calcium, sodium, bicarbonates, chlorides, magnesium, sulfates etc. These minerals produced un-wanted taste and diluted color in appearance of water. This is the important parameter for the use of water. The water with high TDS value indicates that water is highly mineralized. Desirable limit for TDS is 500 mg/l and maximum limit is 1000 mg/l which prescribed for drinking purpose.\n",
    "\n",
    "\n",
    "4. Chloramines:\n",
    "Chlorine and chloramine are the major disinfectants used in public water systems. Chloramines are most commonly formed when ammonia is added to chlorine to treat drinking water. Chlorine levels up to 4 milligrams per liter (mg/L or 4 parts per million (ppm)) are considered safe in drinking water.\n",
    "\n",
    "\n",
    "5. Sulfate:\n",
    "Sulfates are naturally occurring substances that are found in minerals, soil, and rocks. They are present in ambient air, groundwater, plants, and food. The principal commercial use of sulfate is in the chemical industry. Sulfate concentration in seawater is about 2,700 milligrams per liter (mg/L). It ranges from 3 to 30 mg/L in most freshwater supplies, although much higher concentrations (1000 mg/L) are found in some geographic locations.\n",
    "\n",
    "\n",
    "6. Conductivity:\n",
    "Pure water is not a good conductor of electric current rather’s a good insulator. Increase in ions concentration enhances the electrical conductivity of water. Generally, the amount of dissolved solids in water determines the electrical conductivity. Electrical conductivity (EC) actually measures the ionic process of a solution that enables it to transmit current. According to WHO standards, EC value should not exceeded 400 μS/cm.\n",
    "\n",
    "\n",
    "7. Organic_carbon:\n",
    "Total Organic Carbon (TOC) in source waters comes from decaying natural organic matter (NOM) as well as synthetic sources. TOC is a measure of the total amount of carbon in organic compounds in pure water. According to US EPA < 2 mg/L as TOC in treated / drinking water, and < 4 mg/Lit in source water which is use for treatment.\n",
    "\n",
    "\n",
    "8. Trihalomethanes:\n",
    "THMs are chemicals which may be found in water treated with chlorine. The concentration of THMs in drinking water varies according to the level of organic material in the water, the amount of chlorine required to treat the water, and the temperature of the water that is being treated. THM levels up to 80 ppm is considered safe in drinking water.\n",
    "\n",
    "\n",
    "9. Turbidity:\n",
    "The turbidity of water depends on the quantity of solid matter present in the suspended state. It is a measure of light emitting properties of water and the test is used to indicate the quality of waste discharge with respect to colloidal matter. The mean turbidity value obtained for Wondo Genet Campus (0.98 NTU) is lower than the WHO recommended value of 5.00 NTU.\n",
    "\n",
    "\n",
    "10. Potability:\n",
    "Indicates if water is safe for human consumption where 1 means Potable and 0 means Not potable."
   ]
  },
  {
   "cell_type": "markdown",
   "id": "6bda2735",
   "metadata": {},
   "source": [
    "### About this file\n",
    "\n",
    "ppm: parts per million\n",
    "μg/L: microgram per litre\n",
    "mg/L: milligram per litre\n",
    "\n",
    "Column description:\n",
    "\n",
    "1. ph: pH of 1. water (0 to 14).\n",
    "2. Hardness: Capacity of water to precipitate soap in mg/L.\n",
    "3. Solids: Total dissolved solids in ppm.\n",
    "4. Chloramines: Amount of Chloramines in ppm.\n",
    "5. Sulfate: Amount of Sulfates dissolved in mg/L.\n",
    "6. Conductivity: Electrical conductivity of water in μS/cm.\n",
    "7. Organic_carbon: Amount of organic carbon in ppm.\n",
    "8. Trihalomethanes: Amount of Trihalomethanes in μg/L.\n",
    "9. Turbidity: Measure of light emiting property of water in NTU.\n",
    "10. Potability: Indicates if water is safe for human consumption. Potable -1 and Not potable -0"
   ]
  },
  {
   "cell_type": "markdown",
   "id": "652aadd1",
   "metadata": {},
   "source": [
    "## Data exploration"
   ]
  },
  {
   "cell_type": "code",
   "execution_count": 3,
   "id": "7b608100",
   "metadata": {},
   "outputs": [],
   "source": [
    "df = pd.read_csv('../raw_data/water_potability.csv')"
   ]
  },
  {
   "cell_type": "code",
   "execution_count": 4,
   "id": "4b13d3d4",
   "metadata": {
    "scrolled": true
   },
   "outputs": [
    {
     "data": {
      "text/html": [
       "<div>\n",
       "<style scoped>\n",
       "    .dataframe tbody tr th:only-of-type {\n",
       "        vertical-align: middle;\n",
       "    }\n",
       "\n",
       "    .dataframe tbody tr th {\n",
       "        vertical-align: top;\n",
       "    }\n",
       "\n",
       "    .dataframe thead th {\n",
       "        text-align: right;\n",
       "    }\n",
       "</style>\n",
       "<table border=\"1\" class=\"dataframe\">\n",
       "  <thead>\n",
       "    <tr style=\"text-align: right;\">\n",
       "      <th></th>\n",
       "      <th>ph</th>\n",
       "      <th>Hardness</th>\n",
       "      <th>Solids</th>\n",
       "      <th>Chloramines</th>\n",
       "      <th>Sulfate</th>\n",
       "      <th>Conductivity</th>\n",
       "      <th>Organic_carbon</th>\n",
       "      <th>Trihalomethanes</th>\n",
       "      <th>Turbidity</th>\n",
       "      <th>Potability</th>\n",
       "    </tr>\n",
       "  </thead>\n",
       "  <tbody>\n",
       "    <tr>\n",
       "      <th>0</th>\n",
       "      <td>NaN</td>\n",
       "      <td>204.890455</td>\n",
       "      <td>20791.318981</td>\n",
       "      <td>7.300212</td>\n",
       "      <td>368.516441</td>\n",
       "      <td>564.308654</td>\n",
       "      <td>10.379783</td>\n",
       "      <td>86.990970</td>\n",
       "      <td>2.963135</td>\n",
       "      <td>0</td>\n",
       "    </tr>\n",
       "    <tr>\n",
       "      <th>1</th>\n",
       "      <td>3.716080</td>\n",
       "      <td>129.422921</td>\n",
       "      <td>18630.057858</td>\n",
       "      <td>6.635246</td>\n",
       "      <td>NaN</td>\n",
       "      <td>592.885359</td>\n",
       "      <td>15.180013</td>\n",
       "      <td>56.329076</td>\n",
       "      <td>4.500656</td>\n",
       "      <td>0</td>\n",
       "    </tr>\n",
       "    <tr>\n",
       "      <th>2</th>\n",
       "      <td>8.099124</td>\n",
       "      <td>224.236259</td>\n",
       "      <td>19909.541732</td>\n",
       "      <td>9.275884</td>\n",
       "      <td>NaN</td>\n",
       "      <td>418.606213</td>\n",
       "      <td>16.868637</td>\n",
       "      <td>66.420093</td>\n",
       "      <td>3.055934</td>\n",
       "      <td>0</td>\n",
       "    </tr>\n",
       "    <tr>\n",
       "      <th>3</th>\n",
       "      <td>8.316766</td>\n",
       "      <td>214.373394</td>\n",
       "      <td>22018.417441</td>\n",
       "      <td>8.059332</td>\n",
       "      <td>356.886136</td>\n",
       "      <td>363.266516</td>\n",
       "      <td>18.436524</td>\n",
       "      <td>100.341674</td>\n",
       "      <td>4.628771</td>\n",
       "      <td>0</td>\n",
       "    </tr>\n",
       "    <tr>\n",
       "      <th>4</th>\n",
       "      <td>9.092223</td>\n",
       "      <td>181.101509</td>\n",
       "      <td>17978.986339</td>\n",
       "      <td>6.546600</td>\n",
       "      <td>310.135738</td>\n",
       "      <td>398.410813</td>\n",
       "      <td>11.558279</td>\n",
       "      <td>31.997993</td>\n",
       "      <td>4.075075</td>\n",
       "      <td>0</td>\n",
       "    </tr>\n",
       "  </tbody>\n",
       "</table>\n",
       "</div>"
      ],
      "text/plain": [
       "         ph    Hardness        Solids  Chloramines     Sulfate  Conductivity  \\\n",
       "0       NaN  204.890455  20791.318981     7.300212  368.516441    564.308654   \n",
       "1  3.716080  129.422921  18630.057858     6.635246         NaN    592.885359   \n",
       "2  8.099124  224.236259  19909.541732     9.275884         NaN    418.606213   \n",
       "3  8.316766  214.373394  22018.417441     8.059332  356.886136    363.266516   \n",
       "4  9.092223  181.101509  17978.986339     6.546600  310.135738    398.410813   \n",
       "\n",
       "   Organic_carbon  Trihalomethanes  Turbidity  Potability  \n",
       "0       10.379783        86.990970   2.963135           0  \n",
       "1       15.180013        56.329076   4.500656           0  \n",
       "2       16.868637        66.420093   3.055934           0  \n",
       "3       18.436524       100.341674   4.628771           0  \n",
       "4       11.558279        31.997993   4.075075           0  "
      ]
     },
     "execution_count": 4,
     "metadata": {},
     "output_type": "execute_result"
    }
   ],
   "source": [
    "df.head()"
   ]
  },
  {
   "cell_type": "code",
   "execution_count": 5,
   "id": "ab9e07ce",
   "metadata": {},
   "outputs": [
    {
     "name": "stdout",
     "output_type": "stream",
     "text": [
      "<class 'pandas.core.frame.DataFrame'>\n",
      "RangeIndex: 3276 entries, 0 to 3275\n",
      "Data columns (total 10 columns):\n",
      " #   Column           Non-Null Count  Dtype  \n",
      "---  ------           --------------  -----  \n",
      " 0   ph               2785 non-null   float64\n",
      " 1   Hardness         3276 non-null   float64\n",
      " 2   Solids           3276 non-null   float64\n",
      " 3   Chloramines      3276 non-null   float64\n",
      " 4   Sulfate          2495 non-null   float64\n",
      " 5   Conductivity     3276 non-null   float64\n",
      " 6   Organic_carbon   3276 non-null   float64\n",
      " 7   Trihalomethanes  3114 non-null   float64\n",
      " 8   Turbidity        3276 non-null   float64\n",
      " 9   Potability       3276 non-null   int64  \n",
      "dtypes: float64(9), int64(1)\n",
      "memory usage: 256.1 KB\n"
     ]
    }
   ],
   "source": [
    "df.info()"
   ]
  },
  {
   "cell_type": "code",
   "execution_count": 6,
   "id": "5284ee83",
   "metadata": {},
   "outputs": [
    {
     "data": {
      "text/plain": [
       "ph                 491\n",
       "Hardness             0\n",
       "Solids               0\n",
       "Chloramines          0\n",
       "Sulfate            781\n",
       "Conductivity         0\n",
       "Organic_carbon       0\n",
       "Trihalomethanes    162\n",
       "Turbidity            0\n",
       "Potability           0\n",
       "dtype: int64"
      ]
     },
     "execution_count": 6,
     "metadata": {},
     "output_type": "execute_result"
    }
   ],
   "source": [
    "df.isna().sum()"
   ]
  },
  {
   "cell_type": "code",
   "execution_count": 7,
   "id": "fa6d3436",
   "metadata": {},
   "outputs": [
    {
     "data": {
      "text/html": [
       "<div>\n",
       "<style scoped>\n",
       "    .dataframe tbody tr th:only-of-type {\n",
       "        vertical-align: middle;\n",
       "    }\n",
       "\n",
       "    .dataframe tbody tr th {\n",
       "        vertical-align: top;\n",
       "    }\n",
       "\n",
       "    .dataframe thead th {\n",
       "        text-align: right;\n",
       "    }\n",
       "</style>\n",
       "<table border=\"1\" class=\"dataframe\">\n",
       "  <thead>\n",
       "    <tr style=\"text-align: right;\">\n",
       "      <th></th>\n",
       "      <th>ph</th>\n",
       "      <th>Hardness</th>\n",
       "      <th>Solids</th>\n",
       "      <th>Chloramines</th>\n",
       "      <th>Sulfate</th>\n",
       "      <th>Conductivity</th>\n",
       "      <th>Organic_carbon</th>\n",
       "      <th>Trihalomethanes</th>\n",
       "      <th>Turbidity</th>\n",
       "      <th>Potability</th>\n",
       "    </tr>\n",
       "  </thead>\n",
       "  <tbody>\n",
       "    <tr>\n",
       "      <th>0</th>\n",
       "      <td>NaN</td>\n",
       "      <td>204.890455</td>\n",
       "      <td>20791.318981</td>\n",
       "      <td>7.300212</td>\n",
       "      <td>368.516441</td>\n",
       "      <td>564.308654</td>\n",
       "      <td>10.379783</td>\n",
       "      <td>86.990970</td>\n",
       "      <td>2.963135</td>\n",
       "      <td>0</td>\n",
       "    </tr>\n",
       "    <tr>\n",
       "      <th>8</th>\n",
       "      <td>NaN</td>\n",
       "      <td>118.988579</td>\n",
       "      <td>14285.583854</td>\n",
       "      <td>7.804174</td>\n",
       "      <td>268.646941</td>\n",
       "      <td>389.375566</td>\n",
       "      <td>12.706049</td>\n",
       "      <td>53.928846</td>\n",
       "      <td>3.595017</td>\n",
       "      <td>0</td>\n",
       "    </tr>\n",
       "    <tr>\n",
       "      <th>13</th>\n",
       "      <td>NaN</td>\n",
       "      <td>150.174923</td>\n",
       "      <td>27331.361962</td>\n",
       "      <td>6.838223</td>\n",
       "      <td>299.415781</td>\n",
       "      <td>379.761835</td>\n",
       "      <td>19.370807</td>\n",
       "      <td>76.509996</td>\n",
       "      <td>4.413974</td>\n",
       "      <td>0</td>\n",
       "    </tr>\n",
       "    <tr>\n",
       "      <th>20</th>\n",
       "      <td>NaN</td>\n",
       "      <td>227.435048</td>\n",
       "      <td>22305.567414</td>\n",
       "      <td>10.333918</td>\n",
       "      <td>NaN</td>\n",
       "      <td>554.820086</td>\n",
       "      <td>16.331693</td>\n",
       "      <td>45.382815</td>\n",
       "      <td>4.133423</td>\n",
       "      <td>0</td>\n",
       "    </tr>\n",
       "    <tr>\n",
       "      <th>22</th>\n",
       "      <td>NaN</td>\n",
       "      <td>215.977859</td>\n",
       "      <td>17107.224226</td>\n",
       "      <td>5.607060</td>\n",
       "      <td>326.943978</td>\n",
       "      <td>436.256194</td>\n",
       "      <td>14.189062</td>\n",
       "      <td>59.855476</td>\n",
       "      <td>5.459251</td>\n",
       "      <td>0</td>\n",
       "    </tr>\n",
       "  </tbody>\n",
       "</table>\n",
       "</div>"
      ],
      "text/plain": [
       "    ph    Hardness        Solids  Chloramines     Sulfate  Conductivity  \\\n",
       "0  NaN  204.890455  20791.318981     7.300212  368.516441    564.308654   \n",
       "8  NaN  118.988579  14285.583854     7.804174  268.646941    389.375566   \n",
       "13 NaN  150.174923  27331.361962     6.838223  299.415781    379.761835   \n",
       "20 NaN  227.435048  22305.567414    10.333918         NaN    554.820086   \n",
       "22 NaN  215.977859  17107.224226     5.607060  326.943978    436.256194   \n",
       "\n",
       "    Organic_carbon  Trihalomethanes  Turbidity  Potability  \n",
       "0        10.379783        86.990970   2.963135           0  \n",
       "8        12.706049        53.928846   3.595017           0  \n",
       "13       19.370807        76.509996   4.413974           0  \n",
       "20       16.331693        45.382815   4.133423           0  \n",
       "22       14.189062        59.855476   5.459251           0  "
      ]
     },
     "execution_count": 7,
     "metadata": {},
     "output_type": "execute_result"
    }
   ],
   "source": [
    "df[df['ph'].isna()].head()"
   ]
  },
  {
   "cell_type": "code",
   "execution_count": 8,
   "id": "2412b17d",
   "metadata": {},
   "outputs": [
    {
     "data": {
      "text/plain": [
       "13.999999999999998"
      ]
     },
     "execution_count": 8,
     "metadata": {},
     "output_type": "execute_result"
    }
   ],
   "source": [
    "df['ph'].max()"
   ]
  },
  {
   "cell_type": "code",
   "execution_count": 9,
   "id": "749a5c06",
   "metadata": {},
   "outputs": [
    {
     "data": {
      "image/png": "[encoded data removed]",
      "text/plain": [
       "<Figure size 1080x720 with 1 Axes>"
      ]
     },
     "metadata": {
      "needs_background": "light"
     },
     "output_type": "display_data"
    }
   ],
   "source": [
    "plt.figure(figsize=(15,10))\n",
    "plt.hist(df['ph'], bins=50, )\n",
    "plt.xlabel('PH level')\n",
    "plt.ylabel('PH quantity')\n",
    "plt.title('PH');"
   ]
  },
  {
   "cell_type": "code",
   "execution_count": 10,
   "id": "27a7ccdb",
   "metadata": {},
   "outputs": [
    {
     "data": {
      "text/html": [
       "<div>\n",
       "<style scoped>\n",
       "    .dataframe tbody tr th:only-of-type {\n",
       "        vertical-align: middle;\n",
       "    }\n",
       "\n",
       "    .dataframe tbody tr th {\n",
       "        vertical-align: top;\n",
       "    }\n",
       "\n",
       "    .dataframe thead th {\n",
       "        text-align: right;\n",
       "    }\n",
       "</style>\n",
       "<table border=\"1\" class=\"dataframe\">\n",
       "  <thead>\n",
       "    <tr style=\"text-align: right;\">\n",
       "      <th></th>\n",
       "      <th>ph</th>\n",
       "      <th>Hardness</th>\n",
       "      <th>Solids</th>\n",
       "      <th>Chloramines</th>\n",
       "      <th>Sulfate</th>\n",
       "      <th>Conductivity</th>\n",
       "      <th>Organic_carbon</th>\n",
       "      <th>Trihalomethanes</th>\n",
       "      <th>Turbidity</th>\n",
       "      <th>Potability</th>\n",
       "    </tr>\n",
       "  </thead>\n",
       "  <tbody>\n",
       "    <tr>\n",
       "      <th>1</th>\n",
       "      <td>3.716080</td>\n",
       "      <td>129.422921</td>\n",
       "      <td>18630.057858</td>\n",
       "      <td>6.635246</td>\n",
       "      <td>NaN</td>\n",
       "      <td>592.885359</td>\n",
       "      <td>15.180013</td>\n",
       "      <td>56.329076</td>\n",
       "      <td>4.500656</td>\n",
       "      <td>0</td>\n",
       "    </tr>\n",
       "    <tr>\n",
       "      <th>2</th>\n",
       "      <td>8.099124</td>\n",
       "      <td>224.236259</td>\n",
       "      <td>19909.541732</td>\n",
       "      <td>9.275884</td>\n",
       "      <td>NaN</td>\n",
       "      <td>418.606213</td>\n",
       "      <td>16.868637</td>\n",
       "      <td>66.420093</td>\n",
       "      <td>3.055934</td>\n",
       "      <td>0</td>\n",
       "    </tr>\n",
       "    <tr>\n",
       "      <th>11</th>\n",
       "      <td>7.974522</td>\n",
       "      <td>218.693300</td>\n",
       "      <td>18767.656682</td>\n",
       "      <td>8.110385</td>\n",
       "      <td>NaN</td>\n",
       "      <td>364.098230</td>\n",
       "      <td>14.525746</td>\n",
       "      <td>76.485911</td>\n",
       "      <td>4.011718</td>\n",
       "      <td>0</td>\n",
       "    </tr>\n",
       "    <tr>\n",
       "      <th>14</th>\n",
       "      <td>7.496232</td>\n",
       "      <td>205.344982</td>\n",
       "      <td>28388.004887</td>\n",
       "      <td>5.072558</td>\n",
       "      <td>NaN</td>\n",
       "      <td>444.645352</td>\n",
       "      <td>13.228311</td>\n",
       "      <td>70.300213</td>\n",
       "      <td>4.777382</td>\n",
       "      <td>0</td>\n",
       "    </tr>\n",
       "    <tr>\n",
       "      <th>16</th>\n",
       "      <td>7.051786</td>\n",
       "      <td>211.049406</td>\n",
       "      <td>30980.600787</td>\n",
       "      <td>10.094796</td>\n",
       "      <td>NaN</td>\n",
       "      <td>315.141267</td>\n",
       "      <td>20.397022</td>\n",
       "      <td>56.651604</td>\n",
       "      <td>4.268429</td>\n",
       "      <td>0</td>\n",
       "    </tr>\n",
       "  </tbody>\n",
       "</table>\n",
       "</div>"
      ],
      "text/plain": [
       "          ph    Hardness        Solids  Chloramines  Sulfate  Conductivity  \\\n",
       "1   3.716080  129.422921  18630.057858     6.635246      NaN    592.885359   \n",
       "2   8.099124  224.236259  19909.541732     9.275884      NaN    418.606213   \n",
       "11  7.974522  218.693300  18767.656682     8.110385      NaN    364.098230   \n",
       "14  7.496232  205.344982  28388.004887     5.072558      NaN    444.645352   \n",
       "16  7.051786  211.049406  30980.600787    10.094796      NaN    315.141267   \n",
       "\n",
       "    Organic_carbon  Trihalomethanes  Turbidity  Potability  \n",
       "1        15.180013        56.329076   4.500656           0  \n",
       "2        16.868637        66.420093   3.055934           0  \n",
       "11       14.525746        76.485911   4.011718           0  \n",
       "14       13.228311        70.300213   4.777382           0  \n",
       "16       20.397022        56.651604   4.268429           0  "
      ]
     },
     "execution_count": 10,
     "metadata": {},
     "output_type": "execute_result"
    }
   ],
   "source": [
    "df[df['Sulfate'].isna()].head()"
   ]
  },
  {
   "cell_type": "code",
   "execution_count": 11,
   "id": "236e3579",
   "metadata": {},
   "outputs": [
    {
     "data": {
      "image/png": "[encoded data removed]",
      "text/plain": [
       "<Figure size 1080x720 with 1 Axes>"
      ]
     },
     "metadata": {
      "needs_background": "light"
     },
     "output_type": "display_data"
    }
   ],
   "source": [
    "plt.figure(figsize=(15,10))\n",
    "plt.hist(df['Sulfate'], bins=50)\n",
    "plt.xlabel('Sulfate levels')\n",
    "plt.ylabel('Sulfate quantity')\n",
    "plt.title('Sulfates');"
   ]
  },
  {
   "cell_type": "code",
   "execution_count": 12,
   "id": "e140ec72",
   "metadata": {},
   "outputs": [
    {
     "data": {
      "text/html": [
       "<div>\n",
       "<style scoped>\n",
       "    .dataframe tbody tr th:only-of-type {\n",
       "        vertical-align: middle;\n",
       "    }\n",
       "\n",
       "    .dataframe tbody tr th {\n",
       "        vertical-align: top;\n",
       "    }\n",
       "\n",
       "    .dataframe thead th {\n",
       "        text-align: right;\n",
       "    }\n",
       "</style>\n",
       "<table border=\"1\" class=\"dataframe\">\n",
       "  <thead>\n",
       "    <tr style=\"text-align: right;\">\n",
       "      <th></th>\n",
       "      <th>ph</th>\n",
       "      <th>Hardness</th>\n",
       "      <th>Solids</th>\n",
       "      <th>Chloramines</th>\n",
       "      <th>Sulfate</th>\n",
       "      <th>Conductivity</th>\n",
       "      <th>Organic_carbon</th>\n",
       "      <th>Trihalomethanes</th>\n",
       "      <th>Turbidity</th>\n",
       "      <th>Potability</th>\n",
       "    </tr>\n",
       "  </thead>\n",
       "  <tbody>\n",
       "    <tr>\n",
       "      <th>62</th>\n",
       "      <td>NaN</td>\n",
       "      <td>229.485694</td>\n",
       "      <td>35729.692709</td>\n",
       "      <td>8.810843</td>\n",
       "      <td>384.943779</td>\n",
       "      <td>296.397547</td>\n",
       "      <td>16.927092</td>\n",
       "      <td>NaN</td>\n",
       "      <td>3.855602</td>\n",
       "      <td>0</td>\n",
       "    </tr>\n",
       "    <tr>\n",
       "      <th>81</th>\n",
       "      <td>5.519126</td>\n",
       "      <td>168.728583</td>\n",
       "      <td>12531.601921</td>\n",
       "      <td>7.730723</td>\n",
       "      <td>NaN</td>\n",
       "      <td>443.570372</td>\n",
       "      <td>18.099078</td>\n",
       "      <td>NaN</td>\n",
       "      <td>3.758996</td>\n",
       "      <td>0</td>\n",
       "    </tr>\n",
       "    <tr>\n",
       "      <th>110</th>\n",
       "      <td>9.286155</td>\n",
       "      <td>222.661551</td>\n",
       "      <td>12311.268366</td>\n",
       "      <td>7.289866</td>\n",
       "      <td>332.239359</td>\n",
       "      <td>353.740100</td>\n",
       "      <td>14.171763</td>\n",
       "      <td>NaN</td>\n",
       "      <td>5.239982</td>\n",
       "      <td>0</td>\n",
       "    </tr>\n",
       "    <tr>\n",
       "      <th>118</th>\n",
       "      <td>7.397413</td>\n",
       "      <td>122.541040</td>\n",
       "      <td>8855.114121</td>\n",
       "      <td>6.888689</td>\n",
       "      <td>241.607532</td>\n",
       "      <td>489.851600</td>\n",
       "      <td>13.365906</td>\n",
       "      <td>NaN</td>\n",
       "      <td>3.149158</td>\n",
       "      <td>0</td>\n",
       "    </tr>\n",
       "    <tr>\n",
       "      <th>119</th>\n",
       "      <td>7.812804</td>\n",
       "      <td>196.583886</td>\n",
       "      <td>42550.841816</td>\n",
       "      <td>7.334648</td>\n",
       "      <td>NaN</td>\n",
       "      <td>442.545775</td>\n",
       "      <td>14.666917</td>\n",
       "      <td>NaN</td>\n",
       "      <td>6.204846</td>\n",
       "      <td>0</td>\n",
       "    </tr>\n",
       "  </tbody>\n",
       "</table>\n",
       "</div>"
      ],
      "text/plain": [
       "           ph    Hardness        Solids  Chloramines     Sulfate  \\\n",
       "62        NaN  229.485694  35729.692709     8.810843  384.943779   \n",
       "81   5.519126  168.728583  12531.601921     7.730723         NaN   \n",
       "110  9.286155  222.661551  12311.268366     7.289866  332.239359   \n",
       "118  7.397413  122.541040   8855.114121     6.888689  241.607532   \n",
       "119  7.812804  196.583886  42550.841816     7.334648         NaN   \n",
       "\n",
       "     Conductivity  Organic_carbon  Trihalomethanes  Turbidity  Potability  \n",
       "62     296.397547       16.927092              NaN   3.855602           0  \n",
       "81     443.570372       18.099078              NaN   3.758996           0  \n",
       "110    353.740100       14.171763              NaN   5.239982           0  \n",
       "118    489.851600       13.365906              NaN   3.149158           0  \n",
       "119    442.545775       14.666917              NaN   6.204846           0  "
      ]
     },
     "execution_count": 12,
     "metadata": {},
     "output_type": "execute_result"
    }
   ],
   "source": [
    "df[df['Trihalomethanes'].isna()].head()"
   ]
  },
  {
   "cell_type": "code",
   "execution_count": 13,
   "id": "36792550",
   "metadata": {},
   "outputs": [
    {
     "data": {
      "image/png": "[encoded data removed]",
      "text/plain": [
       "<Figure size 1080x720 with 1 Axes>"
      ]
     },
     "metadata": {
      "needs_background": "light"
     },
     "output_type": "display_data"
    }
   ],
   "source": [
    "plt.figure(figsize=(15,10))\n",
    "plt.hist(df['Trihalomethanes'], bins=50)\n",
    "plt.xlabel('Trihalomethanes levels')\n",
    "plt.ylabel('Trihalomethanes quantity')\n",
    "plt.title('Trihalomethanes');"
   ]
  },
  {
   "cell_type": "markdown",
   "id": "a5520936",
   "metadata": {},
   "source": [
    "### Finding correlations"
   ]
  },
  {
   "cell_type": "code",
   "execution_count": 14,
   "id": "232ecde6",
   "metadata": {},
   "outputs": [
    {
     "data": {
      "text/html": [
       "<style type=\"text/css\">\n",
       "#T_024b5_row0_col0, #T_024b5_row1_col1, #T_024b5_row2_col2, #T_024b5_row3_col3, #T_024b5_row4_col4, #T_024b5_row5_col5, #T_024b5_row6_col6, #T_024b5_row7_col7, #T_024b5_row8_col8, #T_024b5_row9_col9 {\n",
       "  background-color: #b40426;\n",
       "  color: #f1f1f1;\n",
       "}\n",
       "#T_024b5_row0_col1, #T_024b5_row3_col4 {\n",
       "  background-color: #7093f3;\n",
       "  color: #f1f1f1;\n",
       "}\n",
       "#T_024b5_row0_col2, #T_024b5_row0_col6 {\n",
       "  background-color: #506bda;\n",
       "  color: #f1f1f1;\n",
       "}\n",
       "#T_024b5_row0_col3, #T_024b5_row0_col7, #T_024b5_row1_col6 {\n",
       "  background-color: #445acc;\n",
       "  color: #f1f1f1;\n",
       "}\n",
       "#T_024b5_row0_col4, #T_024b5_row8_col2 {\n",
       "  background-color: #6e90f2;\n",
       "  color: #f1f1f1;\n",
       "}\n",
       "#T_024b5_row0_col5, #T_024b5_row2_col6, #T_024b5_row3_col8, #T_024b5_row9_col8 {\n",
       "  background-color: #465ecf;\n",
       "  color: #f1f1f1;\n",
       "}\n",
       "#T_024b5_row0_col8, #T_024b5_row1_col5, #T_024b5_row2_col0, #T_024b5_row2_col3, #T_024b5_row2_col4, #T_024b5_row3_col5, #T_024b5_row4_col1, #T_024b5_row4_col2, #T_024b5_row4_col7, #T_024b5_row6_col9, #T_024b5_row8_col6, #T_024b5_row9_col6 {\n",
       "  background-color: #3b4cc0;\n",
       "  color: #f1f1f1;\n",
       "}\n",
       "#T_024b5_row0_col9, #T_024b5_row1_col8, #T_024b5_row4_col8, #T_024b5_row7_col5 {\n",
       "  background-color: #4257c9;\n",
       "  color: #f1f1f1;\n",
       "}\n",
       "#T_024b5_row1_col0, #T_024b5_row5_col2 {\n",
       "  background-color: #6c8ff1;\n",
       "  color: #f1f1f1;\n",
       "}\n",
       "#T_024b5_row1_col2 {\n",
       "  background-color: #5b7ae5;\n",
       "  color: #f1f1f1;\n",
       "}\n",
       "#T_024b5_row1_col3, #T_024b5_row2_col5, #T_024b5_row7_col9, #T_024b5_row9_col7 {\n",
       "  background-color: #455cce;\n",
       "  color: #f1f1f1;\n",
       "}\n",
       "#T_024b5_row1_col4, #T_024b5_row2_col8 {\n",
       "  background-color: #4b64d5;\n",
       "  color: #f1f1f1;\n",
       "}\n",
       "#T_024b5_row1_col7, #T_024b5_row1_col9, #T_024b5_row3_col6, #T_024b5_row6_col7, #T_024b5_row7_col6, #T_024b5_row7_col8 {\n",
       "  background-color: #3f53c6;\n",
       "  color: #f1f1f1;\n",
       "}\n",
       "#T_024b5_row2_col1, #T_024b5_row3_col9, #T_024b5_row6_col3 {\n",
       "  background-color: #4a63d3;\n",
       "  color: #f1f1f1;\n",
       "}\n",
       "#T_024b5_row2_col7, #T_024b5_row5_col9 {\n",
       "  background-color: #4055c8;\n",
       "  color: #f1f1f1;\n",
       "}\n",
       "#T_024b5_row2_col9, #T_024b5_row4_col6 {\n",
       "  background-color: #4c66d6;\n",
       "  color: #f1f1f1;\n",
       "}\n",
       "#T_024b5_row3_col0, #T_024b5_row5_col6 {\n",
       "  background-color: #4961d2;\n",
       "  color: #f1f1f1;\n",
       "}\n",
       "#T_024b5_row3_col1, #T_024b5_row8_col3 {\n",
       "  background-color: #4f69d9;\n",
       "  color: #f1f1f1;\n",
       "}\n",
       "#T_024b5_row3_col2, #T_024b5_row9_col3 {\n",
       "  background-color: #5572df;\n",
       "  color: #f1f1f1;\n",
       "}\n",
       "#T_024b5_row3_col7, #T_024b5_row5_col3, #T_024b5_row5_col8, #T_024b5_row6_col5, #T_024b5_row8_col0 {\n",
       "  background-color: #485fd1;\n",
       "  color: #f1f1f1;\n",
       "}\n",
       "#T_024b5_row4_col0, #T_024b5_row5_col0, #T_024b5_row6_col1 {\n",
       "  background-color: #5977e3;\n",
       "  color: #f1f1f1;\n",
       "}\n",
       "#T_024b5_row4_col3 {\n",
       "  background-color: #5673e0;\n",
       "  color: #f1f1f1;\n",
       "}\n",
       "#T_024b5_row4_col5, #T_024b5_row4_col9 {\n",
       "  background-color: #3c4ec2;\n",
       "  color: #f1f1f1;\n",
       "}\n",
       "#T_024b5_row5_col1 {\n",
       "  background-color: #516ddb;\n",
       "  color: #f1f1f1;\n",
       "}\n",
       "#T_024b5_row5_col4 {\n",
       "  background-color: #6485ec;\n",
       "  color: #f1f1f1;\n",
       "}\n",
       "#T_024b5_row5_col7, #T_024b5_row8_col5, #T_024b5_row8_col9 {\n",
       "  background-color: #4358cb;\n",
       "  color: #f1f1f1;\n",
       "}\n",
       "#T_024b5_row6_col0 {\n",
       "  background-color: #6180e9;\n",
       "  color: #f1f1f1;\n",
       "}\n",
       "#T_024b5_row6_col2 {\n",
       "  background-color: #6b8df0;\n",
       "  color: #f1f1f1;\n",
       "}\n",
       "#T_024b5_row6_col4, #T_024b5_row9_col2 {\n",
       "  background-color: #7295f4;\n",
       "  color: #f1f1f1;\n",
       "}\n",
       "#T_024b5_row6_col8, #T_024b5_row8_col7 {\n",
       "  background-color: #3d50c3;\n",
       "  color: #f1f1f1;\n",
       "}\n",
       "#T_024b5_row7_col0, #T_024b5_row7_col1, #T_024b5_row8_col1, #T_024b5_row9_col1 {\n",
       "  background-color: #5470de;\n",
       "  color: #f1f1f1;\n",
       "}\n",
       "#T_024b5_row7_col2, #T_024b5_row8_col4 {\n",
       "  background-color: #6687ed;\n",
       "  color: #f1f1f1;\n",
       "}\n",
       "#T_024b5_row7_col3, #T_024b5_row9_col0 {\n",
       "  background-color: #536edd;\n",
       "  color: #f1f1f1;\n",
       "}\n",
       "#T_024b5_row7_col4 {\n",
       "  background-color: #5f7fe8;\n",
       "  color: #f1f1f1;\n",
       "}\n",
       "#T_024b5_row9_col4 {\n",
       "  background-color: #6282ea;\n",
       "  color: #f1f1f1;\n",
       "}\n",
       "#T_024b5_row9_col5 {\n",
       "  background-color: #3e51c5;\n",
       "  color: #f1f1f1;\n",
       "}\n",
       "</style>\n",
       "<table id=\"T_024b5_\">\n",
       "  <thead>\n",
       "    <tr>\n",
       "      <th class=\"blank level0\" >&nbsp;</th>\n",
       "      <th class=\"col_heading level0 col0\" >ph</th>\n",
       "      <th class=\"col_heading level0 col1\" >Hardness</th>\n",
       "      <th class=\"col_heading level0 col2\" >Solids</th>\n",
       "      <th class=\"col_heading level0 col3\" >Chloramines</th>\n",
       "      <th class=\"col_heading level0 col4\" >Sulfate</th>\n",
       "      <th class=\"col_heading level0 col5\" >Conductivity</th>\n",
       "      <th class=\"col_heading level0 col6\" >Organic_carbon</th>\n",
       "      <th class=\"col_heading level0 col7\" >Trihalomethanes</th>\n",
       "      <th class=\"col_heading level0 col8\" >Turbidity</th>\n",
       "      <th class=\"col_heading level0 col9\" >Potability</th>\n",
       "    </tr>\n",
       "  </thead>\n",
       "  <tbody>\n",
       "    <tr>\n",
       "      <th id=\"T_024b5_level0_row0\" class=\"row_heading level0 row0\" >ph</th>\n",
       "      <td id=\"T_024b5_row0_col0\" class=\"data row0 col0\" >1.000000</td>\n",
       "      <td id=\"T_024b5_row0_col1\" class=\"data row0 col1\" >0.082096</td>\n",
       "      <td id=\"T_024b5_row0_col2\" class=\"data row0 col2\" >-0.089288</td>\n",
       "      <td id=\"T_024b5_row0_col3\" class=\"data row0 col3\" >-0.034350</td>\n",
       "      <td id=\"T_024b5_row0_col4\" class=\"data row0 col4\" >0.018203</td>\n",
       "      <td id=\"T_024b5_row0_col5\" class=\"data row0 col5\" >0.018614</td>\n",
       "      <td id=\"T_024b5_row0_col6\" class=\"data row0 col6\" >0.043503</td>\n",
       "      <td id=\"T_024b5_row0_col7\" class=\"data row0 col7\" >0.003354</td>\n",
       "      <td id=\"T_024b5_row0_col8\" class=\"data row0 col8\" >-0.039057</td>\n",
       "      <td id=\"T_024b5_row0_col9\" class=\"data row0 col9\" >-0.003556</td>\n",
       "    </tr>\n",
       "    <tr>\n",
       "      <th id=\"T_024b5_level0_row1\" class=\"row_heading level0 row1\" >Hardness</th>\n",
       "      <td id=\"T_024b5_row1_col0\" class=\"data row1 col0\" >0.082096</td>\n",
       "      <td id=\"T_024b5_row1_col1\" class=\"data row1 col1\" >1.000000</td>\n",
       "      <td id=\"T_024b5_row1_col2\" class=\"data row1 col2\" >-0.046899</td>\n",
       "      <td id=\"T_024b5_row1_col3\" class=\"data row1 col3\" >-0.030054</td>\n",
       "      <td id=\"T_024b5_row1_col4\" class=\"data row1 col4\" >-0.106923</td>\n",
       "      <td id=\"T_024b5_row1_col5\" class=\"data row1 col5\" >-0.023915</td>\n",
       "      <td id=\"T_024b5_row1_col6\" class=\"data row1 col6\" >0.003610</td>\n",
       "      <td id=\"T_024b5_row1_col7\" class=\"data row1 col7\" >-0.013013</td>\n",
       "      <td id=\"T_024b5_row1_col8\" class=\"data row1 col8\" >-0.014449</td>\n",
       "      <td id=\"T_024b5_row1_col9\" class=\"data row1 col9\" >-0.013837</td>\n",
       "    </tr>\n",
       "    <tr>\n",
       "      <th id=\"T_024b5_level0_row2\" class=\"row_heading level0 row2\" >Solids</th>\n",
       "      <td id=\"T_024b5_row2_col0\" class=\"data row2 col0\" >-0.089288</td>\n",
       "      <td id=\"T_024b5_row2_col1\" class=\"data row2 col1\" >-0.046899</td>\n",
       "      <td id=\"T_024b5_row2_col2\" class=\"data row2 col2\" >1.000000</td>\n",
       "      <td id=\"T_024b5_row2_col3\" class=\"data row2 col3\" >-0.070148</td>\n",
       "      <td id=\"T_024b5_row2_col4\" class=\"data row2 col4\" >-0.171804</td>\n",
       "      <td id=\"T_024b5_row2_col5\" class=\"data row2 col5\" >0.013831</td>\n",
       "      <td id=\"T_024b5_row2_col6\" class=\"data row2 col6\" >0.010242</td>\n",
       "      <td id=\"T_024b5_row2_col7\" class=\"data row2 col7\" >-0.009143</td>\n",
       "      <td id=\"T_024b5_row2_col8\" class=\"data row2 col8\" >0.019546</td>\n",
       "      <td id=\"T_024b5_row2_col9\" class=\"data row2 col9\" >0.033743</td>\n",
       "    </tr>\n",
       "    <tr>\n",
       "      <th id=\"T_024b5_level0_row3\" class=\"row_heading level0 row3\" >Chloramines</th>\n",
       "      <td id=\"T_024b5_row3_col0\" class=\"data row3 col0\" >-0.034350</td>\n",
       "      <td id=\"T_024b5_row3_col1\" class=\"data row3 col1\" >-0.030054</td>\n",
       "      <td id=\"T_024b5_row3_col2\" class=\"data row3 col2\" >-0.070148</td>\n",
       "      <td id=\"T_024b5_row3_col3\" class=\"data row3 col3\" >1.000000</td>\n",
       "      <td id=\"T_024b5_row3_col4\" class=\"data row3 col4\" >0.027244</td>\n",
       "      <td id=\"T_024b5_row3_col5\" class=\"data row3 col5\" >-0.020486</td>\n",
       "      <td id=\"T_024b5_row3_col6\" class=\"data row3 col6\" >-0.012653</td>\n",
       "      <td id=\"T_024b5_row3_col7\" class=\"data row3 col7\" >0.017084</td>\n",
       "      <td id=\"T_024b5_row3_col8\" class=\"data row3 col8\" >0.002363</td>\n",
       "      <td id=\"T_024b5_row3_col9\" class=\"data row3 col9\" >0.023779</td>\n",
       "    </tr>\n",
       "    <tr>\n",
       "      <th id=\"T_024b5_level0_row4\" class=\"row_heading level0 row4\" >Sulfate</th>\n",
       "      <td id=\"T_024b5_row4_col0\" class=\"data row4 col0\" >0.018203</td>\n",
       "      <td id=\"T_024b5_row4_col1\" class=\"data row4 col1\" >-0.106923</td>\n",
       "      <td id=\"T_024b5_row4_col2\" class=\"data row4 col2\" >-0.171804</td>\n",
       "      <td id=\"T_024b5_row4_col3\" class=\"data row4 col3\" >0.027244</td>\n",
       "      <td id=\"T_024b5_row4_col4\" class=\"data row4 col4\" >1.000000</td>\n",
       "      <td id=\"T_024b5_row4_col5\" class=\"data row4 col5\" >-0.016121</td>\n",
       "      <td id=\"T_024b5_row4_col6\" class=\"data row4 col6\" >0.030831</td>\n",
       "      <td id=\"T_024b5_row4_col7\" class=\"data row4 col7\" >-0.030274</td>\n",
       "      <td id=\"T_024b5_row4_col8\" class=\"data row4 col8\" >-0.011187</td>\n",
       "      <td id=\"T_024b5_row4_col9\" class=\"data row4 col9\" >-0.023577</td>\n",
       "    </tr>\n",
       "    <tr>\n",
       "      <th id=\"T_024b5_level0_row5\" class=\"row_heading level0 row5\" >Conductivity</th>\n",
       "      <td id=\"T_024b5_row5_col0\" class=\"data row5 col0\" >0.018614</td>\n",
       "      <td id=\"T_024b5_row5_col1\" class=\"data row5 col1\" >-0.023915</td>\n",
       "      <td id=\"T_024b5_row5_col2\" class=\"data row5 col2\" >0.013831</td>\n",
       "      <td id=\"T_024b5_row5_col3\" class=\"data row5 col3\" >-0.020486</td>\n",
       "      <td id=\"T_024b5_row5_col4\" class=\"data row5 col4\" >-0.016121</td>\n",
       "      <td id=\"T_024b5_row5_col5\" class=\"data row5 col5\" >1.000000</td>\n",
       "      <td id=\"T_024b5_row5_col6\" class=\"data row5 col6\" >0.020966</td>\n",
       "      <td id=\"T_024b5_row5_col7\" class=\"data row5 col7\" >0.001285</td>\n",
       "      <td id=\"T_024b5_row5_col8\" class=\"data row5 col8\" >0.005798</td>\n",
       "      <td id=\"T_024b5_row5_col9\" class=\"data row5 col9\" >-0.008128</td>\n",
       "    </tr>\n",
       "    <tr>\n",
       "      <th id=\"T_024b5_level0_row6\" class=\"row_heading level0 row6\" >Organic_carbon</th>\n",
       "      <td id=\"T_024b5_row6_col0\" class=\"data row6 col0\" >0.043503</td>\n",
       "      <td id=\"T_024b5_row6_col1\" class=\"data row6 col1\" >0.003610</td>\n",
       "      <td id=\"T_024b5_row6_col2\" class=\"data row6 col2\" >0.010242</td>\n",
       "      <td id=\"T_024b5_row6_col3\" class=\"data row6 col3\" >-0.012653</td>\n",
       "      <td id=\"T_024b5_row6_col4\" class=\"data row6 col4\" >0.030831</td>\n",
       "      <td id=\"T_024b5_row6_col5\" class=\"data row6 col5\" >0.020966</td>\n",
       "      <td id=\"T_024b5_row6_col6\" class=\"data row6 col6\" >1.000000</td>\n",
       "      <td id=\"T_024b5_row6_col7\" class=\"data row6 col7\" >-0.013274</td>\n",
       "      <td id=\"T_024b5_row6_col8\" class=\"data row6 col8\" >-0.027308</td>\n",
       "      <td id=\"T_024b5_row6_col9\" class=\"data row6 col9\" >-0.030001</td>\n",
       "    </tr>\n",
       "    <tr>\n",
       "      <th id=\"T_024b5_level0_row7\" class=\"row_heading level0 row7\" >Trihalomethanes</th>\n",
       "      <td id=\"T_024b5_row7_col0\" class=\"data row7 col0\" >0.003354</td>\n",
       "      <td id=\"T_024b5_row7_col1\" class=\"data row7 col1\" >-0.013013</td>\n",
       "      <td id=\"T_024b5_row7_col2\" class=\"data row7 col2\" >-0.009143</td>\n",
       "      <td id=\"T_024b5_row7_col3\" class=\"data row7 col3\" >0.017084</td>\n",
       "      <td id=\"T_024b5_row7_col4\" class=\"data row7 col4\" >-0.030274</td>\n",
       "      <td id=\"T_024b5_row7_col5\" class=\"data row7 col5\" >0.001285</td>\n",
       "      <td id=\"T_024b5_row7_col6\" class=\"data row7 col6\" >-0.013274</td>\n",
       "      <td id=\"T_024b5_row7_col7\" class=\"data row7 col7\" >1.000000</td>\n",
       "      <td id=\"T_024b5_row7_col8\" class=\"data row7 col8\" >-0.022145</td>\n",
       "      <td id=\"T_024b5_row7_col9\" class=\"data row7 col9\" >0.007130</td>\n",
       "    </tr>\n",
       "    <tr>\n",
       "      <th id=\"T_024b5_level0_row8\" class=\"row_heading level0 row8\" >Turbidity</th>\n",
       "      <td id=\"T_024b5_row8_col0\" class=\"data row8 col0\" >-0.039057</td>\n",
       "      <td id=\"T_024b5_row8_col1\" class=\"data row8 col1\" >-0.014449</td>\n",
       "      <td id=\"T_024b5_row8_col2\" class=\"data row8 col2\" >0.019546</td>\n",
       "      <td id=\"T_024b5_row8_col3\" class=\"data row8 col3\" >0.002363</td>\n",
       "      <td id=\"T_024b5_row8_col4\" class=\"data row8 col4\" >-0.011187</td>\n",
       "      <td id=\"T_024b5_row8_col5\" class=\"data row8 col5\" >0.005798</td>\n",
       "      <td id=\"T_024b5_row8_col6\" class=\"data row8 col6\" >-0.027308</td>\n",
       "      <td id=\"T_024b5_row8_col7\" class=\"data row8 col7\" >-0.022145</td>\n",
       "      <td id=\"T_024b5_row8_col8\" class=\"data row8 col8\" >1.000000</td>\n",
       "      <td id=\"T_024b5_row8_col9\" class=\"data row8 col9\" >0.001581</td>\n",
       "    </tr>\n",
       "    <tr>\n",
       "      <th id=\"T_024b5_level0_row9\" class=\"row_heading level0 row9\" >Potability</th>\n",
       "      <td id=\"T_024b5_row9_col0\" class=\"data row9 col0\" >-0.003556</td>\n",
       "      <td id=\"T_024b5_row9_col1\" class=\"data row9 col1\" >-0.013837</td>\n",
       "      <td id=\"T_024b5_row9_col2\" class=\"data row9 col2\" >0.033743</td>\n",
       "      <td id=\"T_024b5_row9_col3\" class=\"data row9 col3\" >0.023779</td>\n",
       "      <td id=\"T_024b5_row9_col4\" class=\"data row9 col4\" >-0.023577</td>\n",
       "      <td id=\"T_024b5_row9_col5\" class=\"data row9 col5\" >-0.008128</td>\n",
       "      <td id=\"T_024b5_row9_col6\" class=\"data row9 col6\" >-0.030001</td>\n",
       "      <td id=\"T_024b5_row9_col7\" class=\"data row9 col7\" >0.007130</td>\n",
       "      <td id=\"T_024b5_row9_col8\" class=\"data row9 col8\" >0.001581</td>\n",
       "      <td id=\"T_024b5_row9_col9\" class=\"data row9 col9\" >1.000000</td>\n",
       "    </tr>\n",
       "  </tbody>\n",
       "</table>\n"
      ],
      "text/plain": [
       "<pandas.io.formats.style.Styler at 0x12a25a8e0>"
      ]
     },
     "execution_count": 14,
     "metadata": {},
     "output_type": "execute_result"
    }
   ],
   "source": [
    "df.corr().style.background_gradient(cmap='coolwarm')"
   ]
  },
  {
   "cell_type": "markdown",
   "id": "36e02a73",
   "metadata": {},
   "source": [
    "As we can see there doesn't seem to be any correlations between the data. Let's look at the balance of the data set."
   ]
  },
  {
   "cell_type": "markdown",
   "id": "59512f3c",
   "metadata": {},
   "source": [
    "### Looking at the balance"
   ]
  },
  {
   "cell_type": "code",
   "execution_count": 15,
   "id": "6a42d5f3",
   "metadata": {},
   "outputs": [
    {
     "data": {
      "text/plain": [
       "0    1998\n",
       "1    1278\n",
       "Name: Potability, dtype: int64"
      ]
     },
     "execution_count": 15,
     "metadata": {},
     "output_type": "execute_result"
    }
   ],
   "source": [
    "df['Potability'].value_counts()"
   ]
  },
  {
   "cell_type": "code",
   "execution_count": 16,
   "id": "de8d757a",
   "metadata": {
    "scrolled": true
   },
   "outputs": [
    {
     "data": {
      "image/png": "[encoded data removed]",
      "text/plain": [
       "<Figure size 432x288 with 1 Axes>"
      ]
     },
     "metadata": {
      "needs_background": "light"
     },
     "output_type": "display_data"
    }
   ],
   "source": [
    "plt.hist(df['Potability'], bins=2, histtype='bar',align='mid' )\n",
    "plt.xticks((0,1));"
   ]
  },
  {
   "cell_type": "markdown",
   "id": "3a4c8983",
   "metadata": {},
   "source": [
    "There seems to be a much larger proportion of data that is undrinkable. In later steps I will under-sample to make an even data set."
   ]
  },
  {
   "cell_type": "markdown",
   "id": "49f6384a",
   "metadata": {},
   "source": [
    "### Data cleaning"
   ]
  },
  {
   "cell_type": "markdown",
   "id": "ce292d78",
   "metadata": {},
   "source": [
    "#### Transforming the data"
   ]
  },
  {
   "cell_type": "code",
   "execution_count": 17,
   "id": "3ad7dc39",
   "metadata": {},
   "outputs": [],
   "source": [
    "def fill_na(data):\n",
    "    d = pd.DataFrame()\n",
    "    for column in data:\n",
    "        d[column] = data[column].fillna(data.groupby(['Potability'])[column].transform('mean'))\n",
    "    return d"
   ]
  },
  {
   "cell_type": "code",
   "execution_count": 18,
   "id": "ce100546",
   "metadata": {},
   "outputs": [
    {
     "data": {
      "text/html": [
       "<div>\n",
       "<style scoped>\n",
       "    .dataframe tbody tr th:only-of-type {\n",
       "        vertical-align: middle;\n",
       "    }\n",
       "\n",
       "    .dataframe tbody tr th {\n",
       "        vertical-align: top;\n",
       "    }\n",
       "\n",
       "    .dataframe thead th {\n",
       "        text-align: right;\n",
       "    }\n",
       "</style>\n",
       "<table border=\"1\" class=\"dataframe\">\n",
       "  <thead>\n",
       "    <tr style=\"text-align: right;\">\n",
       "      <th></th>\n",
       "      <th>ph</th>\n",
       "      <th>Hardness</th>\n",
       "      <th>Solids</th>\n",
       "      <th>Chloramines</th>\n",
       "      <th>Sulfate</th>\n",
       "      <th>Conductivity</th>\n",
       "      <th>Organic_carbon</th>\n",
       "      <th>Trihalomethanes</th>\n",
       "      <th>Turbidity</th>\n",
       "      <th>Potability</th>\n",
       "    </tr>\n",
       "  </thead>\n",
       "  <tbody>\n",
       "    <tr>\n",
       "      <th>0</th>\n",
       "      <td>7.085378</td>\n",
       "      <td>204.890455</td>\n",
       "      <td>20791.318981</td>\n",
       "      <td>7.300212</td>\n",
       "      <td>368.516441</td>\n",
       "      <td>564.308654</td>\n",
       "      <td>10.379783</td>\n",
       "      <td>86.990970</td>\n",
       "      <td>2.963135</td>\n",
       "      <td>0</td>\n",
       "    </tr>\n",
       "    <tr>\n",
       "      <th>1</th>\n",
       "      <td>3.716080</td>\n",
       "      <td>129.422921</td>\n",
       "      <td>18630.057858</td>\n",
       "      <td>6.635246</td>\n",
       "      <td>334.564290</td>\n",
       "      <td>592.885359</td>\n",
       "      <td>15.180013</td>\n",
       "      <td>56.329076</td>\n",
       "      <td>4.500656</td>\n",
       "      <td>0</td>\n",
       "    </tr>\n",
       "    <tr>\n",
       "      <th>2</th>\n",
       "      <td>8.099124</td>\n",
       "      <td>224.236259</td>\n",
       "      <td>19909.541732</td>\n",
       "      <td>9.275884</td>\n",
       "      <td>334.564290</td>\n",
       "      <td>418.606213</td>\n",
       "      <td>16.868637</td>\n",
       "      <td>66.420093</td>\n",
       "      <td>3.055934</td>\n",
       "      <td>0</td>\n",
       "    </tr>\n",
       "    <tr>\n",
       "      <th>3</th>\n",
       "      <td>8.316766</td>\n",
       "      <td>214.373394</td>\n",
       "      <td>22018.417441</td>\n",
       "      <td>8.059332</td>\n",
       "      <td>356.886136</td>\n",
       "      <td>363.266516</td>\n",
       "      <td>18.436524</td>\n",
       "      <td>100.341674</td>\n",
       "      <td>4.628771</td>\n",
       "      <td>0</td>\n",
       "    </tr>\n",
       "    <tr>\n",
       "      <th>4</th>\n",
       "      <td>9.092223</td>\n",
       "      <td>181.101509</td>\n",
       "      <td>17978.986339</td>\n",
       "      <td>6.546600</td>\n",
       "      <td>310.135738</td>\n",
       "      <td>398.410813</td>\n",
       "      <td>11.558279</td>\n",
       "      <td>31.997993</td>\n",
       "      <td>4.075075</td>\n",
       "      <td>0</td>\n",
       "    </tr>\n",
       "    <tr>\n",
       "      <th>...</th>\n",
       "      <td>...</td>\n",
       "      <td>...</td>\n",
       "      <td>...</td>\n",
       "      <td>...</td>\n",
       "      <td>...</td>\n",
       "      <td>...</td>\n",
       "      <td>...</td>\n",
       "      <td>...</td>\n",
       "      <td>...</td>\n",
       "      <td>...</td>\n",
       "    </tr>\n",
       "    <tr>\n",
       "      <th>3271</th>\n",
       "      <td>4.668102</td>\n",
       "      <td>193.681735</td>\n",
       "      <td>47580.991603</td>\n",
       "      <td>7.166639</td>\n",
       "      <td>359.948574</td>\n",
       "      <td>526.424171</td>\n",
       "      <td>13.894419</td>\n",
       "      <td>66.687695</td>\n",
       "      <td>4.435821</td>\n",
       "      <td>1</td>\n",
       "    </tr>\n",
       "    <tr>\n",
       "      <th>3272</th>\n",
       "      <td>7.808856</td>\n",
       "      <td>193.553212</td>\n",
       "      <td>17329.802160</td>\n",
       "      <td>8.061362</td>\n",
       "      <td>332.566990</td>\n",
       "      <td>392.449580</td>\n",
       "      <td>19.903225</td>\n",
       "      <td>66.539684</td>\n",
       "      <td>2.798243</td>\n",
       "      <td>1</td>\n",
       "    </tr>\n",
       "    <tr>\n",
       "      <th>3273</th>\n",
       "      <td>9.419510</td>\n",
       "      <td>175.762646</td>\n",
       "      <td>33155.578218</td>\n",
       "      <td>7.350233</td>\n",
       "      <td>332.566990</td>\n",
       "      <td>432.044783</td>\n",
       "      <td>11.039070</td>\n",
       "      <td>69.845400</td>\n",
       "      <td>3.298875</td>\n",
       "      <td>1</td>\n",
       "    </tr>\n",
       "    <tr>\n",
       "      <th>3274</th>\n",
       "      <td>5.126763</td>\n",
       "      <td>230.603758</td>\n",
       "      <td>11983.869376</td>\n",
       "      <td>6.303357</td>\n",
       "      <td>332.566990</td>\n",
       "      <td>402.883113</td>\n",
       "      <td>11.168946</td>\n",
       "      <td>77.488213</td>\n",
       "      <td>4.708658</td>\n",
       "      <td>1</td>\n",
       "    </tr>\n",
       "    <tr>\n",
       "      <th>3275</th>\n",
       "      <td>7.874671</td>\n",
       "      <td>195.102299</td>\n",
       "      <td>17404.177061</td>\n",
       "      <td>7.509306</td>\n",
       "      <td>332.566990</td>\n",
       "      <td>327.459760</td>\n",
       "      <td>16.140368</td>\n",
       "      <td>78.698446</td>\n",
       "      <td>2.309149</td>\n",
       "      <td>1</td>\n",
       "    </tr>\n",
       "  </tbody>\n",
       "</table>\n",
       "<p>3276 rows × 10 columns</p>\n",
       "</div>"
      ],
      "text/plain": [
       "            ph    Hardness        Solids  Chloramines     Sulfate  \\\n",
       "0     7.085378  204.890455  20791.318981     7.300212  368.516441   \n",
       "1     3.716080  129.422921  18630.057858     6.635246  334.564290   \n",
       "2     8.099124  224.236259  19909.541732     9.275884  334.564290   \n",
       "3     8.316766  214.373394  22018.417441     8.059332  356.886136   \n",
       "4     9.092223  181.101509  17978.986339     6.546600  310.135738   \n",
       "...        ...         ...           ...          ...         ...   \n",
       "3271  4.668102  193.681735  47580.991603     7.166639  359.948574   \n",
       "3272  7.808856  193.553212  17329.802160     8.061362  332.566990   \n",
       "3273  9.419510  175.762646  33155.578218     7.350233  332.566990   \n",
       "3274  5.126763  230.603758  11983.869376     6.303357  332.566990   \n",
       "3275  7.874671  195.102299  17404.177061     7.509306  332.566990   \n",
       "\n",
       "      Conductivity  Organic_carbon  Trihalomethanes  Turbidity  Potability  \n",
       "0       564.308654       10.379783        86.990970   2.963135           0  \n",
       "1       592.885359       15.180013        56.329076   4.500656           0  \n",
       "2       418.606213       16.868637        66.420093   3.055934           0  \n",
       "3       363.266516       18.436524       100.341674   4.628771           0  \n",
       "4       398.410813       11.558279        31.997993   4.075075           0  \n",
       "...            ...             ...              ...        ...         ...  \n",
       "3271    526.424171       13.894419        66.687695   4.435821           1  \n",
       "3272    392.449580       19.903225        66.539684   2.798243           1  \n",
       "3273    432.044783       11.039070        69.845400   3.298875           1  \n",
       "3274    402.883113       11.168946        77.488213   4.708658           1  \n",
       "3275    327.459760       16.140368        78.698446   2.309149           1  \n",
       "\n",
       "[3276 rows x 10 columns]"
      ]
     },
     "execution_count": 18,
     "metadata": {},
     "output_type": "execute_result"
    }
   ],
   "source": [
    "df = fill_na(df)\n",
    "df"
   ]
  },
  {
   "cell_type": "code",
   "execution_count": 60,
   "id": "f65c1d2a",
   "metadata": {},
   "outputs": [
    {
     "data": {
      "text/plain": [
       "ph                 0\n",
       "Hardness           0\n",
       "Solids             0\n",
       "Chloramines        0\n",
       "Sulfate            0\n",
       "Conductivity       0\n",
       "Organic_carbon     0\n",
       "Trihalomethanes    0\n",
       "Turbidity          0\n",
       "Potability         0\n",
       "dtype: int64"
      ]
     },
     "execution_count": 60,
     "metadata": {},
     "output_type": "execute_result"
    }
   ],
   "source": [
    "df.isna().sum()"
   ]
  },
  {
   "cell_type": "code",
   "execution_count": 19,
   "id": "9a8ca1c8",
   "metadata": {},
   "outputs": [],
   "source": [
    "# df['ph'] = df['ph'].fillna(df.groupby(['Potability'])['ph'].transform('mean'))\n",
    "# df['Sulfate'] = df['Sulfate'].fillna(df.groupby(['Potability'])['Sulfate'].transform('mean'))\n",
    "# df['Trihalomethanes'] = df['Trihalomethanes'].fillna(df.groupby(['Potability'])['Trihalomethanes'].transform('mean'))"
   ]
  },
  {
   "cell_type": "markdown",
   "id": "8a873a1e",
   "metadata": {},
   "source": [
    "#### Splitting and balancing the data set"
   ]
  },
  {
   "cell_type": "code",
   "execution_count": 20,
   "id": "9baf4524",
   "metadata": {},
   "outputs": [],
   "source": [
    "X = df.drop(columns=['Potability'])\n",
    "y = df['Potability']"
   ]
  },
  {
   "cell_type": "code",
   "execution_count": 21,
   "id": "56be0b59",
   "metadata": {},
   "outputs": [
    {
     "name": "stdout",
     "output_type": "stream",
     "text": [
      "(3276, 9)\n",
      "(3276,)\n"
     ]
    }
   ],
   "source": [
    "print(X.shape)\n",
    "print(y.shape)"
   ]
  },
  {
   "cell_type": "markdown",
   "id": "80182cde",
   "metadata": {},
   "source": [
    "#### Undersampling"
   ]
  },
  {
   "cell_type": "markdown",
   "id": "d260efd9",
   "metadata": {
    "heading_collapsed": true
   },
   "source": [
    "##### Random Undersampling"
   ]
  },
  {
   "cell_type": "code",
   "execution_count": 22,
   "id": "4624c6f4",
   "metadata": {
    "hidden": true
   },
   "outputs": [],
   "source": [
    "X_undersampled, y_undersampled = RandomUnderSampler(random_state=42).fit_resample(X,y)"
   ]
  },
  {
   "cell_type": "code",
   "execution_count": 23,
   "id": "89e97391",
   "metadata": {
    "hidden": true,
    "scrolled": true
   },
   "outputs": [
    {
     "name": "stdout",
     "output_type": "stream",
     "text": [
      "(2556, 9)\n",
      "(2556,)\n"
     ]
    }
   ],
   "source": [
    "print(X_undersampled.shape)\n",
    "print(y_undersampled.shape)"
   ]
  },
  {
   "cell_type": "markdown",
   "id": "74c8c97d",
   "metadata": {
    "heading_collapsed": true
   },
   "source": [
    "##### Condensed Nearest Neighbour"
   ]
  },
  {
   "cell_type": "code",
   "execution_count": 24,
   "id": "afbea1eb",
   "metadata": {
    "hidden": true
   },
   "outputs": [],
   "source": [
    "X_condensed, y_condensed = CondensedNearestNeighbour(random_state=42).fit_resample(X,y)"
   ]
  },
  {
   "cell_type": "code",
   "execution_count": 25,
   "id": "6f5037ea",
   "metadata": {
    "hidden": true
   },
   "outputs": [
    {
     "name": "stdout",
     "output_type": "stream",
     "text": [
      "(2290, 9)\n",
      "(2290,)\n"
     ]
    }
   ],
   "source": [
    "print(X_condensed.shape)\n",
    "print(y_condensed.shape)"
   ]
  },
  {
   "cell_type": "markdown",
   "id": "c3c2ab6e",
   "metadata": {},
   "source": [
    "##### Instance Hardness Threshold THE BEST SO FAR"
   ]
  },
  {
   "cell_type": "code",
   "execution_count": 26,
   "id": "8a708c45",
   "metadata": {},
   "outputs": [],
   "source": [
    "X_instance, y_instance = InstanceHardnessThreshold(random_state=42, ).fit_resample(X,y)"
   ]
  },
  {
   "cell_type": "code",
   "execution_count": 27,
   "id": "381c3241",
   "metadata": {},
   "outputs": [
    {
     "name": "stdout",
     "output_type": "stream",
     "text": [
      "(2589, 9)\n",
      "(2589,)\n"
     ]
    }
   ],
   "source": [
    "print(X_instance.shape)\n",
    "print(y_instance.shape)"
   ]
  },
  {
   "cell_type": "markdown",
   "id": "0aab1f72",
   "metadata": {},
   "source": [
    "#### Oversampling"
   ]
  },
  {
   "cell_type": "markdown",
   "id": "93d3cb0b",
   "metadata": {
    "heading_collapsed": true
   },
   "source": [
    "##### Random Oversampling"
   ]
  },
  {
   "cell_type": "code",
   "execution_count": 28,
   "id": "b541b7a6",
   "metadata": {
    "hidden": true
   },
   "outputs": [],
   "source": [
    "X_oversampled, y_oversampled = RandomOverSampler(random_state=42).fit_resample(X,y)"
   ]
  },
  {
   "cell_type": "code",
   "execution_count": 29,
   "id": "419629f9",
   "metadata": {
    "hidden": true
   },
   "outputs": [
    {
     "name": "stdout",
     "output_type": "stream",
     "text": [
      "(3996, 9)\n",
      "(3996,)\n"
     ]
    }
   ],
   "source": [
    "print(X_oversampled.shape)\n",
    "print(y_oversampled.shape)"
   ]
  },
  {
   "cell_type": "markdown",
   "id": "519bf3c3",
   "metadata": {
    "heading_collapsed": true
   },
   "source": [
    "##### SMOTE"
   ]
  },
  {
   "cell_type": "code",
   "execution_count": 30,
   "id": "1fcc3154",
   "metadata": {
    "hidden": true
   },
   "outputs": [],
   "source": [
    "X_smote, y_smote = SMOTE().fit_resample(X,y)"
   ]
  },
  {
   "cell_type": "code",
   "execution_count": 31,
   "id": "754d684d",
   "metadata": {
    "hidden": true
   },
   "outputs": [
    {
     "name": "stdout",
     "output_type": "stream",
     "text": [
      "(3996, 9)\n",
      "(3996,)\n"
     ]
    }
   ],
   "source": [
    "print(X_smote.shape)\n",
    "print(y_smote.shape)"
   ]
  },
  {
   "cell_type": "markdown",
   "id": "488500cd",
   "metadata": {
    "heading_collapsed": true
   },
   "source": [
    "##### ADASYN"
   ]
  },
  {
   "cell_type": "code",
   "execution_count": 32,
   "id": "41b10440",
   "metadata": {
    "hidden": true
   },
   "outputs": [],
   "source": [
    "X_adasyn, y_adasyn = ADASYN().fit_resample(X,y)"
   ]
  },
  {
   "cell_type": "code",
   "execution_count": 33,
   "id": "1eede029",
   "metadata": {
    "hidden": true
   },
   "outputs": [
    {
     "name": "stdout",
     "output_type": "stream",
     "text": [
      "(4186, 9)\n",
      "(4186,)\n"
     ]
    }
   ],
   "source": [
    "print(X_adasyn.shape)\n",
    "print(y_adasyn.shape)"
   ]
  },
  {
   "cell_type": "markdown",
   "id": "b84a792f",
   "metadata": {
    "heading_collapsed": true
   },
   "source": [
    "##### SMOTEENN"
   ]
  },
  {
   "cell_type": "code",
   "execution_count": 34,
   "id": "f0fa3e3d",
   "metadata": {
    "hidden": true
   },
   "outputs": [],
   "source": [
    "X_smoteen, y_smoteen = SMOTEENN().fit_resample(X,y)"
   ]
  },
  {
   "cell_type": "code",
   "execution_count": 35,
   "id": "a7a566f5",
   "metadata": {
    "hidden": true
   },
   "outputs": [
    {
     "name": "stdout",
     "output_type": "stream",
     "text": [
      "(1123, 9)\n",
      "(1123,)\n"
     ]
    }
   ],
   "source": [
    "print(X_smoteen.shape)\n",
    "print(y_smoteen.shape)"
   ]
  },
  {
   "cell_type": "code",
   "execution_count": 36,
   "id": "976055a0",
   "metadata": {
    "hidden": true
   },
   "outputs": [],
   "source": [
    "##### SMOTETomek"
   ]
  },
  {
   "cell_type": "code",
   "execution_count": 37,
   "id": "ffe35c7f",
   "metadata": {
    "hidden": true
   },
   "outputs": [],
   "source": [
    "X_smotetomek, y_smotetomek = SMOTETomek().fit_resample(X,y)"
   ]
  },
  {
   "cell_type": "code",
   "execution_count": 38,
   "id": "a3d18128",
   "metadata": {
    "hidden": true
   },
   "outputs": [
    {
     "name": "stdout",
     "output_type": "stream",
     "text": [
      "(3502, 9)\n",
      "(3502,)\n"
     ]
    }
   ],
   "source": [
    "print(X_smotetomek.shape)\n",
    "print(y_smotetomek.shape)"
   ]
  },
  {
   "cell_type": "markdown",
   "id": "dfb28510",
   "metadata": {},
   "source": [
    "##### Train Test Split"
   ]
  },
  {
   "cell_type": "code",
   "execution_count": 39,
   "id": "cf2af166",
   "metadata": {
    "scrolled": true
   },
   "outputs": [],
   "source": [
    "X_train, X_test, y_train, y_test = train_test_split(X_instance, y_instance, test_size=0.3, random_state=42)"
   ]
  },
  {
   "cell_type": "markdown",
   "id": "24bafc40",
   "metadata": {},
   "source": [
    "#### Scale the data"
   ]
  },
  {
   "cell_type": "code",
   "execution_count": 40,
   "id": "58e939be",
   "metadata": {
    "scrolled": false
   },
   "outputs": [
    {
     "data": {
      "image/png": "[encoded data removed]",
      "text/plain": [
       "<Figure size 720x432 with 1 Axes>"
      ]
     },
     "metadata": {
      "needs_background": "light"
     },
     "output_type": "display_data"
    }
   ],
   "source": [
    "plt.figure(figsize=(10,6))\n",
    "plt.boxplot(df);"
   ]
  },
  {
   "cell_type": "code",
   "execution_count": 41,
   "id": "2101064a",
   "metadata": {},
   "outputs": [
    {
     "data": {
      "text/html": [
       "<div>\n",
       "<style scoped>\n",
       "    .dataframe tbody tr th:only-of-type {\n",
       "        vertical-align: middle;\n",
       "    }\n",
       "\n",
       "    .dataframe tbody tr th {\n",
       "        vertical-align: top;\n",
       "    }\n",
       "\n",
       "    .dataframe thead th {\n",
       "        text-align: right;\n",
       "    }\n",
       "</style>\n",
       "<table border=\"1\" class=\"dataframe\">\n",
       "  <thead>\n",
       "    <tr style=\"text-align: right;\">\n",
       "      <th></th>\n",
       "      <th>0</th>\n",
       "      <th>1</th>\n",
       "      <th>2</th>\n",
       "      <th>3</th>\n",
       "      <th>4</th>\n",
       "      <th>5</th>\n",
       "      <th>6</th>\n",
       "      <th>7</th>\n",
       "      <th>8</th>\n",
       "    </tr>\n",
       "  </thead>\n",
       "  <tbody>\n",
       "    <tr>\n",
       "      <th>0</th>\n",
       "      <td>0.077770</td>\n",
       "      <td>-1.018906</td>\n",
       "      <td>-0.879789</td>\n",
       "      <td>0.139628</td>\n",
       "      <td>-0.304062</td>\n",
       "      <td>0.193497</td>\n",
       "      <td>-1.377536</td>\n",
       "      <td>1.510368</td>\n",
       "      <td>0.659381</td>\n",
       "    </tr>\n",
       "    <tr>\n",
       "      <th>1</th>\n",
       "      <td>-0.009601</td>\n",
       "      <td>1.066671</td>\n",
       "      <td>-0.815580</td>\n",
       "      <td>-1.050615</td>\n",
       "      <td>-0.009574</td>\n",
       "      <td>-0.522192</td>\n",
       "      <td>-0.649408</td>\n",
       "      <td>1.265425</td>\n",
       "      <td>1.402426</td>\n",
       "    </tr>\n",
       "    <tr>\n",
       "      <th>2</th>\n",
       "      <td>1.607554</td>\n",
       "      <td>0.599198</td>\n",
       "      <td>0.702194</td>\n",
       "      <td>-0.618891</td>\n",
       "      <td>0.578603</td>\n",
       "      <td>-0.969928</td>\n",
       "      <td>0.630768</td>\n",
       "      <td>-2.178055</td>\n",
       "      <td>-1.130363</td>\n",
       "    </tr>\n",
       "    <tr>\n",
       "      <th>3</th>\n",
       "      <td>-0.462259</td>\n",
       "      <td>0.537821</td>\n",
       "      <td>-1.441002</td>\n",
       "      <td>1.815757</td>\n",
       "      <td>-1.728392</td>\n",
       "      <td>1.024591</td>\n",
       "      <td>-0.416629</td>\n",
       "      <td>0.330608</td>\n",
       "      <td>1.266303</td>\n",
       "    </tr>\n",
       "    <tr>\n",
       "      <th>4</th>\n",
       "      <td>-0.363930</td>\n",
       "      <td>-1.224518</td>\n",
       "      <td>-1.047963</td>\n",
       "      <td>1.665093</td>\n",
       "      <td>0.192547</td>\n",
       "      <td>-0.086991</td>\n",
       "      <td>-1.196805</td>\n",
       "      <td>0.769339</td>\n",
       "      <td>-0.246674</td>\n",
       "    </tr>\n",
       "    <tr>\n",
       "      <th>...</th>\n",
       "      <td>...</td>\n",
       "      <td>...</td>\n",
       "      <td>...</td>\n",
       "      <td>...</td>\n",
       "      <td>...</td>\n",
       "      <td>...</td>\n",
       "      <td>...</td>\n",
       "      <td>...</td>\n",
       "      <td>...</td>\n",
       "    </tr>\n",
       "    <tr>\n",
       "      <th>1807</th>\n",
       "      <td>0.653755</td>\n",
       "      <td>-1.459679</td>\n",
       "      <td>3.061864</td>\n",
       "      <td>-1.506320</td>\n",
       "      <td>-1.876113</td>\n",
       "      <td>-0.411255</td>\n",
       "      <td>-0.557493</td>\n",
       "      <td>0.018692</td>\n",
       "      <td>-1.905241</td>\n",
       "    </tr>\n",
       "    <tr>\n",
       "      <th>1808</th>\n",
       "      <td>0.759617</td>\n",
       "      <td>0.986181</td>\n",
       "      <td>-0.998898</td>\n",
       "      <td>-0.712787</td>\n",
       "      <td>-0.023921</td>\n",
       "      <td>2.232536</td>\n",
       "      <td>0.177027</td>\n",
       "      <td>2.365485</td>\n",
       "      <td>-0.355510</td>\n",
       "    </tr>\n",
       "    <tr>\n",
       "      <th>1809</th>\n",
       "      <td>0.859666</td>\n",
       "      <td>1.194756</td>\n",
       "      <td>-0.343391</td>\n",
       "      <td>-1.810649</td>\n",
       "      <td>-0.009574</td>\n",
       "      <td>-0.512896</td>\n",
       "      <td>0.256675</td>\n",
       "      <td>-0.685154</td>\n",
       "      <td>-0.722600</td>\n",
       "    </tr>\n",
       "    <tr>\n",
       "      <th>1810</th>\n",
       "      <td>-0.091241</td>\n",
       "      <td>-0.561925</td>\n",
       "      <td>2.091411</td>\n",
       "      <td>1.139563</td>\n",
       "      <td>0.060771</td>\n",
       "      <td>-0.401606</td>\n",
       "      <td>-0.012526</td>\n",
       "      <td>0.582439</td>\n",
       "      <td>-0.428475</td>\n",
       "    </tr>\n",
       "    <tr>\n",
       "      <th>1811</th>\n",
       "      <td>0.829197</td>\n",
       "      <td>-0.150989</td>\n",
       "      <td>0.076892</td>\n",
       "      <td>0.536506</td>\n",
       "      <td>-0.009574</td>\n",
       "      <td>-1.655517</td>\n",
       "      <td>1.140830</td>\n",
       "      <td>0.403787</td>\n",
       "      <td>0.434659</td>\n",
       "    </tr>\n",
       "  </tbody>\n",
       "</table>\n",
       "<p>1812 rows × 9 columns</p>\n",
       "</div>"
      ],
      "text/plain": [
       "             0         1         2         3         4         5         6  \\\n",
       "0     0.077770 -1.018906 -0.879789  0.139628 -0.304062  0.193497 -1.377536   \n",
       "1    -0.009601  1.066671 -0.815580 -1.050615 -0.009574 -0.522192 -0.649408   \n",
       "2     1.607554  0.599198  0.702194 -0.618891  0.578603 -0.969928  0.630768   \n",
       "3    -0.462259  0.537821 -1.441002  1.815757 -1.728392  1.024591 -0.416629   \n",
       "4    -0.363930 -1.224518 -1.047963  1.665093  0.192547 -0.086991 -1.196805   \n",
       "...        ...       ...       ...       ...       ...       ...       ...   \n",
       "1807  0.653755 -1.459679  3.061864 -1.506320 -1.876113 -0.411255 -0.557493   \n",
       "1808  0.759617  0.986181 -0.998898 -0.712787 -0.023921  2.232536  0.177027   \n",
       "1809  0.859666  1.194756 -0.343391 -1.810649 -0.009574 -0.512896  0.256675   \n",
       "1810 -0.091241 -0.561925  2.091411  1.139563  0.060771 -0.401606 -0.012526   \n",
       "1811  0.829197 -0.150989  0.076892  0.536506 -0.009574 -1.655517  1.140830   \n",
       "\n",
       "             7         8  \n",
       "0     1.510368  0.659381  \n",
       "1     1.265425  1.402426  \n",
       "2    -2.178055 -1.130363  \n",
       "3     0.330608  1.266303  \n",
       "4     0.769339 -0.246674  \n",
       "...        ...       ...  \n",
       "1807  0.018692 -1.905241  \n",
       "1808  2.365485 -0.355510  \n",
       "1809 -0.685154 -0.722600  \n",
       "1810  0.582439 -0.428475  \n",
       "1811  0.403787  0.434659  \n",
       "\n",
       "[1812 rows x 9 columns]"
      ]
     },
     "execution_count": 41,
     "metadata": {},
     "output_type": "execute_result"
    }
   ],
   "source": [
    "scaler = StandardScaler()\n",
    "X_train_transformed = scaler.fit_transform(X_train)\n",
    "pd.DataFrame(X_train_transformed)"
   ]
  },
  {
   "cell_type": "code",
   "execution_count": 42,
   "id": "620026eb",
   "metadata": {},
   "outputs": [
    {
     "data": {
      "text/plain": [
       "array([[ 3.57317984e-01, -1.87017475e-01, -1.46704455e+00, ...,\n",
       "         8.97200043e-01, -5.82795869e-02,  3.32386612e+00],\n",
       "       [-9.60140549e-03, -3.66990264e-01, -1.15504959e-01, ...,\n",
       "         1.27581958e+00, -2.55499136e-04, -2.40398679e-01],\n",
       "       [ 8.91127782e-01,  4.94076104e-02,  7.62808159e-01, ...,\n",
       "         3.38884694e-01, -1.97944949e+00,  7.41039061e-01],\n",
       "       ...,\n",
       "       [-1.76804977e-02, -1.64854835e+00,  2.68490684e+00, ...,\n",
       "         1.93887380e+00,  2.50206342e-01,  8.45964205e-01],\n",
       "       [-2.44109551e-01, -9.18182641e-01,  7.09892212e-02, ...,\n",
       "        -4.49325477e-01, -6.83333869e-01, -8.48180987e-01],\n",
       "       [-1.96174303e-01,  6.76775512e-01,  6.56069055e-01, ...,\n",
       "         1.59572872e+00,  1.48150834e-01, -1.19458562e+00]])"
      ]
     },
     "execution_count": 42,
     "metadata": {},
     "output_type": "execute_result"
    }
   ],
   "source": [
    "X_test_transformed = scaler.transform(X_test)\n",
    "X_test_transformed"
   ]
  },
  {
   "cell_type": "code",
   "execution_count": 43,
   "id": "ae150066",
   "metadata": {
    "scrolled": false
   },
   "outputs": [
    {
     "data": {
      "image/png": "[encoded data removed]",
      "text/plain": [
       "<Figure size 720x432 with 1 Axes>"
      ]
     },
     "metadata": {
      "needs_background": "light"
     },
     "output_type": "display_data"
    }
   ],
   "source": [
    "plt.figure(figsize=(10,6))\n",
    "plt.boxplot(X_train_transformed);"
   ]
  },
  {
   "cell_type": "markdown",
   "id": "b901ce39",
   "metadata": {},
   "source": [
    "#### Getting a baseline"
   ]
  },
  {
   "cell_type": "code",
   "execution_count": 44,
   "id": "703f121e",
   "metadata": {},
   "outputs": [],
   "source": [
    "log_model = LogisticRegression(random_state=42).fit(X_train_transformed, y_train)"
   ]
  },
  {
   "cell_type": "code",
   "execution_count": 45,
   "id": "9649f3eb",
   "metadata": {},
   "outputs": [],
   "source": [
    "y_pred = log_model.predict(X_test_transformed)"
   ]
  },
  {
   "cell_type": "code",
   "execution_count": 46,
   "id": "d72a62e8",
   "metadata": {},
   "outputs": [
    {
     "data": {
      "text/plain": [
       "0.5331125827814569"
      ]
     },
     "execution_count": 46,
     "metadata": {},
     "output_type": "execute_result"
    }
   ],
   "source": [
    "log_model.score(X_train_transformed, y_train)"
   ]
  },
  {
   "cell_type": "code",
   "execution_count": 47,
   "id": "380f5f75",
   "metadata": {},
   "outputs": [
    {
     "data": {
      "text/plain": [
       "array([0, 0, 1, 1, 0, 0, 0, 1, 0, 0, 0, 1, 1, 1, 1, 0, 0, 1, 0, 0, 1, 0,\n",
       "       0, 1, 1, 1, 0, 0, 0, 1, 0, 0, 0, 0, 0, 0, 1, 1, 0, 0, 1, 0, 0, 1,\n",
       "       1, 0, 1, 1, 1, 1, 1, 0, 1, 0, 1, 1, 0, 0, 0, 1, 1, 0, 0, 0, 1, 0,\n",
       "       0, 1, 0, 1, 0, 0, 0, 1, 0, 1, 1, 1, 0, 0, 0, 1, 1, 0, 0, 1, 0, 1,\n",
       "       0, 0, 0, 1, 1, 0, 1, 0, 0, 1, 0, 1, 0, 0, 0, 1, 0, 1, 1, 0, 1, 0,\n",
       "       1, 0, 1, 1, 1, 0, 0, 0, 0, 0, 0, 1, 1, 0, 1, 0, 1, 0, 1, 1, 1, 0,\n",
       "       0, 0, 1, 0, 0, 1, 0, 0, 1, 0, 1, 0, 1, 0, 1, 0, 1, 1, 0, 1, 1, 1,\n",
       "       0, 0, 1, 0, 0, 0, 1, 0, 1, 0, 1, 0, 0, 0, 1, 0, 0, 1, 1, 0, 0, 0,\n",
       "       0, 0, 0, 0, 0, 0, 1, 0, 1, 1, 1, 1, 0, 1, 0, 0, 0, 1, 1, 1, 1, 1,\n",
       "       0, 0, 1, 1, 1, 0, 1, 0, 0, 0, 0, 0, 0, 0, 0, 0, 0, 0, 1, 0, 0, 1,\n",
       "       0, 1, 0, 0, 0, 0, 1, 0, 1, 0, 0, 1, 0, 1, 0, 1, 1, 0, 1, 0, 0, 0,\n",
       "       0, 0, 0, 1, 1, 0, 0, 0, 0, 0, 0, 0, 0, 0, 0, 0, 1, 1, 1, 0, 1, 0,\n",
       "       0, 0, 1, 0, 1, 0, 0, 0, 1, 1, 0, 0, 1, 0, 0, 0, 0, 0, 0, 0, 0, 0,\n",
       "       0, 1, 1, 1, 0, 0, 0, 0, 0, 0, 0, 1, 0, 1, 1, 0, 1, 0, 1, 1, 1, 1,\n",
       "       0, 1, 1, 1, 0, 0, 1, 1, 1, 1, 1, 1, 0, 1, 0, 1, 1, 1, 1, 0, 1, 1,\n",
       "       0, 1, 0, 1, 1, 1, 0, 1, 0, 1, 0, 0, 0, 0, 0, 0, 1, 0, 1, 0, 1, 1,\n",
       "       1, 0, 0, 0, 1, 0, 0, 1, 0, 1, 0, 0, 0, 0, 0, 0, 0, 1, 0, 0, 0, 0,\n",
       "       0, 1, 0, 0, 0, 1, 1, 1, 1, 0, 0, 1, 0, 0, 0, 1, 1, 0, 1, 0, 1, 1,\n",
       "       0, 1, 0, 1, 0, 1, 0, 0, 0, 0, 0, 0, 0, 1, 0, 1, 0, 1, 0, 0, 0, 1,\n",
       "       0, 1, 0, 0, 0, 0, 0, 0, 0, 1, 1, 0, 0, 0, 1, 0, 0, 1, 0, 1, 0, 0,\n",
       "       0, 0, 1, 0, 0, 0, 1, 0, 1, 1, 0, 0, 1, 0, 1, 0, 1, 1, 0, 1, 0, 0,\n",
       "       0, 1, 1, 1, 1, 0, 0, 0, 0, 0, 0, 0, 0, 0, 0, 1, 0, 0, 1, 1, 0, 0,\n",
       "       1, 1, 0, 0, 0, 0, 0, 0, 0, 0, 0, 0, 0, 1, 1, 1, 1, 1, 0, 0, 0, 1,\n",
       "       0, 1, 0, 0, 0, 1, 0, 0, 1, 0, 0, 1, 1, 0, 0, 0, 1, 1, 0, 0, 0, 1,\n",
       "       1, 1, 1, 1, 0, 1, 1, 1, 0, 1, 0, 0, 0, 1, 0, 0, 0, 1, 0, 1, 0, 0,\n",
       "       1, 1, 0, 1, 1, 0, 1, 0, 1, 0, 1, 0, 1, 1, 1, 1, 0, 1, 1, 0, 0, 1,\n",
       "       0, 0, 1, 1, 0, 0, 0, 0, 0, 0, 1, 1, 1, 1, 1, 1, 0, 1, 0, 1, 0, 0,\n",
       "       1, 0, 0, 0, 0, 0, 0, 1, 1, 1, 1, 1, 0, 1, 0, 0, 0, 0, 1, 1, 0, 1,\n",
       "       0, 0, 0, 1, 0, 1, 1, 0, 0, 1, 0, 0, 1, 1, 0, 1, 1, 1, 1, 0, 1, 0,\n",
       "       0, 1, 1, 0, 1, 1, 1, 0, 0, 1, 0, 1, 0, 1, 1, 0, 0, 0, 0, 0, 1, 0,\n",
       "       1, 1, 0, 1, 0, 1, 0, 1, 1, 1, 0, 0, 0, 0, 1, 0, 0, 1, 0, 0, 0, 0,\n",
       "       0, 0, 1, 0, 0, 0, 0, 0, 0, 0, 1, 1, 0, 0, 0, 0, 0, 0, 0, 1, 0, 0,\n",
       "       0, 1, 0, 0, 1, 0, 0, 1, 1, 1, 1, 1, 1, 1, 0, 0, 0, 0, 0, 1, 0, 0,\n",
       "       0, 0, 0, 1, 0, 1, 0, 1, 0, 1, 1, 1, 0, 1, 0, 0, 0, 0, 1, 1, 1, 0,\n",
       "       0, 0, 1, 0, 0, 0, 1, 0, 1, 1, 0, 0, 1, 1, 0, 1, 1, 1, 0, 0, 0, 1,\n",
       "       1, 0, 0, 1, 1, 1, 0])"
      ]
     },
     "execution_count": 47,
     "metadata": {},
     "output_type": "execute_result"
    }
   ],
   "source": [
    "y_pred"
   ]
  },
  {
   "cell_type": "code",
   "execution_count": 48,
   "id": "13638bab",
   "metadata": {},
   "outputs": [
    {
     "data": {
      "text/plain": [
       "matrix([[0, 0, 1, 0, 0, 0, 0, 1, 1, 0, 0, 0, 1, 0, 0, 0, 0, 1, 1, 1, 0,\n",
       "         1, 1, 0, 1, 0, 1, 1, 1, 1, 0, 1, 0, 1, 0, 0, 0, 1, 0, 0, 0, 0,\n",
       "         1, 1, 1, 0, 0, 1, 0, 0, 1, 1, 1, 0, 1, 0, 0, 1, 0, 0, 1, 1, 0,\n",
       "         0, 1, 0, 1, 0, 1, 1, 1, 0, 0, 1, 0, 0, 0, 0, 1, 0, 0, 0, 1, 0,\n",
       "         1, 0, 0, 1, 0, 1, 1, 0, 1, 0, 0, 1, 0, 0, 1, 0, 0, 1, 1, 0, 1,\n",
       "         0, 0, 1, 0, 1, 1, 1, 0, 1, 1, 1, 1, 1, 1, 1, 0, 1, 1, 0, 1, 0,\n",
       "         1, 1, 1, 0, 1, 1, 0, 1, 1, 1, 0, 1, 1, 0, 1, 1, 1, 1, 1, 1, 1,\n",
       "         1, 0, 1, 0, 0, 0, 1, 1, 0, 0, 1, 1, 1, 0, 0, 1, 1, 0, 0, 1, 0,\n",
       "         0, 1, 0, 0, 0, 1, 1, 0, 1, 1, 1, 1, 1, 0, 1, 1, 1, 0, 0, 0, 1,\n",
       "         0, 1, 1, 0, 1, 0, 0, 0, 0, 0, 1, 0, 0, 1, 1, 0, 1, 0, 0, 1, 0,\n",
       "         1, 1, 0, 0, 0, 1, 0, 1, 0, 0, 0, 1, 1, 1, 1, 1, 0, 1, 0, 0, 1,\n",
       "         0, 0, 0, 1, 1, 1, 0, 1, 0, 1, 0, 0, 1, 0, 0, 0, 1, 0, 0, 1, 1,\n",
       "         0, 0, 0, 1, 0, 1, 0, 0, 0, 0, 1, 1, 1, 1, 1, 1, 1, 1, 0, 0, 0,\n",
       "         0, 0, 1, 0, 0, 0, 0, 1, 1, 1, 1, 0, 0, 0, 1, 1, 0, 0, 0, 0, 0,\n",
       "         0, 0, 1, 0, 0, 1, 1, 1, 1, 0, 0, 1, 0, 1, 1, 1, 1, 1, 0, 1, 0,\n",
       "         1, 1, 1, 1, 1, 0, 1, 0, 1, 1, 1, 0, 0, 1, 1, 0, 0, 0, 1, 1, 1,\n",
       "         0, 1, 0, 0, 1, 0, 0, 1, 0, 1, 0, 0, 1, 1, 0, 1, 0, 1, 1, 0, 1,\n",
       "         0, 1, 0, 1, 0, 1, 1, 0, 0, 0, 0, 1, 0, 0, 0, 0, 1, 0, 0, 1, 0,\n",
       "         1, 0, 0, 0, 0, 1, 1, 1, 0, 0, 0, 0, 1, 0, 0, 1, 1, 1, 0, 0, 0,\n",
       "         0, 1, 1, 1, 0, 0, 1, 0, 1, 1, 1, 0, 1, 0, 1, 0, 0, 1, 1, 0, 1,\n",
       "         1, 0, 0, 0, 1, 1, 0, 0, 1, 1, 1, 0, 1, 1, 0, 0, 1, 1, 1, 1, 0,\n",
       "         1, 0, 0, 1, 0, 1, 0, 0, 0, 0, 1, 1, 0, 1, 0, 1, 0, 0, 1, 0, 0,\n",
       "         1, 0, 1, 1, 0, 0, 1, 0, 0, 0, 1, 1, 1, 0, 0, 1, 0, 0, 1, 1, 1,\n",
       "         0, 0, 1, 1, 1, 0, 0, 0, 0, 0, 1, 0, 0, 1, 1, 0, 1, 0, 1, 1, 0,\n",
       "         0, 0, 0, 0, 1, 0, 1, 0, 0, 0, 1, 0, 0, 0, 0, 1, 0, 0, 0, 1, 1,\n",
       "         1, 0, 1, 1, 1, 1, 0, 1, 0, 1, 0, 0, 0, 0, 1, 0, 1, 0, 1, 1, 1,\n",
       "         0, 1, 1, 1, 1, 1, 1, 1, 1, 1, 1, 1, 1, 1, 1, 0, 0, 0, 0, 0, 0,\n",
       "         1, 0, 1, 0, 1, 0, 0, 0, 1, 1, 1, 0, 0, 1, 0, 0, 1, 0, 0, 0, 0,\n",
       "         1, 0, 0, 1, 1, 1, 1, 1, 1, 0, 0, 1, 1, 0, 1, 0, 1, 0, 0, 1, 1,\n",
       "         1, 0, 1, 1, 0, 1, 1, 0, 0, 0, 0, 0, 1, 1, 0, 1, 0, 1, 1, 0, 1,\n",
       "         1, 0, 0, 0, 1, 1, 0, 0, 0, 1, 1, 1, 1, 0, 0, 1, 1, 0, 0, 0, 0,\n",
       "         1, 1, 0, 0, 0, 0, 1, 0, 0, 0, 1, 1, 1, 1, 1, 1, 1, 0, 1, 1, 1,\n",
       "         0, 1, 1, 0, 0, 1, 0, 1, 0, 1, 1, 0, 0, 1, 0, 1, 0, 1, 0, 1, 1,\n",
       "         0, 1, 1, 0, 0, 0, 1, 1, 1, 0, 0, 1, 0, 1, 1, 0, 0, 1, 1, 0, 0,\n",
       "         1, 0, 0, 1, 0, 1, 1, 1, 0, 0, 1, 1, 0, 1, 0, 1, 1, 1, 0, 1, 0,\n",
       "         0, 1, 0, 1, 1, 1, 0, 0, 1, 0, 1, 0, 0, 1, 0, 1, 0, 0, 0, 1, 0,\n",
       "         1, 0, 0, 1, 0, 1, 0, 0, 0, 0, 1, 1, 0, 1, 0, 0, 1, 0, 1, 1, 1]])"
      ]
     },
     "execution_count": 48,
     "metadata": {},
     "output_type": "execute_result"
    }
   ],
   "source": [
    "np.matrix(y_test)"
   ]
  },
  {
   "cell_type": "markdown",
   "id": "82fc3f75",
   "metadata": {},
   "source": [
    "#### Logistic regression grid scoring"
   ]
  },
  {
   "cell_type": "code",
   "execution_count": 49,
   "id": "5424eb23",
   "metadata": {},
   "outputs": [
    {
     "data": {
      "text/plain": [
       "{'C': 1.0,\n",
       " 'class_weight': None,\n",
       " 'dual': False,\n",
       " 'fit_intercept': True,\n",
       " 'intercept_scaling': 1,\n",
       " 'l1_ratio': None,\n",
       " 'max_iter': 100,\n",
       " 'multi_class': 'auto',\n",
       " 'n_jobs': None,\n",
       " 'penalty': 'l2',\n",
       " 'random_state': 42,\n",
       " 'solver': 'lbfgs',\n",
       " 'tol': 0.0001,\n",
       " 'verbose': 0,\n",
       " 'warm_start': False}"
      ]
     },
     "execution_count": 49,
     "metadata": {},
     "output_type": "execute_result"
    }
   ],
   "source": [
    "log_model.get_params()"
   ]
  },
  {
   "cell_type": "code",
   "execution_count": 50,
   "id": "aee970ae",
   "metadata": {},
   "outputs": [],
   "source": [
    "param_grid = {'C': (0.01, 0.1, 1, 10, 100),\n",
    "             'max_iter': (1, 10, 25, 50, 100, 200),\n",
    "            'tol': (0.0001, 0.001, 0.01)\n",
    "             }"
   ]
  },
  {
   "cell_type": "code",
   "execution_count": 51,
   "id": "efa71874",
   "metadata": {},
   "outputs": [
    {
     "name": "stdout",
     "output_type": "stream",
     "text": [
      "Fitting 10 folds for each of 10 candidates, totalling 100 fits\n",
      "{'tol': 0.01, 'max_iter': 100, 'C': 100}\n"
     ]
    },
    {
     "data": {
      "text/plain": [
       "0.514388925991136"
      ]
     },
     "execution_count": 51,
     "metadata": {},
     "output_type": "execute_result"
    }
   ],
   "source": [
    "randomGrid = RandomizedSearchCV(log_model, \n",
    "                                param_distributions=param_grid,\n",
    "                                cv=10, \n",
    "                                n_jobs=-1, \n",
    "                                verbose=2, \n",
    "                                scoring='accuracy')\n",
    "\n",
    "randomGrid.fit(X_train_transformed, y_train)\n",
    "print(randomGrid.best_params_)\n",
    "randomGrid.best_score_"
   ]
  },
  {
   "cell_type": "markdown",
   "id": "689290b4",
   "metadata": {},
   "source": [
    "### Trying a Gradient Boost Classifier"
   ]
  },
  {
   "cell_type": "markdown",
   "id": "a54165fc",
   "metadata": {},
   "source": [
    "After reading about Gradient Boost Classifier I thought this could be good for the job, especially with a high number of estimators.  "
   ]
  },
  {
   "cell_type": "code",
   "execution_count": 52,
   "id": "51907b85",
   "metadata": {},
   "outputs": [],
   "source": [
    "grad_model = GradientBoostingClassifier(n_estimators=922, \n",
    "                                        learning_rate=0.030204081632653063, \n",
    "                                        subsample=0.779795918367347,\n",
    "                                        max_depth= 10, \n",
    "                                        tol = 0.0001,\n",
    "                                        validation_fraction=5.922448979591836,\n",
    "                                       random_state=42).fit(X_train_transformed, y_train)"
   ]
  },
  {
   "cell_type": "code",
   "execution_count": 53,
   "id": "2517660c",
   "metadata": {},
   "outputs": [
    {
     "data": {
      "text/plain": [
       "1.0"
      ]
     },
     "execution_count": 53,
     "metadata": {},
     "output_type": "execute_result"
    }
   ],
   "source": [
    "grad_model.score(X_train_transformed, y_train)"
   ]
  },
  {
   "cell_type": "code",
   "execution_count": 54,
   "id": "e95fe2af",
   "metadata": {
    "scrolled": false
   },
   "outputs": [
    {
     "data": {
      "text/plain": [
       "array([0, 0, 1, 0, 0, 0, 0, 0, 0, 0, 0, 0, 1, 0, 0, 0, 0, 1, 1, 0, 0, 1,\n",
       "       1, 0, 1, 0, 1, 1, 1, 1, 0, 1, 0, 1, 0, 0, 0, 1, 1, 0, 0, 0, 1, 1,\n",
       "       1, 0, 0, 1, 0, 0, 1, 0, 1, 0, 1, 1, 0, 1, 0, 0, 1, 1, 0, 0, 1, 0,\n",
       "       1, 0, 1, 1, 1, 0, 0, 1, 0, 0, 0, 0, 1, 0, 0, 0, 1, 0, 1, 1, 0, 1,\n",
       "       0, 1, 1, 0, 1, 0, 0, 1, 0, 0, 0, 0, 0, 1, 1, 0, 1, 0, 0, 1, 0, 1,\n",
       "       1, 1, 0, 1, 1, 1, 1, 1, 1, 1, 0, 0, 1, 0, 1, 0, 1, 1, 1, 0, 1, 1,\n",
       "       0, 1, 1, 1, 0, 1, 1, 0, 1, 1, 1, 1, 1, 0, 1, 1, 0, 0, 0, 1, 0, 1,\n",
       "       1, 0, 0, 1, 1, 1, 0, 1, 1, 1, 0, 0, 0, 0, 0, 1, 0, 1, 0, 1, 0, 0,\n",
       "       1, 1, 1, 1, 1, 0, 1, 1, 1, 0, 0, 0, 1, 0, 0, 1, 0, 1, 0, 0, 0, 0,\n",
       "       0, 1, 0, 0, 1, 1, 0, 1, 0, 0, 1, 0, 1, 1, 0, 0, 0, 1, 0, 1, 0, 0,\n",
       "       0, 1, 1, 0, 1, 1, 0, 1, 0, 0, 1, 0, 0, 0, 0, 1, 1, 0, 1, 0, 1, 0,\n",
       "       0, 0, 1, 0, 0, 1, 0, 0, 1, 1, 0, 1, 0, 1, 0, 0, 0, 0, 0, 0, 1, 1,\n",
       "       1, 1, 1, 1, 1, 1, 0, 0, 0, 0, 1, 1, 0, 1, 0, 0, 1, 1, 1, 1, 0, 0,\n",
       "       0, 1, 1, 0, 0, 0, 0, 0, 0, 0, 0, 0, 0, 1, 1, 1, 1, 0, 0, 1, 0, 1,\n",
       "       1, 1, 1, 1, 0, 1, 0, 1, 1, 1, 0, 1, 0, 1, 0, 1, 1, 1, 0, 0, 1, 1,\n",
       "       0, 0, 0, 1, 1, 1, 0, 1, 0, 1, 1, 0, 0, 1, 0, 1, 0, 0, 1, 1, 0, 1,\n",
       "       1, 1, 1, 0, 1, 0, 1, 0, 1, 0, 1, 1, 0, 0, 0, 0, 1, 1, 0, 0, 0, 1,\n",
       "       0, 0, 1, 0, 1, 0, 0, 0, 0, 1, 1, 1, 0, 0, 0, 0, 1, 0, 0, 0, 0, 1,\n",
       "       0, 0, 0, 0, 1, 1, 0, 0, 1, 1, 0, 1, 1, 1, 0, 1, 0, 0, 0, 0, 1, 1,\n",
       "       0, 1, 1, 0, 0, 0, 1, 1, 0, 0, 0, 1, 1, 0, 1, 1, 0, 0, 1, 1, 1, 1,\n",
       "       0, 1, 0, 0, 1, 0, 1, 0, 0, 0, 0, 1, 1, 0, 1, 0, 1, 0, 0, 1, 0, 0,\n",
       "       1, 0, 0, 1, 0, 0, 1, 0, 0, 0, 1, 1, 1, 0, 0, 0, 0, 0, 0, 1, 1, 0,\n",
       "       1, 1, 1, 1, 1, 0, 0, 0, 0, 1, 0, 0, 1, 1, 0, 1, 0, 1, 1, 0, 1, 0,\n",
       "       0, 0, 1, 0, 0, 0, 0, 0, 1, 0, 0, 0, 0, 1, 0, 0, 0, 1, 1, 1, 0, 1,\n",
       "       1, 1, 1, 0, 1, 0, 1, 0, 0, 0, 0, 1, 0, 1, 0, 1, 1, 1, 0, 1, 1, 1,\n",
       "       1, 1, 1, 1, 1, 0, 1, 1, 1, 1, 1, 0, 0, 0, 0, 0, 0, 1, 1, 1, 0, 1,\n",
       "       0, 0, 0, 1, 1, 1, 0, 0, 1, 0, 0, 1, 0, 0, 0, 0, 1, 0, 0, 1, 1, 1,\n",
       "       1, 1, 1, 0, 1, 0, 1, 0, 1, 0, 1, 0, 0, 1, 1, 1, 0, 1, 1, 0, 1, 1,\n",
       "       1, 0, 0, 0, 0, 1, 1, 0, 1, 0, 1, 1, 0, 1, 1, 0, 0, 0, 1, 1, 0, 0,\n",
       "       0, 1, 1, 1, 1, 0, 0, 1, 1, 0, 0, 0, 0, 1, 0, 0, 0, 0, 0, 1, 0, 0,\n",
       "       0, 1, 0, 1, 1, 1, 1, 1, 0, 1, 0, 1, 0, 1, 1, 0, 0, 1, 0, 0, 0, 1,\n",
       "       1, 0, 0, 1, 0, 1, 0, 1, 0, 1, 1, 0, 1, 1, 0, 0, 0, 1, 1, 1, 1, 1,\n",
       "       1, 0, 1, 1, 1, 0, 1, 1, 0, 0, 0, 0, 0, 1, 0, 1, 0, 1, 0, 0, 1, 1,\n",
       "       0, 1, 0, 1, 1, 1, 0, 1, 0, 0, 1, 0, 1, 1, 0, 0, 1, 1, 0, 1, 0, 0,\n",
       "       0, 0, 1, 0, 0, 0, 1, 0, 1, 0, 0, 0, 0, 1, 0, 0, 1, 0, 1, 1, 0, 0,\n",
       "       1, 1, 1, 0, 1, 1, 1])"
      ]
     },
     "execution_count": 54,
     "metadata": {},
     "output_type": "execute_result"
    }
   ],
   "source": [
    "y_grad_pred = grad_model.predict(X_test_transformed)\n",
    "y_grad_pred"
   ]
  },
  {
   "cell_type": "code",
   "execution_count": 55,
   "id": "e629c229",
   "metadata": {},
   "outputs": [
    {
     "data": {
      "text/plain": [
       "1.0900854180115143"
      ]
     },
     "execution_count": 55,
     "metadata": {},
     "output_type": "execute_result"
    }
   ],
   "source": [
    "grad_model.loss_(y_test, y_grad_pred)"
   ]
  },
  {
   "cell_type": "code",
   "execution_count": 56,
   "id": "83a52c2e",
   "metadata": {},
   "outputs": [
    {
     "data": {
      "text/plain": [
       "matrix([[0, 0, 1, 0, 0, 0, 0, 1, 1, 0, 0, 0, 1, 0, 0, 0, 0, 1, 1, 1, 0,\n",
       "         1, 1, 0, 1, 0, 1, 1, 1, 1, 0, 1, 0, 1, 0, 0, 0, 1, 0, 0, 0, 0,\n",
       "         1, 1, 1, 0, 0, 1, 0, 0, 1, 1, 1, 0, 1, 0, 0, 1, 0, 0, 1, 1, 0,\n",
       "         0, 1, 0, 1, 0, 1, 1, 1, 0, 0, 1, 0, 0, 0, 0, 1, 0, 0, 0, 1, 0,\n",
       "         1, 0, 0, 1, 0, 1, 1, 0, 1, 0, 0, 1, 0, 0, 1, 0, 0, 1, 1, 0, 1,\n",
       "         0, 0, 1, 0, 1, 1, 1, 0, 1, 1, 1, 1, 1, 1, 1, 0, 1, 1, 0, 1, 0,\n",
       "         1, 1, 1, 0, 1, 1, 0, 1, 1, 1, 0, 1, 1, 0, 1, 1, 1, 1, 1, 1, 1,\n",
       "         1, 0, 1, 0, 0, 0, 1, 1, 0, 0, 1, 1, 1, 0, 0, 1, 1, 0, 0, 1, 0,\n",
       "         0, 1, 0, 0, 0, 1, 1, 0, 1, 1, 1, 1, 1, 0, 1, 1, 1, 0, 0, 0, 1,\n",
       "         0, 1, 1, 0, 1, 0, 0, 0, 0, 0, 1, 0, 0, 1, 1, 0, 1, 0, 0, 1, 0,\n",
       "         1, 1, 0, 0, 0, 1, 0, 1, 0, 0, 0, 1, 1, 1, 1, 1, 0, 1, 0, 0, 1,\n",
       "         0, 0, 0, 1, 1, 1, 0, 1, 0, 1, 0, 0, 1, 0, 0, 0, 1, 0, 0, 1, 1,\n",
       "         0, 0, 0, 1, 0, 1, 0, 0, 0, 0, 1, 1, 1, 1, 1, 1, 1, 1, 0, 0, 0,\n",
       "         0, 0, 1, 0, 0, 0, 0, 1, 1, 1, 1, 0, 0, 0, 1, 1, 0, 0, 0, 0, 0,\n",
       "         0, 0, 1, 0, 0, 1, 1, 1, 1, 0, 0, 1, 0, 1, 1, 1, 1, 1, 0, 1, 0,\n",
       "         1, 1, 1, 1, 1, 0, 1, 0, 1, 1, 1, 0, 0, 1, 1, 0, 0, 0, 1, 1, 1,\n",
       "         0, 1, 0, 0, 1, 0, 0, 1, 0, 1, 0, 0, 1, 1, 0, 1, 0, 1, 1, 0, 1,\n",
       "         0, 1, 0, 1, 0, 1, 1, 0, 0, 0, 0, 1, 0, 0, 0, 0, 1, 0, 0, 1, 0,\n",
       "         1, 0, 0, 0, 0, 1, 1, 1, 0, 0, 0, 0, 1, 0, 0, 1, 1, 1, 0, 0, 0,\n",
       "         0, 1, 1, 1, 0, 0, 1, 0, 1, 1, 1, 0, 1, 0, 1, 0, 0, 1, 1, 0, 1,\n",
       "         1, 0, 0, 0, 1, 1, 0, 0, 1, 1, 1, 0, 1, 1, 0, 0, 1, 1, 1, 1, 0,\n",
       "         1, 0, 0, 1, 0, 1, 0, 0, 0, 0, 1, 1, 0, 1, 0, 1, 0, 0, 1, 0, 0,\n",
       "         1, 0, 1, 1, 0, 0, 1, 0, 0, 0, 1, 1, 1, 0, 0, 1, 0, 0, 1, 1, 1,\n",
       "         0, 0, 1, 1, 1, 0, 0, 0, 0, 0, 1, 0, 0, 1, 1, 0, 1, 0, 1, 1, 0,\n",
       "         0, 0, 0, 0, 1, 0, 1, 0, 0, 0, 1, 0, 0, 0, 0, 1, 0, 0, 0, 1, 1,\n",
       "         1, 0, 1, 1, 1, 1, 0, 1, 0, 1, 0, 0, 0, 0, 1, 0, 1, 0, 1, 1, 1,\n",
       "         0, 1, 1, 1, 1, 1, 1, 1, 1, 1, 1, 1, 1, 1, 1, 0, 0, 0, 0, 0, 0,\n",
       "         1, 0, 1, 0, 1, 0, 0, 0, 1, 1, 1, 0, 0, 1, 0, 0, 1, 0, 0, 0, 0,\n",
       "         1, 0, 0, 1, 1, 1, 1, 1, 1, 0, 0, 1, 1, 0, 1, 0, 1, 0, 0, 1, 1,\n",
       "         1, 0, 1, 1, 0, 1, 1, 0, 0, 0, 0, 0, 1, 1, 0, 1, 0, 1, 1, 0, 1,\n",
       "         1, 0, 0, 0, 1, 1, 0, 0, 0, 1, 1, 1, 1, 0, 0, 1, 1, 0, 0, 0, 0,\n",
       "         1, 1, 0, 0, 0, 0, 1, 0, 0, 0, 1, 1, 1, 1, 1, 1, 1, 0, 1, 1, 1,\n",
       "         0, 1, 1, 0, 0, 1, 0, 1, 0, 1, 1, 0, 0, 1, 0, 1, 0, 1, 0, 1, 1,\n",
       "         0, 1, 1, 0, 0, 0, 1, 1, 1, 0, 0, 1, 0, 1, 1, 0, 0, 1, 1, 0, 0,\n",
       "         1, 0, 0, 1, 0, 1, 1, 1, 0, 0, 1, 1, 0, 1, 0, 1, 1, 1, 0, 1, 0,\n",
       "         0, 1, 0, 1, 1, 1, 0, 0, 1, 0, 1, 0, 0, 1, 0, 1, 0, 0, 0, 1, 0,\n",
       "         1, 0, 0, 1, 0, 1, 0, 0, 0, 0, 1, 1, 0, 1, 0, 0, 1, 0, 1, 1, 1]])"
      ]
     },
     "execution_count": 56,
     "metadata": {},
     "output_type": "execute_result"
    }
   ],
   "source": [
    "np.matrix(y_test)"
   ]
  },
  {
   "cell_type": "code",
   "execution_count": 57,
   "id": "419dea0f",
   "metadata": {},
   "outputs": [
    {
     "data": {
      "text/plain": [
       "{'ccp_alpha': 0.0,\n",
       " 'criterion': 'friedman_mse',\n",
       " 'init': None,\n",
       " 'learning_rate': 0.030204081632653063,\n",
       " 'loss': 'deviance',\n",
       " 'max_depth': 10,\n",
       " 'max_features': None,\n",
       " 'max_leaf_nodes': None,\n",
       " 'min_impurity_decrease': 0.0,\n",
       " 'min_impurity_split': None,\n",
       " 'min_samples_leaf': 1,\n",
       " 'min_samples_split': 2,\n",
       " 'min_weight_fraction_leaf': 0.0,\n",
       " 'n_estimators': 922,\n",
       " 'n_iter_no_change': None,\n",
       " 'random_state': 42,\n",
       " 'subsample': 0.779795918367347,\n",
       " 'tol': 0.0001,\n",
       " 'validation_fraction': 5.922448979591836,\n",
       " 'verbose': 0,\n",
       " 'warm_start': False}"
      ]
     },
     "execution_count": 57,
     "metadata": {},
     "output_type": "execute_result"
    }
   ],
   "source": [
    "grad_model.get_params()"
   ]
  },
  {
   "cell_type": "code",
   "execution_count": 58,
   "id": "e6f80e93",
   "metadata": {},
   "outputs": [
    {
     "name": "stdout",
     "output_type": "stream",
     "text": [
      "              precision    recall  f1-score   support\n",
      "\n",
      "           0       0.91      0.93      0.92       392\n",
      "           1       0.93      0.90      0.91       385\n",
      "\n",
      "    accuracy                           0.92       777\n",
      "   macro avg       0.92      0.92      0.92       777\n",
      "weighted avg       0.92      0.92      0.92       777\n",
      "\n"
     ]
    },
    {
     "data": {
      "image/png": "[encoded data removed]",
      "text/plain": [
       "<Figure size 432x288 with 2 Axes>"
      ]
     },
     "metadata": {
      "needs_background": "light"
     },
     "output_type": "display_data"
    }
   ],
   "source": [
    "print(classification_report(y_test, y_grad_pred))\n",
    "sns.heatmap(confusion_matrix(y_test, y_grad_pred), annot=True, fmt='.2f');"
   ]
  },
  {
   "cell_type": "code",
   "execution_count": 59,
   "id": "4047a83a",
   "metadata": {
    "scrolled": true
   },
   "outputs": [
    {
     "name": "stdout",
     "output_type": "stream",
     "text": [
      "{'validation_fraction': 3.2720408163265304, 'tol': 10, 'subsample': 0.9322448979591836, 'n_estimators': 1208, 'max_depth': 10, 'learning_rate': 0.7373469387755102}\n"
     ]
    },
    {
     "data": {
      "text/plain": [
       "0.9562969108858923"
      ]
     },
     "execution_count": 59,
     "metadata": {},
     "output_type": "execute_result"
    },
    {
     "name": "stderr",
     "output_type": "stream",
     "text": [
      "/Users/keirferguson/.pyenv/versions/3.8.6/envs/cleanwater/lib/python3.8/site-packages/sklearn/linear_model/_logistic.py:763: ConvergenceWarning: lbfgs failed to converge (status=1):\n",
      "STOP: TOTAL NO. of ITERATIONS REACHED LIMIT.\n",
      "\n",
      "Increase the number of iterations (max_iter) or scale the data as shown in:\n",
      "    https://scikit-learn.org/stable/modules/preprocessing.html\n",
      "Please also refer to the documentation for alternative solver options:\n",
      "    https://scikit-learn.org/stable/modules/linear_model.html#logistic-regression\n",
      "  n_iter_i = _check_optimize_result(\n",
      "/Users/keirferguson/.pyenv/versions/3.8.6/envs/cleanwater/lib/python3.8/site-packages/sklearn/linear_model/_logistic.py:763: ConvergenceWarning: lbfgs failed to converge (status=1):\n",
      "STOP: TOTAL NO. of ITERATIONS REACHED LIMIT.\n",
      "\n",
      "Increase the number of iterations (max_iter) or scale the data as shown in:\n",
      "    https://scikit-learn.org/stable/modules/preprocessing.html\n",
      "Please also refer to the documentation for alternative solver options:\n",
      "    https://scikit-learn.org/stable/modules/linear_model.html#logistic-regression\n",
      "  n_iter_i = _check_optimize_result(\n",
      "/Users/keirferguson/.pyenv/versions/3.8.6/envs/cleanwater/lib/python3.8/site-packages/sklearn/linear_model/_logistic.py:763: ConvergenceWarning: lbfgs failed to converge (status=1):\n",
      "STOP: TOTAL NO. of ITERATIONS REACHED LIMIT.\n",
      "\n",
      "Increase the number of iterations (max_iter) or scale the data as shown in:\n",
      "    https://scikit-learn.org/stable/modules/preprocessing.html\n",
      "Please also refer to the documentation for alternative solver options:\n",
      "    https://scikit-learn.org/stable/modules/linear_model.html#logistic-regression\n",
      "  n_iter_i = _check_optimize_result(\n",
      "/Users/keirferguson/.pyenv/versions/3.8.6/envs/cleanwater/lib/python3.8/site-packages/sklearn/linear_model/_logistic.py:763: ConvergenceWarning: lbfgs failed to converge (status=1):\n",
      "STOP: TOTAL NO. of ITERATIONS REACHED LIMIT.\n",
      "\n",
      "Increase the number of iterations (max_iter) or scale the data as shown in:\n",
      "    https://scikit-learn.org/stable/modules/preprocessing.html\n",
      "Please also refer to the documentation for alternative solver options:\n",
      "    https://scikit-learn.org/stable/modules/linear_model.html#logistic-regression\n",
      "  n_iter_i = _check_optimize_result(\n",
      "/Users/keirferguson/.pyenv/versions/3.8.6/envs/cleanwater/lib/python3.8/site-packages/sklearn/linear_model/_logistic.py:763: ConvergenceWarning: lbfgs failed to converge (status=1):\n",
      "STOP: TOTAL NO. of ITERATIONS REACHED LIMIT.\n",
      "\n",
      "Increase the number of iterations (max_iter) or scale the data as shown in:\n",
      "    https://scikit-learn.org/stable/modules/preprocessing.html\n",
      "Please also refer to the documentation for alternative solver options:\n",
      "    https://scikit-learn.org/stable/modules/linear_model.html#logistic-regression\n",
      "  n_iter_i = _check_optimize_result(\n"
     ]
    },
    {
     "name": "stdout",
     "output_type": "stream",
     "text": [
      "[CV] END .......................C=0.01, max_iter=1, tol=0.01; total time=   0.0s\n",
      "[CV] END .......................C=0.01, max_iter=1, tol=0.01; total time=   0.0s\n",
      "[CV] END ....................C=0.01, max_iter=10, tol=0.0001; total time=   0.0s\n",
      "[CV] END ....................C=0.01, max_iter=10, tol=0.0001; total time=   0.0s\n",
      "[CV] END ......................C=100, max_iter=100, tol=0.01; total time=   0.0s\n",
      "[CV] END .......................C=10, max_iter=25, tol=0.001; total time=   0.0s\n",
      "[CV] END ......................C=0.01, max_iter=25, tol=0.01; total time=   0.0s\n",
      "[CV] END ......................C=0.01, max_iter=25, tol=0.01; total time=   0.0s\n",
      "[CV] END .....................C=0.1, max_iter=100, tol=0.001; total time=   0.0s\n",
      "[CV] END .....................C=0.1, max_iter=100, tol=0.001; total time=   0.0s\n",
      "[CV] END ........................C=1, max_iter=10, tol=0.001; total time=   0.0s\n",
      "[CV] END ........................C=1, max_iter=10, tol=0.001; total time=   0.0s\n",
      "[CV] END ....................C=0.01, max_iter=25, tol=0.0001; total time=   0.0s\n",
      "[CV] END ......................C=0.1, max_iter=10, tol=0.001; total time=   0.0s\n",
      "[CV] END ......................C=0.1, max_iter=10, tol=0.001; total time=   0.0s\n",
      "[CV] END .......................C=0.01, max_iter=1, tol=0.01; total time=   0.0s\n",
      "[CV] END ....................C=0.01, max_iter=10, tol=0.0001; total time=   0.0s\n",
      "[CV] END ......................C=100, max_iter=100, tol=0.01; total time=   0.0s\n",
      "[CV] END ......................C=100, max_iter=100, tol=0.01; total time=   0.0s\n",
      "[CV] END .......................C=10, max_iter=25, tol=0.001; total time=   0.0s\n",
      "[CV] END .......................C=10, max_iter=25, tol=0.001; total time=   0.0s\n",
      "[CV] END ......................C=0.01, max_iter=25, tol=0.01; total time=   0.0s\n",
      "[CV] END ......................C=0.01, max_iter=25, tol=0.01; total time=   0.0s\n",
      "[CV] END ......................C=0.01, max_iter=25, tol=0.01; total time=   0.0s\n",
      "[CV] END .....................C=0.1, max_iter=100, tol=0.001; total time=   0.0s\n",
      "[CV] END .....................C=0.1, max_iter=100, tol=0.001; total time=   0.0s\n",
      "[CV] END ........................C=100, max_iter=1, tol=0.01; total time=   0.0s\n",
      "[CV] END ........................C=100, max_iter=1, tol=0.01; total time=   0.0s\n",
      "[CV] END ........................C=1, max_iter=10, tol=0.001; total time=   0.0s\n",
      "[CV] END ........................C=1, max_iter=10, tol=0.001; total time=   0.0s\n",
      "[CV] END ....................C=0.01, max_iter=25, tol=0.0001; total time=   0.0s\n",
      "[CV] END ......................C=0.1, max_iter=10, tol=0.001; total time=   0.0s\n",
      "[CV] END .......................C=0.01, max_iter=1, tol=0.01; total time=   0.0s\n",
      "[CV] END .......................C=0.01, max_iter=1, tol=0.01; total time=   0.0s\n",
      "[CV] END ....................C=0.01, max_iter=10, tol=0.0001; total time=   0.0s\n",
      "[CV] END .......................C=10, max_iter=25, tol=0.001; total time=   0.0s\n",
      "[CV] END ......................C=0.01, max_iter=25, tol=0.01; total time=   0.0s\n",
      "[CV] END .....................C=0.1, max_iter=100, tol=0.001; total time=   0.0s\n",
      "[CV] END .....................C=0.1, max_iter=100, tol=0.001; total time=   0.0s\n",
      "[CV] END ........................C=1, max_iter=10, tol=0.001; total time=   0.0s\n",
      "[CV] END ........................C=1, max_iter=10, tol=0.001; total time=   0.0s\n",
      "[CV] END ....................C=0.01, max_iter=25, tol=0.0001; total time=   0.0s\n",
      "[CV] END ....................C=0.01, max_iter=25, tol=0.0001; total time=   0.0s\n",
      "[CV] END ......................C=0.1, max_iter=10, tol=0.001; total time=   0.0s\n"
     ]
    },
    {
     "name": "stderr",
     "output_type": "stream",
     "text": [
      "/Users/keirferguson/.pyenv/versions/3.8.6/envs/cleanwater/lib/python3.8/site-packages/sklearn/linear_model/_logistic.py:763: ConvergenceWarning: lbfgs failed to converge (status=1):\n",
      "STOP: TOTAL NO. of ITERATIONS REACHED LIMIT.\n",
      "\n",
      "Increase the number of iterations (max_iter) or scale the data as shown in:\n",
      "    https://scikit-learn.org/stable/modules/preprocessing.html\n",
      "Please also refer to the documentation for alternative solver options:\n",
      "    https://scikit-learn.org/stable/modules/linear_model.html#logistic-regression\n",
      "  n_iter_i = _check_optimize_result(\n",
      "/Users/keirferguson/.pyenv/versions/3.8.6/envs/cleanwater/lib/python3.8/site-packages/sklearn/linear_model/_logistic.py:763: ConvergenceWarning: lbfgs failed to converge (status=1):\n",
      "STOP: TOTAL NO. of ITERATIONS REACHED LIMIT.\n",
      "\n",
      "Increase the number of iterations (max_iter) or scale the data as shown in:\n",
      "    https://scikit-learn.org/stable/modules/preprocessing.html\n",
      "Please also refer to the documentation for alternative solver options:\n",
      "    https://scikit-learn.org/stable/modules/linear_model.html#logistic-regression\n",
      "  n_iter_i = _check_optimize_result(\n"
     ]
    },
    {
     "name": "stdout",
     "output_type": "stream",
     "text": [
      "[CV] END .......................C=0.01, max_iter=1, tol=0.01; total time=   0.0s\n",
      "[CV] END ......................C=100, max_iter=100, tol=0.01; total time=   0.0s\n",
      "[CV] END ......................C=100, max_iter=100, tol=0.01; total time=   0.0s\n",
      "[CV] END .......................C=10, max_iter=25, tol=0.001; total time=   0.0s\n",
      "[CV] END ......................C=0.01, max_iter=25, tol=0.01; total time=   0.0s\n",
      "[CV] END ........................C=100, max_iter=1, tol=0.01; total time=   0.0s\n",
      "[CV] END ........................C=100, max_iter=1, tol=0.01; total time=   0.0s\n",
      "[CV] END ....................C=0.01, max_iter=25, tol=0.0001; total time=   0.0s\n"
     ]
    },
    {
     "name": "stderr",
     "output_type": "stream",
     "text": [
      "/Users/keirferguson/.pyenv/versions/3.8.6/envs/cleanwater/lib/python3.8/site-packages/sklearn/linear_model/_logistic.py:763: ConvergenceWarning: lbfgs failed to converge (status=1):\n",
      "STOP: TOTAL NO. of ITERATIONS REACHED LIMIT.\n",
      "\n",
      "Increase the number of iterations (max_iter) or scale the data as shown in:\n",
      "    https://scikit-learn.org/stable/modules/preprocessing.html\n",
      "Please also refer to the documentation for alternative solver options:\n",
      "    https://scikit-learn.org/stable/modules/linear_model.html#logistic-regression\n",
      "  n_iter_i = _check_optimize_result(\n",
      "/Users/keirferguson/.pyenv/versions/3.8.6/envs/cleanwater/lib/python3.8/site-packages/sklearn/linear_model/_logistic.py:763: ConvergenceWarning: lbfgs failed to converge (status=1):\n",
      "STOP: TOTAL NO. of ITERATIONS REACHED LIMIT.\n",
      "\n",
      "Increase the number of iterations (max_iter) or scale the data as shown in:\n",
      "    https://scikit-learn.org/stable/modules/preprocessing.html\n",
      "Please also refer to the documentation for alternative solver options:\n",
      "    https://scikit-learn.org/stable/modules/linear_model.html#logistic-regression\n",
      "  n_iter_i = _check_optimize_result(\n",
      "/Users/keirferguson/.pyenv/versions/3.8.6/envs/cleanwater/lib/python3.8/site-packages/sklearn/linear_model/_logistic.py:763: ConvergenceWarning: lbfgs failed to converge (status=1):\n",
      "STOP: TOTAL NO. of ITERATIONS REACHED LIMIT.\n",
      "\n",
      "Increase the number of iterations (max_iter) or scale the data as shown in:\n",
      "    https://scikit-learn.org/stable/modules/preprocessing.html\n",
      "Please also refer to the documentation for alternative solver options:\n",
      "    https://scikit-learn.org/stable/modules/linear_model.html#logistic-regression\n",
      "  n_iter_i = _check_optimize_result(\n"
     ]
    },
    {
     "name": "stdout",
     "output_type": "stream",
     "text": [
      "[CV] END .......................C=0.01, max_iter=1, tol=0.01; total time=   0.0s\n",
      "[CV] END ....................C=0.01, max_iter=10, tol=0.0001; total time=   0.0s\n",
      "[CV] END ......................C=100, max_iter=100, tol=0.01; total time=   0.0s\n",
      "[CV] END .......................C=10, max_iter=25, tol=0.001; total time=   0.0s\n",
      "[CV] END ........................C=100, max_iter=1, tol=0.01; total time=   0.0s\n",
      "[CV] END ........................C=100, max_iter=1, tol=0.01; total time=   0.0s\n",
      "[CV] END ....................C=0.01, max_iter=25, tol=0.0001; total time=   0.0s\n",
      "[CV] END ....................C=0.01, max_iter=25, tol=0.0001; total time=   0.0s\n",
      "[CV] END ......................C=0.1, max_iter=10, tol=0.001; total time=   0.0s\n",
      "[CV] END ......................C=0.1, max_iter=10, tol=0.001; total time=   0.0s\n"
     ]
    },
    {
     "name": "stderr",
     "output_type": "stream",
     "text": [
      "/Users/keirferguson/.pyenv/versions/3.8.6/envs/cleanwater/lib/python3.8/site-packages/sklearn/linear_model/_logistic.py:763: ConvergenceWarning: lbfgs failed to converge (status=1):\n",
      "STOP: TOTAL NO. of ITERATIONS REACHED LIMIT.\n",
      "\n",
      "Increase the number of iterations (max_iter) or scale the data as shown in:\n",
      "    https://scikit-learn.org/stable/modules/preprocessing.html\n",
      "Please also refer to the documentation for alternative solver options:\n",
      "    https://scikit-learn.org/stable/modules/linear_model.html#logistic-regression\n",
      "  n_iter_i = _check_optimize_result(\n",
      "/Users/keirferguson/.pyenv/versions/3.8.6/envs/cleanwater/lib/python3.8/site-packages/sklearn/linear_model/_logistic.py:763: ConvergenceWarning: lbfgs failed to converge (status=1):\n",
      "STOP: TOTAL NO. of ITERATIONS REACHED LIMIT.\n",
      "\n",
      "Increase the number of iterations (max_iter) or scale the data as shown in:\n",
      "    https://scikit-learn.org/stable/modules/preprocessing.html\n",
      "Please also refer to the documentation for alternative solver options:\n",
      "    https://scikit-learn.org/stable/modules/linear_model.html#logistic-regression\n",
      "  n_iter_i = _check_optimize_result(\n",
      "/Users/keirferguson/.pyenv/versions/3.8.6/envs/cleanwater/lib/python3.8/site-packages/sklearn/linear_model/_logistic.py:763: ConvergenceWarning: lbfgs failed to converge (status=1):\n",
      "STOP: TOTAL NO. of ITERATIONS REACHED LIMIT.\n",
      "\n",
      "Increase the number of iterations (max_iter) or scale the data as shown in:\n",
      "    https://scikit-learn.org/stable/modules/preprocessing.html\n",
      "Please also refer to the documentation for alternative solver options:\n",
      "    https://scikit-learn.org/stable/modules/linear_model.html#logistic-regression\n",
      "  n_iter_i = _check_optimize_result(\n"
     ]
    },
    {
     "name": "stdout",
     "output_type": "stream",
     "text": [
      "[CV] END .......................C=0.01, max_iter=1, tol=0.01; total time=   0.0s\n",
      "[CV] END ....................C=0.01, max_iter=10, tol=0.0001; total time=   0.0s\n",
      "[CV] END ....................C=0.01, max_iter=10, tol=0.0001; total time=   0.0s\n",
      "[CV] END ......................C=100, max_iter=100, tol=0.01; total time=   0.0s\n",
      "[CV] END ......................C=100, max_iter=100, tol=0.01; total time=   0.0s\n",
      "[CV] END .......................C=10, max_iter=25, tol=0.001; total time=   0.0s\n",
      "[CV] END ......................C=0.01, max_iter=25, tol=0.01; total time=   0.0s\n",
      "[CV] END .....................C=0.1, max_iter=100, tol=0.001; total time=   0.0s\n",
      "[CV] END .....................C=0.1, max_iter=100, tol=0.001; total time=   0.0s\n",
      "[CV] END ........................C=1, max_iter=10, tol=0.001; total time=   0.0s\n",
      "[CV] END ........................C=1, max_iter=10, tol=0.001; total time=   0.0s\n",
      "[CV] END ....................C=0.01, max_iter=25, tol=0.0001; total time=   0.0s\n",
      "[CV] END ......................C=0.1, max_iter=10, tol=0.001; total time=   0.0s\n"
     ]
    },
    {
     "name": "stderr",
     "output_type": "stream",
     "text": [
      "/Users/keirferguson/.pyenv/versions/3.8.6/envs/cleanwater/lib/python3.8/site-packages/sklearn/linear_model/_logistic.py:763: ConvergenceWarning: lbfgs failed to converge (status=1):\n",
      "STOP: TOTAL NO. of ITERATIONS REACHED LIMIT.\n",
      "\n",
      "Increase the number of iterations (max_iter) or scale the data as shown in:\n",
      "    https://scikit-learn.org/stable/modules/preprocessing.html\n",
      "Please also refer to the documentation for alternative solver options:\n",
      "    https://scikit-learn.org/stable/modules/linear_model.html#logistic-regression\n",
      "  n_iter_i = _check_optimize_result(\n"
     ]
    },
    {
     "name": "stdout",
     "output_type": "stream",
     "text": [
      "[CV] END .......................C=0.01, max_iter=1, tol=0.01; total time=   0.0s\n",
      "[CV] END ....................C=0.01, max_iter=10, tol=0.0001; total time=   0.0s\n",
      "[CV] END ......................C=100, max_iter=100, tol=0.01; total time=   0.0s\n",
      "[CV] END .......................C=10, max_iter=25, tol=0.001; total time=   0.0s\n",
      "[CV] END .......................C=10, max_iter=25, tol=0.001; total time=   0.0s\n",
      "[CV] END ........................C=100, max_iter=1, tol=0.01; total time=   0.0s\n",
      "[CV] END ........................C=100, max_iter=1, tol=0.01; total time=   0.0s\n",
      "[CV] END ........................C=1, max_iter=10, tol=0.001; total time=   0.0s\n",
      "[CV] END ........................C=1, max_iter=10, tol=0.001; total time=   0.0s\n",
      "[CV] END ....................C=0.01, max_iter=25, tol=0.0001; total time=   0.0s\n",
      "[CV] END ......................C=0.1, max_iter=10, tol=0.001; total time=   0.0s\n",
      "[CV] END ......................C=0.1, max_iter=10, tol=0.001; total time=   0.0s\n",
      "[CV] END .......................C=0.01, max_iter=1, tol=0.01; total time=   0.0s\n",
      "[CV] END ....................C=0.01, max_iter=10, tol=0.0001; total time=   0.0s\n",
      "[CV] END ....................C=0.01, max_iter=10, tol=0.0001; total time=   0.0s\n",
      "[CV] END ......................C=100, max_iter=100, tol=0.01; total time=   0.0s\n",
      "[CV] END .......................C=10, max_iter=25, tol=0.001; total time=   0.0s\n",
      "[CV] END ......................C=0.01, max_iter=25, tol=0.01; total time=   0.0s\n",
      "[CV] END ......................C=0.01, max_iter=25, tol=0.01; total time=   0.0s\n",
      "[CV] END .....................C=0.1, max_iter=100, tol=0.001; total time=   0.0s\n",
      "[CV] END .....................C=0.1, max_iter=100, tol=0.001; total time=   0.0s\n",
      "[CV] END ........................C=100, max_iter=1, tol=0.01; total time=   0.0s\n",
      "[CV] END ........................C=100, max_iter=1, tol=0.01; total time=   0.0s\n",
      "[CV] END ....................C=0.01, max_iter=25, tol=0.0001; total time=   0.0s\n",
      "[CV] END ......................C=0.1, max_iter=10, tol=0.001; total time=   0.0s\n"
     ]
    },
    {
     "name": "stderr",
     "output_type": "stream",
     "text": [
      "/Users/keirferguson/.pyenv/versions/3.8.6/envs/cleanwater/lib/python3.8/site-packages/sklearn/linear_model/_logistic.py:763: ConvergenceWarning: lbfgs failed to converge (status=1):\n",
      "STOP: TOTAL NO. of ITERATIONS REACHED LIMIT.\n",
      "\n",
      "Increase the number of iterations (max_iter) or scale the data as shown in:\n",
      "    https://scikit-learn.org/stable/modules/preprocessing.html\n",
      "Please also refer to the documentation for alternative solver options:\n",
      "    https://scikit-learn.org/stable/modules/linear_model.html#logistic-regression\n",
      "  n_iter_i = _check_optimize_result(\n",
      "/Users/keirferguson/.pyenv/versions/3.8.6/envs/cleanwater/lib/python3.8/site-packages/sklearn/linear_model/_logistic.py:763: ConvergenceWarning: lbfgs failed to converge (status=1):\n",
      "STOP: TOTAL NO. of ITERATIONS REACHED LIMIT.\n",
      "\n",
      "Increase the number of iterations (max_iter) or scale the data as shown in:\n",
      "    https://scikit-learn.org/stable/modules/preprocessing.html\n",
      "Please also refer to the documentation for alternative solver options:\n",
      "    https://scikit-learn.org/stable/modules/linear_model.html#logistic-regression\n",
      "  n_iter_i = _check_optimize_result(\n",
      "/Users/keirferguson/.pyenv/versions/3.8.6/envs/cleanwater/lib/python3.8/site-packages/sklearn/linear_model/_logistic.py:763: ConvergenceWarning: lbfgs failed to converge (status=1):\n",
      "STOP: TOTAL NO. of ITERATIONS REACHED LIMIT.\n",
      "\n",
      "Increase the number of iterations (max_iter) or scale the data as shown in:\n",
      "    https://scikit-learn.org/stable/modules/preprocessing.html\n",
      "Please also refer to the documentation for alternative solver options:\n",
      "    https://scikit-learn.org/stable/modules/linear_model.html#logistic-regression\n",
      "  n_iter_i = _check_optimize_result(\n",
      "/Users/keirferguson/.pyenv/versions/3.8.6/envs/cleanwater/lib/python3.8/site-packages/sklearn/linear_model/_logistic.py:763: ConvergenceWarning: lbfgs failed to converge (status=1):\n",
      "STOP: TOTAL NO. of ITERATIONS REACHED LIMIT.\n",
      "\n",
      "Increase the number of iterations (max_iter) or scale the data as shown in:\n",
      "    https://scikit-learn.org/stable/modules/preprocessing.html\n",
      "Please also refer to the documentation for alternative solver options:\n",
      "    https://scikit-learn.org/stable/modules/linear_model.html#logistic-regression\n",
      "  n_iter_i = _check_optimize_result(\n",
      "/Users/keirferguson/.pyenv/versions/3.8.6/envs/cleanwater/lib/python3.8/site-packages/sklearn/linear_model/_logistic.py:763: ConvergenceWarning: lbfgs failed to converge (status=1):\n",
      "STOP: TOTAL NO. of ITERATIONS REACHED LIMIT.\n",
      "\n",
      "Increase the number of iterations (max_iter) or scale the data as shown in:\n",
      "    https://scikit-learn.org/stable/modules/preprocessing.html\n",
      "Please also refer to the documentation for alternative solver options:\n",
      "    https://scikit-learn.org/stable/modules/linear_model.html#logistic-regression\n",
      "  n_iter_i = _check_optimize_result(\n",
      "/Users/keirferguson/.pyenv/versions/3.8.6/envs/cleanwater/lib/python3.8/site-packages/sklearn/linear_model/_logistic.py:763: ConvergenceWarning: lbfgs failed to converge (status=1):\n",
      "STOP: TOTAL NO. of ITERATIONS REACHED LIMIT.\n",
      "\n",
      "Increase the number of iterations (max_iter) or scale the data as shown in:\n",
      "    https://scikit-learn.org/stable/modules/preprocessing.html\n",
      "Please also refer to the documentation for alternative solver options:\n",
      "    https://scikit-learn.org/stable/modules/linear_model.html#logistic-regression\n",
      "  n_iter_i = _check_optimize_result(\n"
     ]
    }
   ],
   "source": [
    "param_grid = {'learning_rate': (np.linspace(0.01,1)),\n",
    "              'n_estimators': (np.linspace(800,1300, dtype='int')),\n",
    "              'max_depth': (1, 5, 10),\n",
    "             'validation_fraction': (np.linspace(0.01,10)),\n",
    "            'tol': (0.0001, 10),\n",
    "              'subsample': (np.linspace(0.17,1))\n",
    "             }\n",
    "scoring = {'AUC': 'roc_auc', \n",
    "           'Accuracy': 'accuracy', \n",
    "           'F1': 'f1',\n",
    "           'max_error': 'max_error',\n",
    "           'Precision': 'precision'\n",
    "          }\n",
    "\n",
    "randomGrid = RandomizedSearchCV(grad_model, \n",
    "                                param_distributions=param_grid,\n",
    "                                cv=10, \n",
    "                                n_jobs=-1, \n",
    "                                scoring='precision',\n",
    "                                return_train_score=True,\n",
    "                               )\n",
    "\n",
    "randomGrid.fit(X_train_transformed, y_train)\n",
    "print(randomGrid.best_params_)\n",
    "randomGrid.best_score_"
   ]
  }
 ],
 "metadata": {
  "kernelspec": {
   "display_name": "Python 3 (ipykernel)",
   "language": "python",
   "name": "python3"
  },
  "language_info": {
   "codemirror_mode": {
    "name": "ipython",
    "version": 3
   },
   "file_extension": ".py",
   "mimetype": "text/x-python",
   "name": "python",
   "nbconvert_exporter": "python",
   "pygments_lexer": "ipython3",
   "version": "3.8.6"
  },
  "toc": {
   "base_numbering": 1,
   "nav_menu": {},
   "number_sections": true,
   "sideBar": true,
   "skip_h1_title": false,
   "title_cell": "Table of Contents",
   "title_sidebar": "Contents",
   "toc_cell": false,
   "toc_position": {},
   "toc_section_display": true,
   "toc_window_display": false
  }
 },
 "nbformat": 4,
 "nbformat_minor": 5
}
