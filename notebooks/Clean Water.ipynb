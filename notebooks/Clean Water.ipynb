{
 "cells": [
  {
   "cell_type": "markdown",
   "id": "16f8ee6e",
   "metadata": {},
   "source": [
    "# Data Cleaning"
   ]
  },
  {
   "cell_type": "code",
   "execution_count": 1,
   "id": "54826edc",
   "metadata": {},
   "outputs": [],
   "source": [
    "import numpy as np\n",
    "import pandas as pd\n",
    "import matplotlib.pyplot as plt\n",
    "import seaborn as sns\n",
    "from sklearn.preprocessing import StandardScaler, MinMaxScaler, RobustScaler\n",
    "from sklearn.model_selection import train_test_split\n",
    "from sklearn.pipeline import Pipeline, make_pipeline\n",
    "from sklearn.impute import SimpleImputer, KNNImputer\n",
    "from sklearn.inspection import permutation_importance\n",
    "from sklearn.linear_model import LogisticRegression\n",
    "from sklearn.compose import make_column_transformer, make_column_selector\n",
    "from sklearn.model_selection import GridSearchCV, RandomizedSearchCV"
   ]
  },
  {
   "cell_type": "markdown",
   "id": "eaa581d9",
   "metadata": {},
   "source": [
    "## Description\n",
    "\n",
    "Content\n",
    "The water_potability.csv file contains water quality metrics for 3276 different water bodies.\n",
    "\n",
    "1. pH value:\n",
    "PH is an important parameter in evaluating the acid–base balance of water. It is also the indicator of acidic or alkaline condition of water status. WHO has recommended maximum permissible limit of pH from 6.5 to 8.5. The current investigation ranges were 6.52–6.83 which are in the range of WHO standards.\n",
    "\n",
    "\n",
    "2. Hardness:\n",
    "Hardness is mainly caused by calcium and magnesium salts. These salts are dissolved from geologic deposits through which water travels. The length of time water is in contact with hardness producing material helps determine how much hardness there is in raw water. Hardness was originally defined as the capacity of water to precipitate soap caused by Calcium and Magnesium.\n",
    "\n",
    "\n",
    "3. Solids (Total dissolved solids - TDS):\n",
    "Water has the ability to dissolve a wide range of inorganic and some organic minerals or salts such as potassium, calcium, sodium, bicarbonates, chlorides, magnesium, sulfates etc. These minerals produced un-wanted taste and diluted color in appearance of water. This is the important parameter for the use of water. The water with high TDS value indicates that water is highly mineralized. Desirable limit for TDS is 500 mg/l and maximum limit is 1000 mg/l which prescribed for drinking purpose.\n",
    "\n",
    "\n",
    "4. Chloramines:\n",
    "Chlorine and chloramine are the major disinfectants used in public water systems. Chloramines are most commonly formed when ammonia is added to chlorine to treat drinking water. Chlorine levels up to 4 milligrams per liter (mg/L or 4 parts per million (ppm)) are considered safe in drinking water.\n",
    "\n",
    "\n",
    "5. Sulfate:\n",
    "Sulfates are naturally occurring substances that are found in minerals, soil, and rocks. They are present in ambient air, groundwater, plants, and food. The principal commercial use of sulfate is in the chemical industry. Sulfate concentration in seawater is about 2,700 milligrams per liter (mg/L). It ranges from 3 to 30 mg/L in most freshwater supplies, although much higher concentrations (1000 mg/L) are found in some geographic locations.\n",
    "\n",
    "\n",
    "6. Conductivity:\n",
    "Pure water is not a good conductor of electric current rather’s a good insulator. Increase in ions concentration enhances the electrical conductivity of water. Generally, the amount of dissolved solids in water determines the electrical conductivity. Electrical conductivity (EC) actually measures the ionic process of a solution that enables it to transmit current. According to WHO standards, EC value should not exceeded 400 μS/cm.\n",
    "\n",
    "\n",
    "7. Organic_carbon:\n",
    "Total Organic Carbon (TOC) in source waters comes from decaying natural organic matter (NOM) as well as synthetic sources. TOC is a measure of the total amount of carbon in organic compounds in pure water. According to US EPA < 2 mg/L as TOC in treated / drinking water, and < 4 mg/Lit in source water which is use for treatment.\n",
    "\n",
    "\n",
    "8. Trihalomethanes:\n",
    "THMs are chemicals which may be found in water treated with chlorine. The concentration of THMs in drinking water varies according to the level of organic material in the water, the amount of chlorine required to treat the water, and the temperature of the water that is being treated. THM levels up to 80 ppm is considered safe in drinking water.\n",
    "\n",
    "\n",
    "9. Turbidity:\n",
    "The turbidity of water depends on the quantity of solid matter present in the suspended state. It is a measure of light emitting properties of water and the test is used to indicate the quality of waste discharge with respect to colloidal matter. The mean turbidity value obtained for Wondo Genet Campus (0.98 NTU) is lower than the WHO recommended value of 5.00 NTU.\n",
    "\n",
    "\n",
    "10. Potability:\n",
    "Indicates if water is safe for human consumption where 1 means Potable and 0 means Not potable."
   ]
  },
  {
   "cell_type": "markdown",
   "id": "6bda2735",
   "metadata": {},
   "source": [
    "### About this file\n",
    "\n",
    "ppm: parts per million\n",
    "μg/L: microgram per litre\n",
    "mg/L: milligram per litre\n",
    "\n",
    "Column description:\n",
    "\n",
    "1. ph: pH of 1. water (0 to 14).\n",
    "2. Hardness: Capacity of water to precipitate soap in mg/L.\n",
    "3. Solids: Total dissolved solids in ppm.\n",
    "4. Chloramines: Amount of Chloramines in ppm.\n",
    "5. Sulfate: Amount of Sulfates dissolved in mg/L.\n",
    "6. Conductivity: Electrical conductivity of water in μS/cm.\n",
    "7. Organic_carbon: Amount of organic carbon in ppm.\n",
    "8. Trihalomethanes: Amount of Trihalomethanes in μg/L.\n",
    "9. Turbidity: Measure of light emiting property of water in NTU.\n",
    "10. Potability: Indicates if water is safe for human consumption. Potable -1 and Not potable -0"
   ]
  },
  {
   "cell_type": "markdown",
   "id": "652aadd1",
   "metadata": {},
   "source": [
    "## Data exploration"
   ]
  },
  {
   "cell_type": "code",
   "execution_count": 2,
   "id": "7b608100",
   "metadata": {},
   "outputs": [],
   "source": [
    "df = pd.read_csv('../raw_data/water_potability.csv')"
   ]
  },
  {
   "cell_type": "code",
   "execution_count": 3,
   "id": "4b13d3d4",
   "metadata": {
    "scrolled": true
   },
   "outputs": [
    {
     "data": {
      "text/html": [
       "<div>\n",
       "<style scoped>\n",
       "    .dataframe tbody tr th:only-of-type {\n",
       "        vertical-align: middle;\n",
       "    }\n",
       "\n",
       "    .dataframe tbody tr th {\n",
       "        vertical-align: top;\n",
       "    }\n",
       "\n",
       "    .dataframe thead th {\n",
       "        text-align: right;\n",
       "    }\n",
       "</style>\n",
       "<table border=\"1\" class=\"dataframe\">\n",
       "  <thead>\n",
       "    <tr style=\"text-align: right;\">\n",
       "      <th></th>\n",
       "      <th>ph</th>\n",
       "      <th>Hardness</th>\n",
       "      <th>Solids</th>\n",
       "      <th>Chloramines</th>\n",
       "      <th>Sulfate</th>\n",
       "      <th>Conductivity</th>\n",
       "      <th>Organic_carbon</th>\n",
       "      <th>Trihalomethanes</th>\n",
       "      <th>Turbidity</th>\n",
       "      <th>Potability</th>\n",
       "    </tr>\n",
       "  </thead>\n",
       "  <tbody>\n",
       "    <tr>\n",
       "      <th>0</th>\n",
       "      <td>NaN</td>\n",
       "      <td>204.890455</td>\n",
       "      <td>20791.318981</td>\n",
       "      <td>7.300212</td>\n",
       "      <td>368.516441</td>\n",
       "      <td>564.308654</td>\n",
       "      <td>10.379783</td>\n",
       "      <td>86.990970</td>\n",
       "      <td>2.963135</td>\n",
       "      <td>0</td>\n",
       "    </tr>\n",
       "    <tr>\n",
       "      <th>1</th>\n",
       "      <td>3.716080</td>\n",
       "      <td>129.422921</td>\n",
       "      <td>18630.057858</td>\n",
       "      <td>6.635246</td>\n",
       "      <td>NaN</td>\n",
       "      <td>592.885359</td>\n",
       "      <td>15.180013</td>\n",
       "      <td>56.329076</td>\n",
       "      <td>4.500656</td>\n",
       "      <td>0</td>\n",
       "    </tr>\n",
       "    <tr>\n",
       "      <th>2</th>\n",
       "      <td>8.099124</td>\n",
       "      <td>224.236259</td>\n",
       "      <td>19909.541732</td>\n",
       "      <td>9.275884</td>\n",
       "      <td>NaN</td>\n",
       "      <td>418.606213</td>\n",
       "      <td>16.868637</td>\n",
       "      <td>66.420093</td>\n",
       "      <td>3.055934</td>\n",
       "      <td>0</td>\n",
       "    </tr>\n",
       "    <tr>\n",
       "      <th>3</th>\n",
       "      <td>8.316766</td>\n",
       "      <td>214.373394</td>\n",
       "      <td>22018.417441</td>\n",
       "      <td>8.059332</td>\n",
       "      <td>356.886136</td>\n",
       "      <td>363.266516</td>\n",
       "      <td>18.436524</td>\n",
       "      <td>100.341674</td>\n",
       "      <td>4.628771</td>\n",
       "      <td>0</td>\n",
       "    </tr>\n",
       "    <tr>\n",
       "      <th>4</th>\n",
       "      <td>9.092223</td>\n",
       "      <td>181.101509</td>\n",
       "      <td>17978.986339</td>\n",
       "      <td>6.546600</td>\n",
       "      <td>310.135738</td>\n",
       "      <td>398.410813</td>\n",
       "      <td>11.558279</td>\n",
       "      <td>31.997993</td>\n",
       "      <td>4.075075</td>\n",
       "      <td>0</td>\n",
       "    </tr>\n",
       "  </tbody>\n",
       "</table>\n",
       "</div>"
      ],
      "text/plain": [
       "         ph    Hardness        Solids  Chloramines     Sulfate  Conductivity  \\\n",
       "0       NaN  204.890455  20791.318981     7.300212  368.516441    564.308654   \n",
       "1  3.716080  129.422921  18630.057858     6.635246         NaN    592.885359   \n",
       "2  8.099124  224.236259  19909.541732     9.275884         NaN    418.606213   \n",
       "3  8.316766  214.373394  22018.417441     8.059332  356.886136    363.266516   \n",
       "4  9.092223  181.101509  17978.986339     6.546600  310.135738    398.410813   \n",
       "\n",
       "   Organic_carbon  Trihalomethanes  Turbidity  Potability  \n",
       "0       10.379783        86.990970   2.963135           0  \n",
       "1       15.180013        56.329076   4.500656           0  \n",
       "2       16.868637        66.420093   3.055934           0  \n",
       "3       18.436524       100.341674   4.628771           0  \n",
       "4       11.558279        31.997993   4.075075           0  "
      ]
     },
     "execution_count": 3,
     "metadata": {},
     "output_type": "execute_result"
    }
   ],
   "source": [
    "df.head()"
   ]
  },
  {
   "cell_type": "code",
   "execution_count": 4,
   "id": "ab9e07ce",
   "metadata": {},
   "outputs": [
    {
     "name": "stdout",
     "output_type": "stream",
     "text": [
      "<class 'pandas.core.frame.DataFrame'>\n",
      "RangeIndex: 3276 entries, 0 to 3275\n",
      "Data columns (total 10 columns):\n",
      " #   Column           Non-Null Count  Dtype  \n",
      "---  ------           --------------  -----  \n",
      " 0   ph               2785 non-null   float64\n",
      " 1   Hardness         3276 non-null   float64\n",
      " 2   Solids           3276 non-null   float64\n",
      " 3   Chloramines      3276 non-null   float64\n",
      " 4   Sulfate          2495 non-null   float64\n",
      " 5   Conductivity     3276 non-null   float64\n",
      " 6   Organic_carbon   3276 non-null   float64\n",
      " 7   Trihalomethanes  3114 non-null   float64\n",
      " 8   Turbidity        3276 non-null   float64\n",
      " 9   Potability       3276 non-null   int64  \n",
      "dtypes: float64(9), int64(1)\n",
      "memory usage: 256.1 KB\n"
     ]
    }
   ],
   "source": [
    "df.info()"
   ]
  },
  {
   "cell_type": "code",
   "execution_count": 5,
   "id": "5284ee83",
   "metadata": {},
   "outputs": [
    {
     "data": {
      "text/plain": [
       "ph                 491\n",
       "Hardness             0\n",
       "Solids               0\n",
       "Chloramines          0\n",
       "Sulfate            781\n",
       "Conductivity         0\n",
       "Organic_carbon       0\n",
       "Trihalomethanes    162\n",
       "Turbidity            0\n",
       "Potability           0\n",
       "dtype: int64"
      ]
     },
     "execution_count": 5,
     "metadata": {},
     "output_type": "execute_result"
    }
   ],
   "source": [
    "df.isna().sum()"
   ]
  },
  {
   "cell_type": "code",
   "execution_count": 6,
   "id": "fa6d3436",
   "metadata": {},
   "outputs": [
    {
     "data": {
      "text/html": [
       "<div>\n",
       "<style scoped>\n",
       "    .dataframe tbody tr th:only-of-type {\n",
       "        vertical-align: middle;\n",
       "    }\n",
       "\n",
       "    .dataframe tbody tr th {\n",
       "        vertical-align: top;\n",
       "    }\n",
       "\n",
       "    .dataframe thead th {\n",
       "        text-align: right;\n",
       "    }\n",
       "</style>\n",
       "<table border=\"1\" class=\"dataframe\">\n",
       "  <thead>\n",
       "    <tr style=\"text-align: right;\">\n",
       "      <th></th>\n",
       "      <th>ph</th>\n",
       "      <th>Hardness</th>\n",
       "      <th>Solids</th>\n",
       "      <th>Chloramines</th>\n",
       "      <th>Sulfate</th>\n",
       "      <th>Conductivity</th>\n",
       "      <th>Organic_carbon</th>\n",
       "      <th>Trihalomethanes</th>\n",
       "      <th>Turbidity</th>\n",
       "      <th>Potability</th>\n",
       "    </tr>\n",
       "  </thead>\n",
       "  <tbody>\n",
       "    <tr>\n",
       "      <th>0</th>\n",
       "      <td>NaN</td>\n",
       "      <td>204.890455</td>\n",
       "      <td>20791.318981</td>\n",
       "      <td>7.300212</td>\n",
       "      <td>368.516441</td>\n",
       "      <td>564.308654</td>\n",
       "      <td>10.379783</td>\n",
       "      <td>86.990970</td>\n",
       "      <td>2.963135</td>\n",
       "      <td>0</td>\n",
       "    </tr>\n",
       "    <tr>\n",
       "      <th>8</th>\n",
       "      <td>NaN</td>\n",
       "      <td>118.988579</td>\n",
       "      <td>14285.583854</td>\n",
       "      <td>7.804174</td>\n",
       "      <td>268.646941</td>\n",
       "      <td>389.375566</td>\n",
       "      <td>12.706049</td>\n",
       "      <td>53.928846</td>\n",
       "      <td>3.595017</td>\n",
       "      <td>0</td>\n",
       "    </tr>\n",
       "    <tr>\n",
       "      <th>13</th>\n",
       "      <td>NaN</td>\n",
       "      <td>150.174923</td>\n",
       "      <td>27331.361962</td>\n",
       "      <td>6.838223</td>\n",
       "      <td>299.415781</td>\n",
       "      <td>379.761835</td>\n",
       "      <td>19.370807</td>\n",
       "      <td>76.509996</td>\n",
       "      <td>4.413974</td>\n",
       "      <td>0</td>\n",
       "    </tr>\n",
       "    <tr>\n",
       "      <th>20</th>\n",
       "      <td>NaN</td>\n",
       "      <td>227.435048</td>\n",
       "      <td>22305.567414</td>\n",
       "      <td>10.333918</td>\n",
       "      <td>NaN</td>\n",
       "      <td>554.820086</td>\n",
       "      <td>16.331693</td>\n",
       "      <td>45.382815</td>\n",
       "      <td>4.133423</td>\n",
       "      <td>0</td>\n",
       "    </tr>\n",
       "    <tr>\n",
       "      <th>22</th>\n",
       "      <td>NaN</td>\n",
       "      <td>215.977859</td>\n",
       "      <td>17107.224226</td>\n",
       "      <td>5.607060</td>\n",
       "      <td>326.943978</td>\n",
       "      <td>436.256194</td>\n",
       "      <td>14.189062</td>\n",
       "      <td>59.855476</td>\n",
       "      <td>5.459251</td>\n",
       "      <td>0</td>\n",
       "    </tr>\n",
       "  </tbody>\n",
       "</table>\n",
       "</div>"
      ],
      "text/plain": [
       "    ph    Hardness        Solids  Chloramines     Sulfate  Conductivity  \\\n",
       "0  NaN  204.890455  20791.318981     7.300212  368.516441    564.308654   \n",
       "8  NaN  118.988579  14285.583854     7.804174  268.646941    389.375566   \n",
       "13 NaN  150.174923  27331.361962     6.838223  299.415781    379.761835   \n",
       "20 NaN  227.435048  22305.567414    10.333918         NaN    554.820086   \n",
       "22 NaN  215.977859  17107.224226     5.607060  326.943978    436.256194   \n",
       "\n",
       "    Organic_carbon  Trihalomethanes  Turbidity  Potability  \n",
       "0        10.379783        86.990970   2.963135           0  \n",
       "8        12.706049        53.928846   3.595017           0  \n",
       "13       19.370807        76.509996   4.413974           0  \n",
       "20       16.331693        45.382815   4.133423           0  \n",
       "22       14.189062        59.855476   5.459251           0  "
      ]
     },
     "execution_count": 6,
     "metadata": {},
     "output_type": "execute_result"
    }
   ],
   "source": [
    "df[df['ph'].isna()].head()"
   ]
  },
  {
   "cell_type": "code",
   "execution_count": 7,
   "id": "2412b17d",
   "metadata": {},
   "outputs": [
    {
     "data": {
      "text/plain": [
       "13.999999999999998"
      ]
     },
     "execution_count": 7,
     "metadata": {},
     "output_type": "execute_result"
    }
   ],
   "source": [
    "df['ph'].max()"
   ]
  },
  {
   "cell_type": "code",
   "execution_count": 8,
   "id": "749a5c06",
   "metadata": {},
   "outputs": [
    {
     "data": {
      "image/png": "[encoded data removed]",
      "text/plain": [
       "<Figure size 1080x720 with 1 Axes>"
      ]
     },
     "metadata": {
      "needs_background": "light"
     },
     "output_type": "display_data"
    }
   ],
   "source": [
    "plt.figure(figsize=(15,10))\n",
    "plt.hist(df['ph']);"
   ]
  },
  {
   "cell_type": "code",
   "execution_count": 9,
   "id": "27a7ccdb",
   "metadata": {},
   "outputs": [
    {
     "data": {
      "text/html": [
       "<div>\n",
       "<style scoped>\n",
       "    .dataframe tbody tr th:only-of-type {\n",
       "        vertical-align: middle;\n",
       "    }\n",
       "\n",
       "    .dataframe tbody tr th {\n",
       "        vertical-align: top;\n",
       "    }\n",
       "\n",
       "    .dataframe thead th {\n",
       "        text-align: right;\n",
       "    }\n",
       "</style>\n",
       "<table border=\"1\" class=\"dataframe\">\n",
       "  <thead>\n",
       "    <tr style=\"text-align: right;\">\n",
       "      <th></th>\n",
       "      <th>ph</th>\n",
       "      <th>Hardness</th>\n",
       "      <th>Solids</th>\n",
       "      <th>Chloramines</th>\n",
       "      <th>Sulfate</th>\n",
       "      <th>Conductivity</th>\n",
       "      <th>Organic_carbon</th>\n",
       "      <th>Trihalomethanes</th>\n",
       "      <th>Turbidity</th>\n",
       "      <th>Potability</th>\n",
       "    </tr>\n",
       "  </thead>\n",
       "  <tbody>\n",
       "    <tr>\n",
       "      <th>1</th>\n",
       "      <td>3.716080</td>\n",
       "      <td>129.422921</td>\n",
       "      <td>18630.057858</td>\n",
       "      <td>6.635246</td>\n",
       "      <td>NaN</td>\n",
       "      <td>592.885359</td>\n",
       "      <td>15.180013</td>\n",
       "      <td>56.329076</td>\n",
       "      <td>4.500656</td>\n",
       "      <td>0</td>\n",
       "    </tr>\n",
       "    <tr>\n",
       "      <th>2</th>\n",
       "      <td>8.099124</td>\n",
       "      <td>224.236259</td>\n",
       "      <td>19909.541732</td>\n",
       "      <td>9.275884</td>\n",
       "      <td>NaN</td>\n",
       "      <td>418.606213</td>\n",
       "      <td>16.868637</td>\n",
       "      <td>66.420093</td>\n",
       "      <td>3.055934</td>\n",
       "      <td>0</td>\n",
       "    </tr>\n",
       "    <tr>\n",
       "      <th>11</th>\n",
       "      <td>7.974522</td>\n",
       "      <td>218.693300</td>\n",
       "      <td>18767.656682</td>\n",
       "      <td>8.110385</td>\n",
       "      <td>NaN</td>\n",
       "      <td>364.098230</td>\n",
       "      <td>14.525746</td>\n",
       "      <td>76.485911</td>\n",
       "      <td>4.011718</td>\n",
       "      <td>0</td>\n",
       "    </tr>\n",
       "    <tr>\n",
       "      <th>14</th>\n",
       "      <td>7.496232</td>\n",
       "      <td>205.344982</td>\n",
       "      <td>28388.004887</td>\n",
       "      <td>5.072558</td>\n",
       "      <td>NaN</td>\n",
       "      <td>444.645352</td>\n",
       "      <td>13.228311</td>\n",
       "      <td>70.300213</td>\n",
       "      <td>4.777382</td>\n",
       "      <td>0</td>\n",
       "    </tr>\n",
       "    <tr>\n",
       "      <th>16</th>\n",
       "      <td>7.051786</td>\n",
       "      <td>211.049406</td>\n",
       "      <td>30980.600787</td>\n",
       "      <td>10.094796</td>\n",
       "      <td>NaN</td>\n",
       "      <td>315.141267</td>\n",
       "      <td>20.397022</td>\n",
       "      <td>56.651604</td>\n",
       "      <td>4.268429</td>\n",
       "      <td>0</td>\n",
       "    </tr>\n",
       "  </tbody>\n",
       "</table>\n",
       "</div>"
      ],
      "text/plain": [
       "          ph    Hardness        Solids  Chloramines  Sulfate  Conductivity  \\\n",
       "1   3.716080  129.422921  18630.057858     6.635246      NaN    592.885359   \n",
       "2   8.099124  224.236259  19909.541732     9.275884      NaN    418.606213   \n",
       "11  7.974522  218.693300  18767.656682     8.110385      NaN    364.098230   \n",
       "14  7.496232  205.344982  28388.004887     5.072558      NaN    444.645352   \n",
       "16  7.051786  211.049406  30980.600787    10.094796      NaN    315.141267   \n",
       "\n",
       "    Organic_carbon  Trihalomethanes  Turbidity  Potability  \n",
       "1        15.180013        56.329076   4.500656           0  \n",
       "2        16.868637        66.420093   3.055934           0  \n",
       "11       14.525746        76.485911   4.011718           0  \n",
       "14       13.228311        70.300213   4.777382           0  \n",
       "16       20.397022        56.651604   4.268429           0  "
      ]
     },
     "execution_count": 9,
     "metadata": {},
     "output_type": "execute_result"
    }
   ],
   "source": [
    "df[df['Sulfate'].isna()].head()"
   ]
  },
  {
   "cell_type": "code",
   "execution_count": 10,
   "id": "236e3579",
   "metadata": {},
   "outputs": [
    {
     "data": {
      "image/png": "[encoded data removed]",
      "text/plain": [
       "<Figure size 1080x720 with 1 Axes>"
      ]
     },
     "metadata": {
      "needs_background": "light"
     },
     "output_type": "display_data"
    }
   ],
   "source": [
    "plt.figure(figsize=(15,10))\n",
    "plt.hist(df['Sulfate']);"
   ]
  },
  {
   "cell_type": "code",
   "execution_count": 11,
   "id": "e140ec72",
   "metadata": {},
   "outputs": [
    {
     "data": {
      "text/html": [
       "<div>\n",
       "<style scoped>\n",
       "    .dataframe tbody tr th:only-of-type {\n",
       "        vertical-align: middle;\n",
       "    }\n",
       "\n",
       "    .dataframe tbody tr th {\n",
       "        vertical-align: top;\n",
       "    }\n",
       "\n",
       "    .dataframe thead th {\n",
       "        text-align: right;\n",
       "    }\n",
       "</style>\n",
       "<table border=\"1\" class=\"dataframe\">\n",
       "  <thead>\n",
       "    <tr style=\"text-align: right;\">\n",
       "      <th></th>\n",
       "      <th>ph</th>\n",
       "      <th>Hardness</th>\n",
       "      <th>Solids</th>\n",
       "      <th>Chloramines</th>\n",
       "      <th>Sulfate</th>\n",
       "      <th>Conductivity</th>\n",
       "      <th>Organic_carbon</th>\n",
       "      <th>Trihalomethanes</th>\n",
       "      <th>Turbidity</th>\n",
       "      <th>Potability</th>\n",
       "    </tr>\n",
       "  </thead>\n",
       "  <tbody>\n",
       "    <tr>\n",
       "      <th>62</th>\n",
       "      <td>NaN</td>\n",
       "      <td>229.485694</td>\n",
       "      <td>35729.692709</td>\n",
       "      <td>8.810843</td>\n",
       "      <td>384.943779</td>\n",
       "      <td>296.397547</td>\n",
       "      <td>16.927092</td>\n",
       "      <td>NaN</td>\n",
       "      <td>3.855602</td>\n",
       "      <td>0</td>\n",
       "    </tr>\n",
       "    <tr>\n",
       "      <th>81</th>\n",
       "      <td>5.519126</td>\n",
       "      <td>168.728583</td>\n",
       "      <td>12531.601921</td>\n",
       "      <td>7.730723</td>\n",
       "      <td>NaN</td>\n",
       "      <td>443.570372</td>\n",
       "      <td>18.099078</td>\n",
       "      <td>NaN</td>\n",
       "      <td>3.758996</td>\n",
       "      <td>0</td>\n",
       "    </tr>\n",
       "    <tr>\n",
       "      <th>110</th>\n",
       "      <td>9.286155</td>\n",
       "      <td>222.661551</td>\n",
       "      <td>12311.268366</td>\n",
       "      <td>7.289866</td>\n",
       "      <td>332.239359</td>\n",
       "      <td>353.740100</td>\n",
       "      <td>14.171763</td>\n",
       "      <td>NaN</td>\n",
       "      <td>5.239982</td>\n",
       "      <td>0</td>\n",
       "    </tr>\n",
       "    <tr>\n",
       "      <th>118</th>\n",
       "      <td>7.397413</td>\n",
       "      <td>122.541040</td>\n",
       "      <td>8855.114121</td>\n",
       "      <td>6.888689</td>\n",
       "      <td>241.607532</td>\n",
       "      <td>489.851600</td>\n",
       "      <td>13.365906</td>\n",
       "      <td>NaN</td>\n",
       "      <td>3.149158</td>\n",
       "      <td>0</td>\n",
       "    </tr>\n",
       "    <tr>\n",
       "      <th>119</th>\n",
       "      <td>7.812804</td>\n",
       "      <td>196.583886</td>\n",
       "      <td>42550.841816</td>\n",
       "      <td>7.334648</td>\n",
       "      <td>NaN</td>\n",
       "      <td>442.545775</td>\n",
       "      <td>14.666917</td>\n",
       "      <td>NaN</td>\n",
       "      <td>6.204846</td>\n",
       "      <td>0</td>\n",
       "    </tr>\n",
       "  </tbody>\n",
       "</table>\n",
       "</div>"
      ],
      "text/plain": [
       "           ph    Hardness        Solids  Chloramines     Sulfate  \\\n",
       "62        NaN  229.485694  35729.692709     8.810843  384.943779   \n",
       "81   5.519126  168.728583  12531.601921     7.730723         NaN   \n",
       "110  9.286155  222.661551  12311.268366     7.289866  332.239359   \n",
       "118  7.397413  122.541040   8855.114121     6.888689  241.607532   \n",
       "119  7.812804  196.583886  42550.841816     7.334648         NaN   \n",
       "\n",
       "     Conductivity  Organic_carbon  Trihalomethanes  Turbidity  Potability  \n",
       "62     296.397547       16.927092              NaN   3.855602           0  \n",
       "81     443.570372       18.099078              NaN   3.758996           0  \n",
       "110    353.740100       14.171763              NaN   5.239982           0  \n",
       "118    489.851600       13.365906              NaN   3.149158           0  \n",
       "119    442.545775       14.666917              NaN   6.204846           0  "
      ]
     },
     "execution_count": 11,
     "metadata": {},
     "output_type": "execute_result"
    }
   ],
   "source": [
    "df[df['Trihalomethanes'].isna()].head()"
   ]
  },
  {
   "cell_type": "code",
   "execution_count": 12,
   "id": "36792550",
   "metadata": {},
   "outputs": [
    {
     "data": {
      "image/png": "[encoded data removed]",
      "text/plain": [
       "<Figure size 1080x720 with 1 Axes>"
      ]
     },
     "metadata": {
      "needs_background": "light"
     },
     "output_type": "display_data"
    }
   ],
   "source": [
    "plt.figure(figsize=(15,10))\n",
    "plt.hist(df['Trihalomethanes']);"
   ]
  },
  {
   "cell_type": "markdown",
   "id": "a5520936",
   "metadata": {},
   "source": [
    "### Finding correlations"
   ]
  },
  {
   "cell_type": "code",
   "execution_count": 13,
   "id": "d0a74457",
   "metadata": {
    "scrolled": false
   },
   "outputs": [
    {
     "data": {
      "image/png": "[encoded data removed]",
      "text/plain": [
       "<Figure size 1080x720 with 2 Axes>"
      ]
     },
     "metadata": {
      "needs_background": "light"
     },
     "output_type": "display_data"
    }
   ],
   "source": [
    "plt.figure(figsize=(15,10))\n",
    "sns.heatmap(df.corr(), );"
   ]
  },
  {
   "cell_type": "code",
   "execution_count": 14,
   "id": "232ecde6",
   "metadata": {},
   "outputs": [
    {
     "data": {
      "text/html": [
       "<style  type=\"text/css\" >\n",
       "#T_beb0d_row0_col0,#T_beb0d_row1_col1,#T_beb0d_row2_col2,#T_beb0d_row3_col3,#T_beb0d_row4_col4,#T_beb0d_row5_col5,#T_beb0d_row6_col6,#T_beb0d_row7_col7,#T_beb0d_row8_col8,#T_beb0d_row9_col9{\n",
       "            background-color:  #b40426;\n",
       "            color:  #f1f1f1;\n",
       "        }#T_beb0d_row0_col1,#T_beb0d_row3_col4{\n",
       "            background-color:  #7093f3;\n",
       "            color:  #000000;\n",
       "        }#T_beb0d_row0_col2,#T_beb0d_row0_col6{\n",
       "            background-color:  #506bda;\n",
       "            color:  #000000;\n",
       "        }#T_beb0d_row0_col3,#T_beb0d_row0_col7,#T_beb0d_row1_col6{\n",
       "            background-color:  #445acc;\n",
       "            color:  #f1f1f1;\n",
       "        }#T_beb0d_row0_col4,#T_beb0d_row8_col2{\n",
       "            background-color:  #6e90f2;\n",
       "            color:  #000000;\n",
       "        }#T_beb0d_row0_col5,#T_beb0d_row2_col6,#T_beb0d_row3_col8,#T_beb0d_row9_col8{\n",
       "            background-color:  #465ecf;\n",
       "            color:  #f1f1f1;\n",
       "        }#T_beb0d_row0_col8,#T_beb0d_row1_col5,#T_beb0d_row2_col0,#T_beb0d_row2_col3,#T_beb0d_row2_col4,#T_beb0d_row3_col5,#T_beb0d_row4_col1,#T_beb0d_row4_col2,#T_beb0d_row4_col7,#T_beb0d_row6_col9,#T_beb0d_row8_col6,#T_beb0d_row9_col6{\n",
       "            background-color:  #3b4cc0;\n",
       "            color:  #f1f1f1;\n",
       "        }#T_beb0d_row0_col9,#T_beb0d_row1_col8,#T_beb0d_row4_col8,#T_beb0d_row7_col5{\n",
       "            background-color:  #4257c9;\n",
       "            color:  #f1f1f1;\n",
       "        }#T_beb0d_row1_col0,#T_beb0d_row5_col2{\n",
       "            background-color:  #6c8ff1;\n",
       "            color:  #000000;\n",
       "        }#T_beb0d_row1_col2{\n",
       "            background-color:  #5b7ae5;\n",
       "            color:  #000000;\n",
       "        }#T_beb0d_row1_col3,#T_beb0d_row2_col5,#T_beb0d_row7_col9,#T_beb0d_row9_col7{\n",
       "            background-color:  #455cce;\n",
       "            color:  #f1f1f1;\n",
       "        }#T_beb0d_row1_col4,#T_beb0d_row2_col8{\n",
       "            background-color:  #4b64d5;\n",
       "            color:  #f1f1f1;\n",
       "        }#T_beb0d_row1_col7,#T_beb0d_row1_col9,#T_beb0d_row3_col6,#T_beb0d_row6_col7,#T_beb0d_row7_col6,#T_beb0d_row7_col8{\n",
       "            background-color:  #3f53c6;\n",
       "            color:  #f1f1f1;\n",
       "        }#T_beb0d_row2_col1,#T_beb0d_row3_col9,#T_beb0d_row6_col3{\n",
       "            background-color:  #4a63d3;\n",
       "            color:  #f1f1f1;\n",
       "        }#T_beb0d_row2_col7,#T_beb0d_row5_col9{\n",
       "            background-color:  #4055c8;\n",
       "            color:  #f1f1f1;\n",
       "        }#T_beb0d_row2_col9,#T_beb0d_row4_col6{\n",
       "            background-color:  #4c66d6;\n",
       "            color:  #000000;\n",
       "        }#T_beb0d_row3_col0,#T_beb0d_row5_col6{\n",
       "            background-color:  #4961d2;\n",
       "            color:  #f1f1f1;\n",
       "        }#T_beb0d_row3_col1,#T_beb0d_row8_col3{\n",
       "            background-color:  #4f69d9;\n",
       "            color:  #000000;\n",
       "        }#T_beb0d_row3_col2,#T_beb0d_row9_col3{\n",
       "            background-color:  #5572df;\n",
       "            color:  #000000;\n",
       "        }#T_beb0d_row3_col7,#T_beb0d_row5_col3,#T_beb0d_row5_col8,#T_beb0d_row6_col5,#T_beb0d_row8_col0{\n",
       "            background-color:  #485fd1;\n",
       "            color:  #f1f1f1;\n",
       "        }#T_beb0d_row4_col0,#T_beb0d_row5_col0,#T_beb0d_row6_col1{\n",
       "            background-color:  #5977e3;\n",
       "            color:  #000000;\n",
       "        }#T_beb0d_row4_col3{\n",
       "            background-color:  #5673e0;\n",
       "            color:  #000000;\n",
       "        }#T_beb0d_row4_col5,#T_beb0d_row4_col9{\n",
       "            background-color:  #3c4ec2;\n",
       "            color:  #f1f1f1;\n",
       "        }#T_beb0d_row5_col1{\n",
       "            background-color:  #516ddb;\n",
       "            color:  #000000;\n",
       "        }#T_beb0d_row5_col4{\n",
       "            background-color:  #6485ec;\n",
       "            color:  #000000;\n",
       "        }#T_beb0d_row5_col7,#T_beb0d_row8_col5,#T_beb0d_row8_col9{\n",
       "            background-color:  #4358cb;\n",
       "            color:  #f1f1f1;\n",
       "        }#T_beb0d_row6_col0{\n",
       "            background-color:  #6180e9;\n",
       "            color:  #000000;\n",
       "        }#T_beb0d_row6_col2{\n",
       "            background-color:  #6b8df0;\n",
       "            color:  #000000;\n",
       "        }#T_beb0d_row6_col4,#T_beb0d_row9_col2{\n",
       "            background-color:  #7295f4;\n",
       "            color:  #000000;\n",
       "        }#T_beb0d_row6_col8,#T_beb0d_row8_col7{\n",
       "            background-color:  #3d50c3;\n",
       "            color:  #f1f1f1;\n",
       "        }#T_beb0d_row7_col0,#T_beb0d_row7_col1,#T_beb0d_row8_col1,#T_beb0d_row9_col1{\n",
       "            background-color:  #5470de;\n",
       "            color:  #000000;\n",
       "        }#T_beb0d_row7_col2,#T_beb0d_row8_col4{\n",
       "            background-color:  #6687ed;\n",
       "            color:  #000000;\n",
       "        }#T_beb0d_row7_col3,#T_beb0d_row9_col0{\n",
       "            background-color:  #536edd;\n",
       "            color:  #000000;\n",
       "        }#T_beb0d_row7_col4{\n",
       "            background-color:  #5f7fe8;\n",
       "            color:  #000000;\n",
       "        }#T_beb0d_row9_col4{\n",
       "            background-color:  #6282ea;\n",
       "            color:  #000000;\n",
       "        }#T_beb0d_row9_col5{\n",
       "            background-color:  #3e51c5;\n",
       "            color:  #f1f1f1;\n",
       "        }</style><table id=\"T_beb0d_\" ><thead>    <tr>        <th class=\"blank level0\" ></th>        <th class=\"col_heading level0 col0\" >ph</th>        <th class=\"col_heading level0 col1\" >Hardness</th>        <th class=\"col_heading level0 col2\" >Solids</th>        <th class=\"col_heading level0 col3\" >Chloramines</th>        <th class=\"col_heading level0 col4\" >Sulfate</th>        <th class=\"col_heading level0 col5\" >Conductivity</th>        <th class=\"col_heading level0 col6\" >Organic_carbon</th>        <th class=\"col_heading level0 col7\" >Trihalomethanes</th>        <th class=\"col_heading level0 col8\" >Turbidity</th>        <th class=\"col_heading level0 col9\" >Potability</th>    </tr></thead><tbody>\n",
       "                <tr>\n",
       "                        <th id=\"T_beb0d_level0_row0\" class=\"row_heading level0 row0\" >ph</th>\n",
       "                        <td id=\"T_beb0d_row0_col0\" class=\"data row0 col0\" >1.000000</td>\n",
       "                        <td id=\"T_beb0d_row0_col1\" class=\"data row0 col1\" >0.082096</td>\n",
       "                        <td id=\"T_beb0d_row0_col2\" class=\"data row0 col2\" >-0.089288</td>\n",
       "                        <td id=\"T_beb0d_row0_col3\" class=\"data row0 col3\" >-0.034350</td>\n",
       "                        <td id=\"T_beb0d_row0_col4\" class=\"data row0 col4\" >0.018203</td>\n",
       "                        <td id=\"T_beb0d_row0_col5\" class=\"data row0 col5\" >0.018614</td>\n",
       "                        <td id=\"T_beb0d_row0_col6\" class=\"data row0 col6\" >0.043503</td>\n",
       "                        <td id=\"T_beb0d_row0_col7\" class=\"data row0 col7\" >0.003354</td>\n",
       "                        <td id=\"T_beb0d_row0_col8\" class=\"data row0 col8\" >-0.039057</td>\n",
       "                        <td id=\"T_beb0d_row0_col9\" class=\"data row0 col9\" >-0.003556</td>\n",
       "            </tr>\n",
       "            <tr>\n",
       "                        <th id=\"T_beb0d_level0_row1\" class=\"row_heading level0 row1\" >Hardness</th>\n",
       "                        <td id=\"T_beb0d_row1_col0\" class=\"data row1 col0\" >0.082096</td>\n",
       "                        <td id=\"T_beb0d_row1_col1\" class=\"data row1 col1\" >1.000000</td>\n",
       "                        <td id=\"T_beb0d_row1_col2\" class=\"data row1 col2\" >-0.046899</td>\n",
       "                        <td id=\"T_beb0d_row1_col3\" class=\"data row1 col3\" >-0.030054</td>\n",
       "                        <td id=\"T_beb0d_row1_col4\" class=\"data row1 col4\" >-0.106923</td>\n",
       "                        <td id=\"T_beb0d_row1_col5\" class=\"data row1 col5\" >-0.023915</td>\n",
       "                        <td id=\"T_beb0d_row1_col6\" class=\"data row1 col6\" >0.003610</td>\n",
       "                        <td id=\"T_beb0d_row1_col7\" class=\"data row1 col7\" >-0.013013</td>\n",
       "                        <td id=\"T_beb0d_row1_col8\" class=\"data row1 col8\" >-0.014449</td>\n",
       "                        <td id=\"T_beb0d_row1_col9\" class=\"data row1 col9\" >-0.013837</td>\n",
       "            </tr>\n",
       "            <tr>\n",
       "                        <th id=\"T_beb0d_level0_row2\" class=\"row_heading level0 row2\" >Solids</th>\n",
       "                        <td id=\"T_beb0d_row2_col0\" class=\"data row2 col0\" >-0.089288</td>\n",
       "                        <td id=\"T_beb0d_row2_col1\" class=\"data row2 col1\" >-0.046899</td>\n",
       "                        <td id=\"T_beb0d_row2_col2\" class=\"data row2 col2\" >1.000000</td>\n",
       "                        <td id=\"T_beb0d_row2_col3\" class=\"data row2 col3\" >-0.070148</td>\n",
       "                        <td id=\"T_beb0d_row2_col4\" class=\"data row2 col4\" >-0.171804</td>\n",
       "                        <td id=\"T_beb0d_row2_col5\" class=\"data row2 col5\" >0.013831</td>\n",
       "                        <td id=\"T_beb0d_row2_col6\" class=\"data row2 col6\" >0.010242</td>\n",
       "                        <td id=\"T_beb0d_row2_col7\" class=\"data row2 col7\" >-0.009143</td>\n",
       "                        <td id=\"T_beb0d_row2_col8\" class=\"data row2 col8\" >0.019546</td>\n",
       "                        <td id=\"T_beb0d_row2_col9\" class=\"data row2 col9\" >0.033743</td>\n",
       "            </tr>\n",
       "            <tr>\n",
       "                        <th id=\"T_beb0d_level0_row3\" class=\"row_heading level0 row3\" >Chloramines</th>\n",
       "                        <td id=\"T_beb0d_row3_col0\" class=\"data row3 col0\" >-0.034350</td>\n",
       "                        <td id=\"T_beb0d_row3_col1\" class=\"data row3 col1\" >-0.030054</td>\n",
       "                        <td id=\"T_beb0d_row3_col2\" class=\"data row3 col2\" >-0.070148</td>\n",
       "                        <td id=\"T_beb0d_row3_col3\" class=\"data row3 col3\" >1.000000</td>\n",
       "                        <td id=\"T_beb0d_row3_col4\" class=\"data row3 col4\" >0.027244</td>\n",
       "                        <td id=\"T_beb0d_row3_col5\" class=\"data row3 col5\" >-0.020486</td>\n",
       "                        <td id=\"T_beb0d_row3_col6\" class=\"data row3 col6\" >-0.012653</td>\n",
       "                        <td id=\"T_beb0d_row3_col7\" class=\"data row3 col7\" >0.017084</td>\n",
       "                        <td id=\"T_beb0d_row3_col8\" class=\"data row3 col8\" >0.002363</td>\n",
       "                        <td id=\"T_beb0d_row3_col9\" class=\"data row3 col9\" >0.023779</td>\n",
       "            </tr>\n",
       "            <tr>\n",
       "                        <th id=\"T_beb0d_level0_row4\" class=\"row_heading level0 row4\" >Sulfate</th>\n",
       "                        <td id=\"T_beb0d_row4_col0\" class=\"data row4 col0\" >0.018203</td>\n",
       "                        <td id=\"T_beb0d_row4_col1\" class=\"data row4 col1\" >-0.106923</td>\n",
       "                        <td id=\"T_beb0d_row4_col2\" class=\"data row4 col2\" >-0.171804</td>\n",
       "                        <td id=\"T_beb0d_row4_col3\" class=\"data row4 col3\" >0.027244</td>\n",
       "                        <td id=\"T_beb0d_row4_col4\" class=\"data row4 col4\" >1.000000</td>\n",
       "                        <td id=\"T_beb0d_row4_col5\" class=\"data row4 col5\" >-0.016121</td>\n",
       "                        <td id=\"T_beb0d_row4_col6\" class=\"data row4 col6\" >0.030831</td>\n",
       "                        <td id=\"T_beb0d_row4_col7\" class=\"data row4 col7\" >-0.030274</td>\n",
       "                        <td id=\"T_beb0d_row4_col8\" class=\"data row4 col8\" >-0.011187</td>\n",
       "                        <td id=\"T_beb0d_row4_col9\" class=\"data row4 col9\" >-0.023577</td>\n",
       "            </tr>\n",
       "            <tr>\n",
       "                        <th id=\"T_beb0d_level0_row5\" class=\"row_heading level0 row5\" >Conductivity</th>\n",
       "                        <td id=\"T_beb0d_row5_col0\" class=\"data row5 col0\" >0.018614</td>\n",
       "                        <td id=\"T_beb0d_row5_col1\" class=\"data row5 col1\" >-0.023915</td>\n",
       "                        <td id=\"T_beb0d_row5_col2\" class=\"data row5 col2\" >0.013831</td>\n",
       "                        <td id=\"T_beb0d_row5_col3\" class=\"data row5 col3\" >-0.020486</td>\n",
       "                        <td id=\"T_beb0d_row5_col4\" class=\"data row5 col4\" >-0.016121</td>\n",
       "                        <td id=\"T_beb0d_row5_col5\" class=\"data row5 col5\" >1.000000</td>\n",
       "                        <td id=\"T_beb0d_row5_col6\" class=\"data row5 col6\" >0.020966</td>\n",
       "                        <td id=\"T_beb0d_row5_col7\" class=\"data row5 col7\" >0.001285</td>\n",
       "                        <td id=\"T_beb0d_row5_col8\" class=\"data row5 col8\" >0.005798</td>\n",
       "                        <td id=\"T_beb0d_row5_col9\" class=\"data row5 col9\" >-0.008128</td>\n",
       "            </tr>\n",
       "            <tr>\n",
       "                        <th id=\"T_beb0d_level0_row6\" class=\"row_heading level0 row6\" >Organic_carbon</th>\n",
       "                        <td id=\"T_beb0d_row6_col0\" class=\"data row6 col0\" >0.043503</td>\n",
       "                        <td id=\"T_beb0d_row6_col1\" class=\"data row6 col1\" >0.003610</td>\n",
       "                        <td id=\"T_beb0d_row6_col2\" class=\"data row6 col2\" >0.010242</td>\n",
       "                        <td id=\"T_beb0d_row6_col3\" class=\"data row6 col3\" >-0.012653</td>\n",
       "                        <td id=\"T_beb0d_row6_col4\" class=\"data row6 col4\" >0.030831</td>\n",
       "                        <td id=\"T_beb0d_row6_col5\" class=\"data row6 col5\" >0.020966</td>\n",
       "                        <td id=\"T_beb0d_row6_col6\" class=\"data row6 col6\" >1.000000</td>\n",
       "                        <td id=\"T_beb0d_row6_col7\" class=\"data row6 col7\" >-0.013274</td>\n",
       "                        <td id=\"T_beb0d_row6_col8\" class=\"data row6 col8\" >-0.027308</td>\n",
       "                        <td id=\"T_beb0d_row6_col9\" class=\"data row6 col9\" >-0.030001</td>\n",
       "            </tr>\n",
       "            <tr>\n",
       "                        <th id=\"T_beb0d_level0_row7\" class=\"row_heading level0 row7\" >Trihalomethanes</th>\n",
       "                        <td id=\"T_beb0d_row7_col0\" class=\"data row7 col0\" >0.003354</td>\n",
       "                        <td id=\"T_beb0d_row7_col1\" class=\"data row7 col1\" >-0.013013</td>\n",
       "                        <td id=\"T_beb0d_row7_col2\" class=\"data row7 col2\" >-0.009143</td>\n",
       "                        <td id=\"T_beb0d_row7_col3\" class=\"data row7 col3\" >0.017084</td>\n",
       "                        <td id=\"T_beb0d_row7_col4\" class=\"data row7 col4\" >-0.030274</td>\n",
       "                        <td id=\"T_beb0d_row7_col5\" class=\"data row7 col5\" >0.001285</td>\n",
       "                        <td id=\"T_beb0d_row7_col6\" class=\"data row7 col6\" >-0.013274</td>\n",
       "                        <td id=\"T_beb0d_row7_col7\" class=\"data row7 col7\" >1.000000</td>\n",
       "                        <td id=\"T_beb0d_row7_col8\" class=\"data row7 col8\" >-0.022145</td>\n",
       "                        <td id=\"T_beb0d_row7_col9\" class=\"data row7 col9\" >0.007130</td>\n",
       "            </tr>\n",
       "            <tr>\n",
       "                        <th id=\"T_beb0d_level0_row8\" class=\"row_heading level0 row8\" >Turbidity</th>\n",
       "                        <td id=\"T_beb0d_row8_col0\" class=\"data row8 col0\" >-0.039057</td>\n",
       "                        <td id=\"T_beb0d_row8_col1\" class=\"data row8 col1\" >-0.014449</td>\n",
       "                        <td id=\"T_beb0d_row8_col2\" class=\"data row8 col2\" >0.019546</td>\n",
       "                        <td id=\"T_beb0d_row8_col3\" class=\"data row8 col3\" >0.002363</td>\n",
       "                        <td id=\"T_beb0d_row8_col4\" class=\"data row8 col4\" >-0.011187</td>\n",
       "                        <td id=\"T_beb0d_row8_col5\" class=\"data row8 col5\" >0.005798</td>\n",
       "                        <td id=\"T_beb0d_row8_col6\" class=\"data row8 col6\" >-0.027308</td>\n",
       "                        <td id=\"T_beb0d_row8_col7\" class=\"data row8 col7\" >-0.022145</td>\n",
       "                        <td id=\"T_beb0d_row8_col8\" class=\"data row8 col8\" >1.000000</td>\n",
       "                        <td id=\"T_beb0d_row8_col9\" class=\"data row8 col9\" >0.001581</td>\n",
       "            </tr>\n",
       "            <tr>\n",
       "                        <th id=\"T_beb0d_level0_row9\" class=\"row_heading level0 row9\" >Potability</th>\n",
       "                        <td id=\"T_beb0d_row9_col0\" class=\"data row9 col0\" >-0.003556</td>\n",
       "                        <td id=\"T_beb0d_row9_col1\" class=\"data row9 col1\" >-0.013837</td>\n",
       "                        <td id=\"T_beb0d_row9_col2\" class=\"data row9 col2\" >0.033743</td>\n",
       "                        <td id=\"T_beb0d_row9_col3\" class=\"data row9 col3\" >0.023779</td>\n",
       "                        <td id=\"T_beb0d_row9_col4\" class=\"data row9 col4\" >-0.023577</td>\n",
       "                        <td id=\"T_beb0d_row9_col5\" class=\"data row9 col5\" >-0.008128</td>\n",
       "                        <td id=\"T_beb0d_row9_col6\" class=\"data row9 col6\" >-0.030001</td>\n",
       "                        <td id=\"T_beb0d_row9_col7\" class=\"data row9 col7\" >0.007130</td>\n",
       "                        <td id=\"T_beb0d_row9_col8\" class=\"data row9 col8\" >0.001581</td>\n",
       "                        <td id=\"T_beb0d_row9_col9\" class=\"data row9 col9\" >1.000000</td>\n",
       "            </tr>\n",
       "    </tbody></table>"
      ],
      "text/plain": [
       "<pandas.io.formats.style.Styler at 0x13fc10f40>"
      ]
     },
     "execution_count": 14,
     "metadata": {},
     "output_type": "execute_result"
    }
   ],
   "source": [
    "df.corr().style.background_gradient(cmap='coolwarm')"
   ]
  },
  {
   "cell_type": "code",
   "execution_count": 15,
   "id": "bebfab35",
   "metadata": {},
   "outputs": [],
   "source": [
    "# find the correlations\n",
    "# keep the values or get rid of them\n",
    "# conductivity to ph level chart"
   ]
  },
  {
   "cell_type": "markdown",
   "id": "49f6384a",
   "metadata": {},
   "source": [
    "### Data cleaning"
   ]
  },
  {
   "cell_type": "markdown",
   "id": "ce292d78",
   "metadata": {},
   "source": [
    "#### Try dropping all NA values"
   ]
  },
  {
   "cell_type": "code",
   "execution_count": 16,
   "id": "51387f16",
   "metadata": {},
   "outputs": [],
   "source": [
    "df_drop = df.dropna()"
   ]
  },
  {
   "cell_type": "code",
   "execution_count": 17,
   "id": "55ce0630",
   "metadata": {},
   "outputs": [
    {
     "name": "stdout",
     "output_type": "stream",
     "text": [
      "<class 'pandas.core.frame.DataFrame'>\n",
      "Int64Index: 2011 entries, 3 to 3271\n",
      "Data columns (total 10 columns):\n",
      " #   Column           Non-Null Count  Dtype  \n",
      "---  ------           --------------  -----  \n",
      " 0   ph               2011 non-null   float64\n",
      " 1   Hardness         2011 non-null   float64\n",
      " 2   Solids           2011 non-null   float64\n",
      " 3   Chloramines      2011 non-null   float64\n",
      " 4   Sulfate          2011 non-null   float64\n",
      " 5   Conductivity     2011 non-null   float64\n",
      " 6   Organic_carbon   2011 non-null   float64\n",
      " 7   Trihalomethanes  2011 non-null   float64\n",
      " 8   Turbidity        2011 non-null   float64\n",
      " 9   Potability       2011 non-null   int64  \n",
      "dtypes: float64(9), int64(1)\n",
      "memory usage: 172.8 KB\n"
     ]
    }
   ],
   "source": [
    "df_drop.info()"
   ]
  },
  {
   "cell_type": "code",
   "execution_count": 18,
   "id": "ab60075c",
   "metadata": {
    "scrolled": true
   },
   "outputs": [
    {
     "data": {
      "text/html": [
       "<div>\n",
       "<style scoped>\n",
       "    .dataframe tbody tr th:only-of-type {\n",
       "        vertical-align: middle;\n",
       "    }\n",
       "\n",
       "    .dataframe tbody tr th {\n",
       "        vertical-align: top;\n",
       "    }\n",
       "\n",
       "    .dataframe thead th {\n",
       "        text-align: right;\n",
       "    }\n",
       "</style>\n",
       "<table border=\"1\" class=\"dataframe\">\n",
       "  <thead>\n",
       "    <tr style=\"text-align: right;\">\n",
       "      <th></th>\n",
       "      <th>count</th>\n",
       "      <th>mean</th>\n",
       "      <th>std</th>\n",
       "      <th>min</th>\n",
       "      <th>25%</th>\n",
       "      <th>50%</th>\n",
       "      <th>75%</th>\n",
       "      <th>max</th>\n",
       "    </tr>\n",
       "  </thead>\n",
       "  <tbody>\n",
       "    <tr>\n",
       "      <th>ph</th>\n",
       "      <td>2011.0</td>\n",
       "      <td>7.085990</td>\n",
       "      <td>1.573337</td>\n",
       "      <td>0.227499</td>\n",
       "      <td>6.089723</td>\n",
       "      <td>7.027297</td>\n",
       "      <td>8.052969</td>\n",
       "      <td>14.000000</td>\n",
       "    </tr>\n",
       "    <tr>\n",
       "      <th>Hardness</th>\n",
       "      <td>2011.0</td>\n",
       "      <td>195.968072</td>\n",
       "      <td>32.635085</td>\n",
       "      <td>73.492234</td>\n",
       "      <td>176.744938</td>\n",
       "      <td>197.191839</td>\n",
       "      <td>216.441070</td>\n",
       "      <td>317.338124</td>\n",
       "    </tr>\n",
       "    <tr>\n",
       "      <th>Solids</th>\n",
       "      <td>2011.0</td>\n",
       "      <td>21917.441374</td>\n",
       "      <td>8642.239815</td>\n",
       "      <td>320.942611</td>\n",
       "      <td>15615.665390</td>\n",
       "      <td>20933.512750</td>\n",
       "      <td>27182.587067</td>\n",
       "      <td>56488.672413</td>\n",
       "    </tr>\n",
       "    <tr>\n",
       "      <th>Chloramines</th>\n",
       "      <td>2011.0</td>\n",
       "      <td>7.134338</td>\n",
       "      <td>1.584820</td>\n",
       "      <td>1.390871</td>\n",
       "      <td>6.138895</td>\n",
       "      <td>7.143907</td>\n",
       "      <td>8.109726</td>\n",
       "      <td>13.127000</td>\n",
       "    </tr>\n",
       "    <tr>\n",
       "      <th>Sulfate</th>\n",
       "      <td>2011.0</td>\n",
       "      <td>333.224672</td>\n",
       "      <td>41.205172</td>\n",
       "      <td>129.000000</td>\n",
       "      <td>307.632511</td>\n",
       "      <td>332.232177</td>\n",
       "      <td>359.330555</td>\n",
       "      <td>481.030642</td>\n",
       "    </tr>\n",
       "    <tr>\n",
       "      <th>Conductivity</th>\n",
       "      <td>2011.0</td>\n",
       "      <td>426.526409</td>\n",
       "      <td>80.712572</td>\n",
       "      <td>201.619737</td>\n",
       "      <td>366.680307</td>\n",
       "      <td>423.455906</td>\n",
       "      <td>482.373169</td>\n",
       "      <td>753.342620</td>\n",
       "    </tr>\n",
       "    <tr>\n",
       "      <th>Organic_carbon</th>\n",
       "      <td>2011.0</td>\n",
       "      <td>14.357709</td>\n",
       "      <td>3.324959</td>\n",
       "      <td>2.200000</td>\n",
       "      <td>12.124105</td>\n",
       "      <td>14.322019</td>\n",
       "      <td>16.683049</td>\n",
       "      <td>27.006707</td>\n",
       "    </tr>\n",
       "    <tr>\n",
       "      <th>Trihalomethanes</th>\n",
       "      <td>2011.0</td>\n",
       "      <td>66.400859</td>\n",
       "      <td>16.077109</td>\n",
       "      <td>8.577013</td>\n",
       "      <td>55.952664</td>\n",
       "      <td>66.542198</td>\n",
       "      <td>77.291925</td>\n",
       "      <td>124.000000</td>\n",
       "    </tr>\n",
       "    <tr>\n",
       "      <th>Turbidity</th>\n",
       "      <td>2011.0</td>\n",
       "      <td>3.969729</td>\n",
       "      <td>0.780346</td>\n",
       "      <td>1.450000</td>\n",
       "      <td>3.442915</td>\n",
       "      <td>3.968177</td>\n",
       "      <td>4.514175</td>\n",
       "      <td>6.494749</td>\n",
       "    </tr>\n",
       "    <tr>\n",
       "      <th>Potability</th>\n",
       "      <td>2011.0</td>\n",
       "      <td>0.403282</td>\n",
       "      <td>0.490678</td>\n",
       "      <td>0.000000</td>\n",
       "      <td>0.000000</td>\n",
       "      <td>0.000000</td>\n",
       "      <td>1.000000</td>\n",
       "      <td>1.000000</td>\n",
       "    </tr>\n",
       "  </tbody>\n",
       "</table>\n",
       "</div>"
      ],
      "text/plain": [
       "                  count          mean          std         min           25%  \\\n",
       "ph               2011.0      7.085990     1.573337    0.227499      6.089723   \n",
       "Hardness         2011.0    195.968072    32.635085   73.492234    176.744938   \n",
       "Solids           2011.0  21917.441374  8642.239815  320.942611  15615.665390   \n",
       "Chloramines      2011.0      7.134338     1.584820    1.390871      6.138895   \n",
       "Sulfate          2011.0    333.224672    41.205172  129.000000    307.632511   \n",
       "Conductivity     2011.0    426.526409    80.712572  201.619737    366.680307   \n",
       "Organic_carbon   2011.0     14.357709     3.324959    2.200000     12.124105   \n",
       "Trihalomethanes  2011.0     66.400859    16.077109    8.577013     55.952664   \n",
       "Turbidity        2011.0      3.969729     0.780346    1.450000      3.442915   \n",
       "Potability       2011.0      0.403282     0.490678    0.000000      0.000000   \n",
       "\n",
       "                          50%           75%           max  \n",
       "ph                   7.027297      8.052969     14.000000  \n",
       "Hardness           197.191839    216.441070    317.338124  \n",
       "Solids           20933.512750  27182.587067  56488.672413  \n",
       "Chloramines          7.143907      8.109726     13.127000  \n",
       "Sulfate            332.232177    359.330555    481.030642  \n",
       "Conductivity       423.455906    482.373169    753.342620  \n",
       "Organic_carbon      14.322019     16.683049     27.006707  \n",
       "Trihalomethanes     66.542198     77.291925    124.000000  \n",
       "Turbidity            3.968177      4.514175      6.494749  \n",
       "Potability           0.000000      1.000000      1.000000  "
      ]
     },
     "execution_count": 18,
     "metadata": {},
     "output_type": "execute_result"
    }
   ],
   "source": [
    "df_drop.describe().T"
   ]
  },
  {
   "cell_type": "markdown",
   "id": "8a873a1e",
   "metadata": {},
   "source": [
    "#### Splitting the data set"
   ]
  },
  {
   "cell_type": "code",
   "execution_count": 19,
   "id": "9baf4524",
   "metadata": {},
   "outputs": [],
   "source": [
    "X = df.drop(columns=['Potability'])\n",
    "y = df['Potability']"
   ]
  },
  {
   "cell_type": "code",
   "execution_count": 20,
   "id": "cf2af166",
   "metadata": {
    "scrolled": true
   },
   "outputs": [],
   "source": [
    "X_train, X_test, y_train, y_test = train_test_split(X, y, test_size=0.2, random_state=42)"
   ]
  },
  {
   "cell_type": "markdown",
   "id": "24bafc40",
   "metadata": {},
   "source": [
    "### Scale the data and get a baseline"
   ]
  },
  {
   "cell_type": "code",
   "execution_count": 21,
   "id": "58e939be",
   "metadata": {
    "scrolled": false
   },
   "outputs": [
    {
     "data": {
      "image/png": "[encoded data removed]",
      "text/plain": [
       "<Figure size 720x432 with 1 Axes>"
      ]
     },
     "metadata": {
      "needs_background": "light"
     },
     "output_type": "display_data"
    }
   ],
   "source": [
    "plt.figure(figsize=(10,6))\n",
    "plt.boxplot(df);"
   ]
  },
  {
   "cell_type": "code",
   "execution_count": 22,
   "id": "4aca4daa",
   "metadata": {},
   "outputs": [],
   "source": [
    "KImputer = KNNImputer(n_neighbors=5)\n",
    "SImputer = SimpleImputer(strategy='mean')"
   ]
  },
  {
   "cell_type": "code",
   "execution_count": 23,
   "id": "a6f001b7",
   "metadata": {},
   "outputs": [],
   "source": [
    "preproc_numerical_baseline = make_pipeline(\n",
    "    KImputer,\n",
    "    MinMaxScaler())"
   ]
  },
  {
   "cell_type": "code",
   "execution_count": 24,
   "id": "2101064a",
   "metadata": {},
   "outputs": [
    {
     "data": {
      "text/plain": [
       "array([[0.47311525, 0.51891596, 0.27171856, ..., 0.48238685, 0.49079027,\n",
       "        0.27120552],\n",
       "       [0.47747855, 0.4821049 , 0.55255029, ..., 0.18584249, 0.50493346,\n",
       "        0.4838104 ],\n",
       "       [0.48829   , 0.52948183, 0.29079386, ..., 0.39439087, 0.53994235,\n",
       "        0.65950789],\n",
       "       ...,\n",
       "       [0.47359742, 0.45374375, 0.49935618, ..., 0.39467646, 0.67841861,\n",
       "        0.38087663],\n",
       "       [0.62736912, 0.57901528, 0.2554584 , ..., 0.50077611, 0.3360708 ,\n",
       "        0.53021533],\n",
       "       [0.47843956, 0.49991248, 0.56112371, ..., 0.32617631, 0.48318285,\n",
       "        0.4318777 ]])"
      ]
     },
     "execution_count": 24,
     "metadata": {},
     "output_type": "execute_result"
    }
   ],
   "source": [
    "X_train_transformed = preproc_numerical_baseline.fit_transform(X_train)\n",
    "X_train_transformed"
   ]
  },
  {
   "cell_type": "code",
   "execution_count": 25,
   "id": "620026eb",
   "metadata": {},
   "outputs": [
    {
     "data": {
      "text/plain": [
       "array([[0.46018587, 0.44076471, 0.32616544, ..., 0.66060947, 0.50804638,\n",
       "        0.6469527 ],\n",
       "       [0.47451134, 0.46236627, 0.53133711, ..., 0.43191524, 0.51516878,\n",
       "        0.58511758],\n",
       "       [0.56043271, 0.60315498, 0.37249485, ..., 0.37758277, 0.30131296,\n",
       "        0.18978488],\n",
       "       ...,\n",
       "       [0.53279606, 0.57768247, 0.309227  , ..., 0.42161289, 0.42323059,\n",
       "        0.44767256],\n",
       "       [0.41876009, 0.44695027, 0.71639066, ..., 0.4569598 , 0.44403475,\n",
       "        0.76527014],\n",
       "       [0.52170164, 0.58910888, 0.45300877, ..., 0.54999764, 0.67923865,\n",
       "        0.39593014]])"
      ]
     },
     "execution_count": 25,
     "metadata": {},
     "output_type": "execute_result"
    }
   ],
   "source": [
    "X_test_transformed = preproc_numerical_baseline.transform(X_test)\n",
    "X_test_transformed"
   ]
  },
  {
   "cell_type": "code",
   "execution_count": 26,
   "id": "ae150066",
   "metadata": {},
   "outputs": [
    {
     "data": {
      "image/png": "[encoded data removed]",
      "text/plain": [
       "<Figure size 720x432 with 1 Axes>"
      ]
     },
     "metadata": {
      "needs_background": "light"
     },
     "output_type": "display_data"
    }
   ],
   "source": [
    "plt.figure(figsize=(10,6))\n",
    "plt.boxplot(X_train_transformed);"
   ]
  },
  {
   "cell_type": "code",
   "execution_count": 27,
   "id": "703f121e",
   "metadata": {},
   "outputs": [],
   "source": [
    "log_model = LogisticRegression(random_state=42).fit(X_train_transformed, y_train)"
   ]
  },
  {
   "cell_type": "code",
   "execution_count": 28,
   "id": "9649f3eb",
   "metadata": {},
   "outputs": [],
   "source": [
    "y_pred = log_model.predict(X_test_transformed)"
   ]
  },
  {
   "cell_type": "code",
   "execution_count": 29,
   "id": "d72a62e8",
   "metadata": {},
   "outputs": [
    {
     "data": {
      "text/plain": [
       "0.6053435114503817"
      ]
     },
     "execution_count": 29,
     "metadata": {},
     "output_type": "execute_result"
    }
   ],
   "source": [
    "log_model.score(X_train_transformed, y_train)"
   ]
  },
  {
   "cell_type": "code",
   "execution_count": 30,
   "id": "380f5f75",
   "metadata": {},
   "outputs": [
    {
     "data": {
      "text/plain": [
       "array([0, 0, 0, 0, 0, 0, 0, 0, 0, 0, 0, 0, 0, 0, 0, 0, 0, 0, 0, 0, 0, 0,\n",
       "       0, 0, 0, 0, 0, 0, 0, 0, 0, 0, 0, 0, 0, 0, 0, 0, 0, 0, 0, 0, 0, 0,\n",
       "       0, 0, 0, 0, 0, 0, 0, 0, 0, 0, 0, 0, 0, 0, 0, 0, 0, 0, 0, 0, 0, 0,\n",
       "       0, 0, 0, 0, 0, 0, 0, 0, 0, 0, 0, 0, 0, 0, 0, 0, 0, 0, 0, 0, 0, 0,\n",
       "       0, 0, 0, 0, 0, 0, 0, 0, 0, 0, 0, 0, 0, 0, 0, 0, 0, 0, 0, 0, 0, 0,\n",
       "       0, 0, 0, 0, 0, 0, 0, 0, 0, 0, 0, 0, 0, 0, 0, 0, 0, 0, 0, 0, 0, 0,\n",
       "       0, 0, 0, 0, 0, 0, 0, 0, 0, 0, 0, 0, 0, 0, 0, 0, 0, 0, 0, 0, 0, 0,\n",
       "       0, 0, 0, 0, 0, 0, 0, 0, 0, 0, 0, 0, 0, 0, 0, 0, 0, 0, 0, 0, 0, 0,\n",
       "       0, 0, 0, 0, 0, 0, 0, 0, 0, 0, 0, 0, 0, 0, 0, 0, 0, 0, 0, 0, 0, 0,\n",
       "       0, 0, 0, 0, 0, 0, 0, 0, 0, 0, 0, 0, 0, 0, 0, 0, 0, 0, 0, 0, 0, 0,\n",
       "       0, 0, 0, 0, 0, 0, 0, 0, 0, 0, 0, 0, 0, 0, 0, 0, 0, 0, 0, 0, 0, 0,\n",
       "       0, 0, 0, 0, 0, 0, 0, 0, 0, 0, 0, 0, 0, 0, 0, 0, 0, 0, 0, 0, 0, 0,\n",
       "       0, 0, 0, 0, 0, 0, 0, 0, 0, 0, 0, 0, 0, 0, 0, 0, 0, 0, 0, 0, 0, 0,\n",
       "       0, 0, 0, 0, 0, 0, 0, 0, 0, 0, 0, 0, 0, 0, 0, 0, 0, 0, 0, 0, 0, 0,\n",
       "       0, 0, 0, 0, 0, 0, 0, 0, 0, 0, 0, 0, 0, 0, 0, 0, 0, 0, 0, 0, 0, 0,\n",
       "       0, 0, 0, 0, 0, 0, 0, 0, 0, 0, 0, 0, 0, 0, 0, 0, 0, 0, 0, 0, 0, 0,\n",
       "       0, 0, 0, 0, 0, 0, 0, 0, 0, 0, 0, 0, 0, 0, 0, 0, 0, 0, 0, 0, 0, 0,\n",
       "       0, 0, 0, 0, 0, 0, 0, 0, 0, 0, 0, 0, 0, 0, 0, 0, 0, 0, 0, 0, 0, 0,\n",
       "       0, 0, 0, 0, 0, 0, 0, 0, 0, 0, 0, 0, 0, 0, 0, 0, 0, 0, 0, 0, 0, 0,\n",
       "       0, 0, 0, 0, 0, 0, 0, 0, 0, 0, 0, 0, 0, 0, 0, 0, 0, 0, 0, 0, 0, 0,\n",
       "       0, 0, 0, 0, 0, 0, 0, 0, 0, 0, 0, 0, 0, 0, 0, 0, 0, 0, 0, 0, 0, 0,\n",
       "       0, 0, 0, 0, 0, 0, 0, 0, 0, 0, 0, 0, 0, 0, 0, 0, 0, 0, 0, 0, 0, 0,\n",
       "       0, 0, 0, 0, 0, 0, 0, 0, 0, 0, 0, 0, 0, 0, 0, 0, 0, 0, 0, 0, 0, 0,\n",
       "       0, 0, 0, 0, 0, 0, 0, 0, 0, 0, 0, 0, 0, 0, 0, 0, 0, 0, 0, 0, 0, 0,\n",
       "       0, 0, 0, 0, 0, 0, 0, 0, 0, 0, 0, 0, 0, 0, 0, 0, 0, 0, 0, 0, 0, 0,\n",
       "       0, 0, 0, 0, 0, 0, 0, 0, 0, 0, 0, 0, 0, 0, 0, 0, 0, 0, 0, 0, 0, 0,\n",
       "       0, 0, 0, 0, 0, 0, 0, 0, 0, 0, 0, 0, 0, 0, 0, 0, 0, 0, 0, 0, 0, 0,\n",
       "       0, 0, 0, 0, 0, 0, 0, 0, 0, 0, 0, 0, 0, 0, 0, 0, 0, 0, 0, 0, 0, 0,\n",
       "       0, 0, 0, 0, 0, 0, 0, 0, 0, 0, 0, 0, 0, 0, 0, 0, 0, 0, 0, 0, 0, 0,\n",
       "       0, 0, 0, 0, 0, 0, 0, 0, 0, 0, 0, 0, 0, 0, 0, 0, 0, 0])"
      ]
     },
     "execution_count": 30,
     "metadata": {},
     "output_type": "execute_result"
    }
   ],
   "source": [
    "y_pred"
   ]
  },
  {
   "cell_type": "code",
   "execution_count": 31,
   "id": "13638bab",
   "metadata": {},
   "outputs": [
    {
     "data": {
      "text/plain": [
       "2947    0\n",
       "2782    1\n",
       "1644    0\n",
       "70      0\n",
       "2045    1\n",
       "       ..\n",
       "208     0\n",
       "1578    1\n",
       "565     0\n",
       "313     1\n",
       "601     0\n",
       "Name: Potability, Length: 656, dtype: int64"
      ]
     },
     "execution_count": 31,
     "metadata": {},
     "output_type": "execute_result"
    }
   ],
   "source": [
    "y_test"
   ]
  },
  {
   "cell_type": "markdown",
   "id": "82fc3f75",
   "metadata": {},
   "source": [
    "### Logistic regression Grid scoring"
   ]
  },
  {
   "cell_type": "code",
   "execution_count": 32,
   "id": "5424eb23",
   "metadata": {},
   "outputs": [
    {
     "data": {
      "text/plain": [
       "{'C': 1.0,\n",
       " 'class_weight': None,\n",
       " 'dual': False,\n",
       " 'fit_intercept': True,\n",
       " 'intercept_scaling': 1,\n",
       " 'l1_ratio': None,\n",
       " 'max_iter': 100,\n",
       " 'multi_class': 'auto',\n",
       " 'n_jobs': None,\n",
       " 'penalty': 'l2',\n",
       " 'random_state': 42,\n",
       " 'solver': 'lbfgs',\n",
       " 'tol': 0.0001,\n",
       " 'verbose': 0,\n",
       " 'warm_start': False}"
      ]
     },
     "execution_count": 32,
     "metadata": {},
     "output_type": "execute_result"
    }
   ],
   "source": [
    "log_model.get_params()"
   ]
  },
  {
   "cell_type": "code",
   "execution_count": 33,
   "id": "aee970ae",
   "metadata": {},
   "outputs": [],
   "source": [
    "param_grid = {'C': (0.01, 0.1, 1, 10, 100),\n",
    "             'max_iter': (1, 10, 25, 50, 100, 200),\n",
    "            'tol': (0.0001, 0.001, 0.01)\n",
    "             }"
   ]
  },
  {
   "cell_type": "code",
   "execution_count": 34,
   "id": "948d0f52",
   "metadata": {},
   "outputs": [
    {
     "name": "stdout",
     "output_type": "stream",
     "text": [
      "{'C': 0.01, 'max_iter': 1, 'tol': 0.0001}\n"
     ]
    },
    {
     "name": "stderr",
     "output_type": "stream",
     "text": [
      "/Users/keirferguson/.pyenv/versions/3.8.6/envs/lewagon/lib/python3.8/site-packages/sklearn/linear_model/_logistic.py:763: ConvergenceWarning: lbfgs failed to converge (status=1):\n",
      "STOP: TOTAL NO. of ITERATIONS REACHED LIMIT.\n",
      "\n",
      "Increase the number of iterations (max_iter) or scale the data as shown in:\n",
      "    https://scikit-learn.org/stable/modules/preprocessing.html\n",
      "Please also refer to the documentation for alternative solver options:\n",
      "    https://scikit-learn.org/stable/modules/linear_model.html#logistic-regression\n",
      "  n_iter_i = _check_optimize_result(\n"
     ]
    },
    {
     "data": {
      "text/plain": [
       "0.6053435114503817"
      ]
     },
     "execution_count": 34,
     "metadata": {},
     "output_type": "execute_result"
    }
   ],
   "source": [
    "gridsearch = GridSearchCV(log_model, \n",
    "                          param_grid=param_grid, \n",
    "                          cv=10,  \n",
    "                          n_jobs=-1,\n",
    "                          scoring='accuracy')\n",
    "\n",
    "gridsearch.fit(X_train_transformed, y_train)\n",
    "print(gridsearch.best_params_)\n",
    "gridsearch.best_score_"
   ]
  },
  {
   "cell_type": "code",
   "execution_count": 35,
   "id": "efa71874",
   "metadata": {},
   "outputs": [
    {
     "name": "stdout",
     "output_type": "stream",
     "text": [
      "Fitting 10 folds for each of 10 candidates, totalling 100 fits\n",
      "{'tol': 0.001, 'max_iter': 200, 'C': 0.1}\n"
     ]
    },
    {
     "data": {
      "text/plain": [
       "0.6053435114503817"
      ]
     },
     "execution_count": 35,
     "metadata": {},
     "output_type": "execute_result"
    }
   ],
   "source": [
    "randomGrid = RandomizedSearchCV(log_model, \n",
    "                                param_distributions=param_grid,\n",
    "                                cv=10, \n",
    "                                n_jobs=-1, \n",
    "                                verbose=2, \n",
    "                                scoring='accuracy')\n",
    "\n",
    "randomGrid.fit(X_train_transformed, y_train)\n",
    "print(randomGrid.best_params_)\n",
    "randomGrid.best_score_"
   ]
  },
  {
   "cell_type": "code",
   "execution_count": 36,
   "id": "1d2c4453",
   "metadata": {},
   "outputs": [],
   "source": [
    "### "
   ]
  },
  {
   "cell_type": "code",
   "execution_count": null,
   "id": "51907b85",
   "metadata": {},
   "outputs": [],
   "source": []
  }
 ],
 "metadata": {
  "kernelspec": {
   "display_name": "Python 3",
   "language": "python",
   "name": "python3"
  },
  "language_info": {
   "codemirror_mode": {
    "name": "ipython",
    "version": 3
   },
   "file_extension": ".py",
   "mimetype": "text/x-python",
   "name": "python",
   "nbconvert_exporter": "python",
   "pygments_lexer": "ipython3",
   "version": "3.8.6"
  },
  "toc": {
   "base_numbering": 1,
   "nav_menu": {},
   "number_sections": true,
   "sideBar": true,
   "skip_h1_title": false,
   "title_cell": "Table of Contents",
   "title_sidebar": "Contents",
   "toc_cell": false,
   "toc_position": {},
   "toc_section_display": true,
   "toc_window_display": false
  }
 },
 "nbformat": 4,
 "nbformat_minor": 5
}
